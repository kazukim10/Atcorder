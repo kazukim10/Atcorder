{
 "cells": [
  {
   "cell_type": "code",
   "execution_count": 4,
   "metadata": {},
   "outputs": [
    {
     "output_type": "stream",
     "name": "stdout",
     "text": [
      "1 3 8\n"
     ]
    }
   ],
   "source": [
    "# ソート\n",
    "a = list(map(int,input().split()))\n",
    "\n",
    "a.sort()\n",
    "\n",
    "print(' '.join(map(str,a)))"
   ]
  },
  {
   "cell_type": "code",
   "execution_count": 7,
   "metadata": {},
   "outputs": [
    {
     "output_type": "stream",
     "name": "stdout",
     "text": [
      "Yes\n"
     ]
    }
   ],
   "source": [
    "# 長方形と円\n",
    "W,H,x,y,r = map(int,input().split())\n",
    "\n",
    "if 0<=-r+x and r+x <= W and 0 <= -r+y and r+y <= H:\n",
    "    print('Yes')\n",
    "else:\n",
    "    print('No')"
   ]
  },
  {
   "cell_type": "code",
   "execution_count": 11,
   "metadata": {},
   "outputs": [
    {
     "output_type": "stream",
     "name": "stdout",
     "text": [
      "Hello World\nHello World\nHello World\nHello World\nHello World\nHello World\nHello World\nHello World\nHello World\nHello World\n\n"
     ]
    }
   ],
   "source": [
    "# N times output\n",
    "hello = ['Hello World']*1000\n",
    "print('\\n'.join(hello))"
   ]
  },
  {
   "cell_type": "code",
   "execution_count": 1,
   "metadata": {},
   "outputs": [
    {
     "output_type": "stream",
     "name": "stdout",
     "text": [
      "case 1: 3\n",
      "case 2: 1\n",
      "case 3: 4\n"
     ]
    }
   ],
   "source": [
    "# 文字出力\n",
    "case = 0\n",
    "flag = 0\n",
    "while flag != 1:\n",
    "    case += 1\n",
    "    s = int(input())\n",
    "    if s != 0:\n",
    "        s = s\n",
    "        print('case {}: {}'.format(case,s))\n",
    "        \n",
    "    else:\n",
    "        flag = 1\n",
    "        break"
   ]
  },
  {
   "cell_type": "code",
   "execution_count": 3,
   "metadata": {},
   "outputs": [
    {
     "output_type": "stream",
     "name": "stdout",
     "text": [
      "2 3\n",
      "2 2\n",
      "3 5\n"
     ]
    }
   ],
   "source": [
    "# ITP1_3_C\n",
    "flag = 0\n",
    "while flag == 0:\n",
    "    x,y = map(int,input().split())\n",
    "\n",
    "    if x ==0 and y ==0:\n",
    "        flag = 1\n",
    "        break\n",
    "    elif x <y:\n",
    "        print(x,y)\n",
    "    else:\n",
    "        print(y,x)"
   ]
  },
  {
   "cell_type": "code",
   "execution_count": 4,
   "metadata": {},
   "outputs": [
    {
     "output_type": "stream",
     "name": "stdout",
     "text": [
      "3\n"
     ]
    }
   ],
   "source": [
    "# ITP1_3_D\n",
    "a,b,c = map(int,input().split())\n",
    "\n",
    "ans = 0\n",
    "for i in range(a,b+1):\n",
    "    if c%i == 0:\n",
    "        ans += 1\n",
    "print(ans)"
   ]
  },
  {
   "cell_type": "code",
   "execution_count": 12,
   "metadata": {},
   "outputs": [
    {
     "output_type": "stream",
     "name": "stdout",
     "text": [
      "0 1 0.3333333333\n"
     ]
    }
   ],
   "source": [
    "# ITP1_4_A\n",
    "a,b = map(int,input().split())\n",
    "\n",
    "print(a//b,a%b,'{:.10f}'.format(a/b))"
   ]
  },
  {
   "cell_type": "code",
   "execution_count": 15,
   "metadata": {},
   "outputs": [
    {
     "output_type": "stream",
     "name": "stdout",
     "text": [
      "12.5663706144 12.5663706144\n"
     ]
    }
   ],
   "source": [
    "# ITP1_4_B\n",
    "import math\n",
    "\n",
    "r = float(input())\n",
    "print('{:.10f} {:.10f}'.format(r**2*math.pi,2*r*math.pi))"
   ]
  },
  {
   "cell_type": "code",
   "execution_count": 17,
   "metadata": {},
   "outputs": [
    {
     "output_type": "stream",
     "name": "stdout",
     "text": [
      "3\n"
     ]
    }
   ],
   "source": [
    "# ITP1_4_D\n",
    "while True:\n",
    "    a,op,b = input().split()\n",
    "\n",
    "    if op == '?':\n",
    "        break\n",
    "    else:\n",
    "        a, b = int(a),int(b)\n",
    "\n",
    "        if op =='+':\n",
    "            print(a+b)\n",
    "        elif op =='-':\n",
    "            print(a-b)\n",
    "        elif op =='*':\n",
    "            print(a*b)\n",
    "        else:\n",
    "            print(a//b)"
   ]
  },
  {
   "cell_type": "code",
   "execution_count": 19,
   "metadata": {},
   "outputs": [
    {
     "output_type": "stream",
     "name": "stdout",
     "text": [
      "2 4 9\n"
     ]
    }
   ],
   "source": [
    "# ITP1_4_D\n",
    "N = int(input())\n",
    "A = list(map(int,input().split()))\n",
    "\n",
    "print(min(A),max(A),sum(A))"
   ]
  },
  {
   "cell_type": "code",
   "execution_count": 26,
   "metadata": {},
   "outputs": [
    {
     "output_type": "stream",
     "name": "stdout",
     "text": [
      "##\n##\n##\n\n"
     ]
    }
   ],
   "source": [
    "# ITP1_5_A\n",
    "while True:\n",
    "    H,W = map(int,input().split())\n",
    "\n",
    "    if H == 0 and W == 0:\n",
    "        break\n",
    "\n",
    "    else:\n",
    "        sq = [['#']*W]*H\n",
    "        for s in sq:\n",
    "            print(''.join(map(str,s)))\n",
    "        print()"
   ]
  },
  {
   "cell_type": "code",
   "execution_count": 35,
   "metadata": {},
   "outputs": [
    {
     "output_type": "stream",
     "name": "stdout",
     "text": [
      "###\n",
      "#.#\n",
      "###\n",
      "\n",
      "#####\n",
      "#...#\n",
      "#...#\n",
      "#####\n",
      "\n"
     ]
    }
   ],
   "source": [
    "# ITP1_5_B\n",
    "while True:\n",
    "    H,W = map(int,input().split())\n",
    "\n",
    "    if H == 0 and W == 0:\n",
    "        break\n",
    "\n",
    "    else:\n",
    "        sq = []\n",
    "        sq += [['#']*W]\n",
    "        sq += [['#']+['.']*(W-2)+['#']]*(H-2)\n",
    "        sq += [['#']*W]\n",
    "\n",
    "        for s in sq:\n",
    "            print(''.join(map(str,s)))\n",
    "        print()"
   ]
  },
  {
   "cell_type": "code",
   "execution_count": 39,
   "metadata": {},
   "outputs": [
    {
     "output_type": "stream",
     "name": "stdout",
     "text": [
      "#.#.\n",
      ".#.#\n",
      "#.#.\n",
      "\n",
      "#.#.#.\n",
      ".#.#.#\n",
      "#.#.#.\n",
      ".#.#.#\n",
      "#.#.#.\n",
      "\n"
     ]
    }
   ],
   "source": [
    "# ITP1_5_C\n",
    "while True:\n",
    "    H,W = map(int,input().split())\n",
    "\n",
    "    if H == 0 and W == 0:\n",
    "        break\n",
    "\n",
    "    else:\n",
    "        sq = []\n",
    "        for h in range(1,H+1):\n",
    "            if h%2==0:\n",
    "                tmp = ''\n",
    "                for w in range(1,W+1):\n",
    "                    if w%2==0:\n",
    "                        tmp += '#'\n",
    "                    else:\n",
    "                        tmp += '.'\n",
    "            else:\n",
    "                tmp = ''\n",
    "                for w in range(1,W+1):\n",
    "                    if w%2==0:\n",
    "                        tmp += '.'\n",
    "                    else:\n",
    "                        tmp += '#'\n",
    "            \n",
    "            print(tmp)\n",
    "        print()"
   ]
  },
  {
   "cell_type": "code",
   "execution_count": 49,
   "metadata": {},
   "outputs": [
    {
     "output_type": "stream",
     "name": "stdout",
     "text": [
      "  3 6 9 12 13 15 18 21 23 24 27 30\n"
     ]
    }
   ],
   "source": [
    "# ITP1_5_D\n",
    "N = int(input())\n",
    "ans = [' ']\n",
    "for i in range(3,N+1):\n",
    "    if i%3==0:\n",
    "        ans.append(i)\n",
    "\n",
    "    elif '3' in str(i):\n",
    "        ans.append(i)\n",
    "    \n",
    "print(' '.join(map(str,ans)))"
   ]
  },
  {
   "cell_type": "code",
   "execution_count": 50,
   "metadata": {},
   "outputs": [
    {
     "output_type": "stream",
     "name": "stdout",
     "text": [
      "5 4 3 2 1\n"
     ]
    }
   ],
   "source": [
    "# ITP1_6_A\n",
    "n = int(input())\n",
    "a = list(map(int,input().split()))\n",
    "\n",
    "ans = []\n",
    "for i in range(1,n+1):\n",
    "    ans.append(a[-i])\n",
    "print(' '.join(map(str,ans)))"
   ]
  },
  {
   "cell_type": "code",
   "execution_count": 53,
   "metadata": {},
   "outputs": [
    {
     "output_type": "stream",
     "name": "stdout",
     "text": [
      "S 1\nS 2\nS 4\nS 5\nS 6\nS 7\nS 8\nS 9\nS 10\nS 11\nS 12\nS 13\nH 1\nH 2\nH 3\nH 4\nH 5\nH 6\nH 7\nH 8\nH 9\nH 10\nH 11\nH 12\nH 13\nC 1\nC 2\nC 3\nC 4\nC 5\nC 6\nC 7\nC 8\nC 9\nC 10\nC 11\nC 12\nC 13\nD 1\nD 2\nD 3\nD 4\nD 5\nD 6\nD 7\nD 8\nD 9\nD 10\nD 11\nD 12\nD 13\n"
     ]
    }
   ],
   "source": [
    "# ITP1_6_B\n",
    "N = int(input())\n",
    "\n",
    "Sp,Ha,Cl,Da = [],[],[],[]\n",
    "\n",
    "for card in range(N):\n",
    "    mark,rank = input().split()\n",
    "\n",
    "    if mark == 'S':\n",
    "        Sp.append(int(rank))\n",
    "    elif mark == 'H':\n",
    "        Ha.append(int(rank))\n",
    "    elif mark == 'C':\n",
    "        Cl.append(int(rank))\n",
    "    else:\n",
    "        Da.append(int(rank))\n",
    "\n",
    "trump = {'S':Sp,'H':Ha,'C':Cl,'D':Da}\n",
    "for m,lis in trump.items():\n",
    "    for i in range(1,14):\n",
    "        if i not in lis:\n",
    "            print(m,i)"
   ]
  },
  {
   "cell_type": "code",
   "execution_count": 9,
   "metadata": {},
   "outputs": [
    {
     "output_type": "stream",
     "name": "stdout",
     "text": [
      " 1 0 0 0 0 0 0 0 0 0\n 0 0 0 0 0 0 0 0 0 0\n 0 0 0 0 0 0 0 0 0 0\n####################\n 0 0 0 0 0 0 0 0 0 0\n 0 0 0 0 0 0 0 0 0 0\n 0 0 0 0 0 0 0 0 0 0\n####################\n 0 0 0 0 0 0 0 0 0 0\n 0 0 0 0 0 0 0 0 0 0\n 0 0 0 0 0 0 0 0 0 0\n####################\n 0 0 0 0 0 0 0 0 0 0\n 0 0 0 0 0 0 0 0 0 0\n 0 0 0 0 0 0 0 0 0 0\n\n\n"
     ]
    }
   ],
   "source": [
    "# ITP1_6_C\n",
    "N = int(input())\n",
    "\n",
    "build = [[[0]*10 for i in range(3)] for j in range(4)]\n",
    "\n",
    "for n in range(N):\n",
    "    b,f,r,v = map(int,input().split())\n",
    "    build[b-1][f-1][r-1] += v\n",
    "\n",
    "x = 0\n",
    "\n",
    "for i in range(4):\n",
    "    if x != 0:\n",
    "        print(\"#\"*20)\n",
    "    x += 1\n",
    "\n",
    "    for a in range(3):\n",
    "        for b in range(10):\n",
    "            print(\" %d\"%(build[i][a][b]),end = \"\")\n",
    "        print()"
   ]
  },
  {
   "cell_type": "code",
   "execution_count": 27,
   "metadata": {},
   "outputs": [
    {
     "output_type": "stream",
     "name": "stdout",
     "text": [
      "[[1, 2, 0, 1], [0, 3, 0, 1], [4, 1, 1, 0]]\n[1, 2, 3, 0]\n[0, 0, 0]\n[5, 6, 9]\n"
     ]
    }
   ],
   "source": [
    "# ITP1_6_D\n",
    "n,m = map(int,input().split())\n",
    "\n",
    "A = [list(map(int,input().split())) for _ in range(n)]\n",
    "B = [int(input()) for _ in range(m)]\n",
    "\n",
    "C = [0]*n\n",
    "#print(A)\n",
    "#print(B)\n",
    "#print(C)\n",
    "\n",
    "for i in range(n):\n",
    "    for j in range(m):\n",
    "        C[i] += A[i][j]*B[j]\n",
    "\n",
    "print('\\n'.join(map(str,C)))"
   ]
  },
  {
   "cell_type": "code",
   "execution_count": null,
   "metadata": {},
   "outputs": [],
   "source": [
    "import numpy as np\n",
    "n,m = map(int,input().split())\n",
    "\n",
    "A = np.array([list(map(int,input().split())) for _ in range(n)])\n",
    "B = np.array([list(map(int,input())) for _ in range(m)])\n",
    "\n",
    "print(A.shape,B)\n",
    "C = A@B\n",
    "print('\\n'.join(map(str,C.tolist())))"
   ]
  },
  {
   "cell_type": "code",
   "execution_count": 6,
   "metadata": {},
   "outputs": [
    {
     "output_type": "stream",
     "name": "stdout",
     "text": [
      "end\n"
     ]
    }
   ],
   "source": [
    "# ITP1_7_A\n",
    "while True:\n",
    "    m,f,r = map(int,input().split())\n",
    "\n",
    "    if (m & f & r) == -1:\n",
    "        #print('end')\n",
    "        break\n",
    "    elif (m | f) == -1:\n",
    "        print('F')\n",
    "    elif m+f >= 80:\n",
    "        print('A')\n",
    "    elif 65 <= m+f < 80:\n",
    "        print('B')\n",
    "    elif 50 <= m+f < 65:\n",
    "        print('C')\n",
    "    elif 30 <= m+f < 50:\n",
    "        if r >= 50:\n",
    "            print('C')\n",
    "        else:\n",
    "            print('D')\n",
    "    else:\n",
    "        print('F')"
   ]
  },
  {
   "cell_type": "code",
   "execution_count": 19,
   "metadata": {},
   "outputs": [
    {
     "output_type": "stream",
     "name": "stdout",
     "text": [
      "0\n",
      "1 3 5\n",
      "2 3 4\n",
      "2\n",
      "0 0\n"
     ]
    }
   ],
   "source": [
    "# ITP1_7_B\n",
    "while True:\n",
    "    n,x = map(int,input().split())\n",
    "\n",
    "    if n==0 and x ==0:\n",
    "        #print(n,x)\n",
    "        break\n",
    "    \n",
    "    count = 0\n",
    "\n",
    "    for j in range(1,n+1):\n",
    "        for k in range(j+1,n+1):\n",
    "            # j,kが決まれば、最後の一つも決まる\n",
    "            if k < (x-j-k) <= n:\n",
    "                #print(j,k,x-j-k)\n",
    "                count += 1\n",
    "    print(count)"
   ]
  },
  {
   "cell_type": "code",
   "execution_count": 29,
   "metadata": {},
   "outputs": [
    {
     "output_type": "stream",
     "name": "stdout",
     "text": [
      "2 3 4 4 6 19\n2 3 4 4 6 19\n2 3 4 4 6 19\n2 3 4 4 6 19\n8 12 16 16 24 76\n"
     ]
    }
   ],
   "source": [
    "# ITP1_7_C\n",
    "r,c = map(int,input().split())\n",
    "\n",
    "sheet = []\n",
    "for row in range(r):\n",
    "    tmp = list(map(int,input().split()))\n",
    "    tmp += [sum(tmp)]\n",
    "    #print(tmp)\n",
    "    sheet.append(tmp)\n",
    "\n",
    "#print(sheet)\n",
    "total = []\n",
    "for col in range(c+1):\n",
    "    tmp = 0\n",
    "    for row in range(r):\n",
    "        #print(sheet[row][col])\n",
    "        tmp += sheet[row][col]\n",
    "    total.append(tmp)\n",
    "sheet.append(total)\n",
    "\n",
    "for row in sheet:\n",
    "    print(' '.join(map(str,row)))"
   ]
  },
  {
   "cell_type": "code",
   "execution_count": 43,
   "metadata": {},
   "outputs": [
    {
     "output_type": "stream",
     "name": "stdout",
     "text": [
      "6 2 16 12\n4 0 11 7\n"
     ]
    }
   ],
   "source": [
    "# ITP1_7_D\n",
    "# Listで行列積\n",
    "n,m,l = map(int,input().split())\n",
    "\n",
    "A = []\n",
    "for _ in range(n):\n",
    "    tmp = list(map(int,input().split()))\n",
    "    A.append(tmp)\n",
    "\n",
    "B = []\n",
    "for _ in range(m):\n",
    "    tmp = list(map(int,input().split()))\n",
    "    B.append(tmp)\n",
    "\n",
    "AB = [[0]*l for _ in range(n)]\n",
    "\n",
    "for i in range(n):\n",
    "    for j in range(m):\n",
    "        for k in range(l):\n",
    "            AB[i][k] += A[i][j]*B[j][k]\n",
    "            #print(AB)\n",
    "\n",
    "for ans in AB:\n",
    "    print(' '.join(map(str,ans)))"
   ]
  },
  {
   "cell_type": "code",
   "execution_count": 48,
   "metadata": {},
   "outputs": [
    {
     "output_type": "stream",
     "name": "stdout",
     "text": [
      "Fair, later, occasionally cloudy.\n"
     ]
    }
   ],
   "source": [
    "# ITP1_8_A\n",
    "S = input()\n",
    "\n",
    "ans = ''\n",
    "for s in S:\n",
    "    if s.lower() == s:\n",
    "        ans += s.upper()\n",
    "    elif s.upper() == s:\n",
    "        ans += s.lower()\n",
    "    else:\n",
    "        ans += s\n",
    "print(ans)"
   ]
  },
  {
   "cell_type": "code",
   "execution_count": 49,
   "metadata": {},
   "outputs": [
    {
     "output_type": "stream",
     "name": "stdout",
     "text": [
      "6\n",
      "10\n",
      "1\n"
     ]
    }
   ],
   "source": [
    "# ITP1_8_B\n",
    "while True:\n",
    "    x = input()\n",
    "    if x == '0':\n",
    "        break\n",
    "\n",
    "    ans = 0\n",
    "    for n in x:\n",
    "        ans += int(n)\n",
    "    print(ans)"
   ]
  },
  {
   "cell_type": "code",
   "execution_count": 56,
   "metadata": {},
   "outputs": [
    {
     "output_type": "stream",
     "name": "stdout",
     "text": [
      "a : 0\nb : 0\nc : 0\nd : 0\ne : 0\nf : 0\ng : 0\nh : 0\ni : 0\nj : 0\nk : 0\nl : 0\nm : 0\nn : 0\no : 0\np : 0\nq : 0\nr : 0\ns : 0\nt : 0\nu : 0\nv : 0\nw : 0\nx : 0\ny : 0\nz : 0\n"
     ]
    }
   ],
   "source": [
    "# ITP1_8_C\n",
    "import sys\n",
    "\n",
    "spell = 'abcdefghijklmnopqrstuvwxyz'\n",
    "s_dict = {}\n",
    "\n",
    "for s in spell:\n",
    "    s_dict[s] = 0\n",
    "#print(s_dict)\n",
    "\n",
    "\n",
    "X = sys.stdin.read()\n",
    "for x in X:\n",
    "    if x.lower() in s_dict:\n",
    "        s_dict[x.lower()] += 1\n",
    "\n",
    "for i,j in s_dict.items():\n",
    "    print('{} : {}'.format(i,int(j)))"
   ]
  },
  {
   "cell_type": "code",
   "execution_count": 59,
   "metadata": {},
   "outputs": [
    {
     "output_type": "stream",
     "name": "stdout",
     "text": [
      "Yes\n"
     ]
    }
   ],
   "source": [
    "# ITP1_8_D\n",
    "s = input()\n",
    "p = input()\n",
    "\n",
    "num = len(p)\n",
    "\n",
    "s = s[-num:]+s+s[:num]\n",
    "#print(s)\n",
    "\n",
    "ans = 'No'\n",
    "for i in range(len(s)-num):\n",
    "    if p == s[i:i+num]:\n",
    "        ans = 'Yes'\n",
    "        break\n",
    "print(ans)"
   ]
  },
  {
   "cell_type": "code",
   "execution_count": 60,
   "metadata": {},
   "outputs": [
    {
     "output_type": "stream",
     "name": "stdout",
     "text": [
      "3\n"
     ]
    }
   ],
   "source": [
    "# ITP1_9_A\n",
    "W = input().lower()\n",
    "\n",
    "count = 0\n",
    "while True:\n",
    "    T = input()\n",
    "    if 'END_OF_TEXT' == T:\n",
    "        break\n",
    "\n",
    "    for t in T.split():\n",
    "        if W == t.lower():\n",
    "            count += 1\n",
    "print(count)"
   ]
  },
  {
   "cell_type": "code",
   "execution_count": 61,
   "metadata": {},
   "outputs": [
    {
     "output_type": "stream",
     "name": "stdout",
     "text": [
      "abca\n",
      "caab\n",
      "aabc\n",
      "yzvwx\n",
      "xyzvw\n"
     ]
    }
   ],
   "source": [
    "# ITP1_9_B\n",
    "while True:\n",
    "    s = input()\n",
    "    if s == '-':\n",
    "        break\n",
    "    \n",
    "    m = int(input())\n",
    "    for _ in range(m):\n",
    "        h = int(input())\n",
    "        s = s[h:]+s[:h]\n",
    "    print(s)"
   ]
  },
  {
   "cell_type": "code",
   "execution_count": 65,
   "metadata": {},
   "outputs": [
    {
     "output_type": "stream",
     "name": "stdout",
     "text": [
      "7 1\n"
     ]
    }
   ],
   "source": [
    "# ITP1_9_C\n",
    "def battle(c1,c2):\n",
    "    if c1[0] != c2[0]:\n",
    "        return False\n",
    "    return True\n",
    "\n",
    "point = [0,0]\n",
    "\n",
    "n = int(input())\n",
    "for _ in range(n):\n",
    "    card = list(input().split())\n",
    "    sorted_c = sorted(card)\n",
    "    #print(card,sorted_c)\n",
    "\n",
    "    d = set(card)\n",
    "    if len(d) == 1:\n",
    "        point[0] += 1\n",
    "        point[1] += 1\n",
    "\n",
    "    elif battle(card,sorted_c):\n",
    "        point[1] += 3\n",
    "    else:\n",
    "        point[0] += 3\n",
    "print(point[0],point[1])"
   ]
  },
  {
   "cell_type": "code",
   "execution_count": 73,
   "metadata": {},
   "outputs": [
    {
     "output_type": "stream",
     "name": "stdout",
     "text": [
      "axyze\n",
      "yxaze\n",
      "yxaze\n",
      "yxaze\n"
     ]
    }
   ],
   "source": [
    "# ITP1_9_D\n",
    "s = input()\n",
    "n = int(input())\n",
    "\n",
    "for _ in range(n):\n",
    "    act = input().split()\n",
    "    #print(act)\n",
    "\n",
    "    if act[0] == 'replace':\n",
    "        s = s[:int(act[1])]+act[3]+s[int(act[2])+1:]\n",
    "        \n",
    "    elif act[0] == 'reverse':\n",
    "        tmp = ''\n",
    "        for r in s[int(act[1]):int(act[2])+1]:\n",
    "            tmp = r+tmp\n",
    "        s = s[:int(act[1])]+tmp+s[int(act[2])+1:]\n",
    "\n",
    "    elif act[0] == 'print':\n",
    "        print(s[int(act[1]):int(act[2])+1])\n",
    "    #print(s)"
   ]
  },
  {
   "cell_type": "code",
   "execution_count": 75,
   "metadata": {},
   "outputs": [
    {
     "output_type": "stream",
     "name": "stdout",
     "text": [
      "1.4142135623730951\n"
     ]
    }
   ],
   "source": [
    "# ITP1_10_A\n",
    "x1,y1,x2,y2 = map(float,input().split())\n",
    "\n",
    "print(((x2-x1)**2+(y2-y1)**2)**0.5)"
   ]
  },
  {
   "cell_type": "code",
   "execution_count": 89,
   "metadata": {},
   "outputs": [
    {
     "output_type": "stream",
     "name": "stdout",
     "text": [
      "6.0\n12.0\n3.0\n"
     ]
    }
   ],
   "source": [
    "# ITP1_10_B\n",
    "import math\n",
    "a,b,theta = map(int,input().split())\n",
    "\n",
    "s = math.sin(math.pi*theta/180)\n",
    "c = math.cos(math.pi*theta/180)\n",
    "\n",
    "print(0.5*a*b*s)\n",
    "print((a**2-2*a*b*c+b**2)**0.5+a+b)\n",
    "print(b*s)"
   ]
  },
  {
   "cell_type": "code",
   "execution_count": 90,
   "metadata": {},
   "outputs": [
    {
     "output_type": "stream",
     "name": "stdout",
     "text": [
      "27.85677655436824\n"
     ]
    }
   ],
   "source": [
    "# ITP1_10_C\n",
    "while True:\n",
    "\n",
    "    n = int(input())\n",
    "    if n == 0:\n",
    "        break\n",
    "\n",
    "    m = list(map(int,input().split()))\n",
    "    ave = sum(m)/n\n",
    "\n",
    "    var = 0\n",
    "    for i in range(n):\n",
    "        var += (m[i]-ave)**2\n",
    "    print((var/n)**0.5)"
   ]
  },
  {
   "cell_type": "code",
   "execution_count": 92,
   "metadata": {},
   "outputs": [
    {
     "output_type": "stream",
     "name": "stdout",
     "text": [
      "4.0\n2.449489742783178\n2.154434690031884\n2\n"
     ]
    }
   ],
   "source": [
    "# ITP1_10_D\n",
    "# ミンコフスキー距離\n",
    "n = int(input())\n",
    "x = list(map(int,input().split()))\n",
    "y = list(map(int,input().split()))\n",
    "\n",
    "for i in range(1,5):\n",
    "    t = 0\n",
    "    if i != 4:\n",
    "        for num in range(n):\n",
    "            t += abs(x[num]-y[num])**i\n",
    "        print(t**(1/i))\n",
    "    else:\n",
    "        # ∞のとき\n",
    "        for num in range(n):\n",
    "            if t < abs(x[num]-y[num]):\n",
    "                t = abs(x[num]-y[num])\n",
    "        print(t)"
   ]
  },
  {
   "cell_type": "code",
   "execution_count": null,
   "metadata": {},
   "outputs": [],
   "source": []
  }
 ],
 "metadata": {
  "kernelspec": {
   "display_name": "Python 3",
   "language": "python",
   "name": "python3"
  },
  "language_info": {
   "codemirror_mode": {
    "name": "ipython",
    "version": 3
   },
   "file_extension": ".py",
   "mimetype": "text/x-python",
   "name": "python",
   "nbconvert_exporter": "python",
   "pygments_lexer": "ipython3",
   "version": "3.8.2-final"
  },
  "toc": {
   "base_numbering": 1,
   "nav_menu": {},
   "number_sections": true,
   "sideBar": true,
   "skip_h1_title": false,
   "title_cell": "Table of Contents",
   "title_sidebar": "Contents",
   "toc_cell": false,
   "toc_position": {},
   "toc_section_display": true,
   "toc_window_display": false
  }
 },
 "nbformat": 4,
 "nbformat_minor": 4
}