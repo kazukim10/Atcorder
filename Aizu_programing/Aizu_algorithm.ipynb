{
 "cells": [
  {
   "cell_type": "code",
   "execution_count": 26,
   "metadata": {},
   "outputs": [
    {
     "output_type": "stream",
     "name": "stdout",
     "text": [
      "5 2 4 6 1 3\n0\n2 5 4 6 1 3\n1\n2 4 5 6 1 3\n2 4 5 6 1 3\n0\n1 2 4 5 6 3\n2\n1 2 3 4 5 6\n"
     ]
    }
   ],
   "source": [
    "# ALDS1_1A\n",
    "# 挿入ソート\n",
    "n = int(input())\n",
    "a = list(map(int,input().split()))\n",
    "\n",
    "print(' '.join(map(str,a)))\n",
    "\n",
    "for i in range(1,n):\n",
    "    sort_num = a[i]\n",
    "    pre_list = a[:i]\n",
    "\n",
    "    #print(sort_num)\n",
    "    #print(pre_list)\n",
    "\n",
    "    post_list = [0]*i\n",
    "    exchange = False\n",
    "    for j,num in enumerate(pre_list):\n",
    "        if sort_num < num:\n",
    "            #print(j)\n",
    "            exchange = True\n",
    "            post_list[:j] = pre_list[:j]\n",
    "            post_list[j] = sort_num\n",
    "            post_list[j+1:] = pre_list[j:]\n",
    "            break\n",
    "            \n",
    "    if exchange == False:\n",
    "        post_list = pre_list\n",
    "        post_list += [sort_num]\n",
    "        \n",
    "    a[:i+1] = post_list\n",
    "    #print(post_list)\n",
    "    #print(a)\n",
    "    print(' '.join(map(str,a)))"
   ]
  },
  {
   "cell_type": "code",
   "execution_count": 4,
   "metadata": {
    "tags": []
   },
   "outputs": [
    {
     "output_type": "stream",
     "name": "stdout",
     "text": [
      "105 42\n42 21\n21\n"
     ]
    }
   ],
   "source": [
    "# ALDS1_1B\n",
    "# 最大公約数\n",
    "x,y = map(int,input().split())\n",
    "\n",
    "while x%y != 0:\n",
    "    tmp = y\n",
    "    y = x%y\n",
    "    x = tmp \n",
    "    print(x,y)\n",
    "\n",
    "print(y)"
   ]
  },
  {
   "cell_type": "code",
   "execution_count": 5,
   "metadata": {},
   "outputs": [
    {
     "output_type": "stream",
     "name": "stdout",
     "text": [
      "4\n"
     ]
    }
   ],
   "source": [
    "# ALDS1_1C\n",
    "# 素数\n",
    "n = int(input())\n",
    "\n",
    "def check(x):\n",
    "    N = int((x)**0.5)+1\n",
    "\n",
    "    for p in range(2,N):\n",
    "        if x%p == 0:\n",
    "            return False\n",
    "    \n",
    "    return True\n",
    "\n",
    "ans = 0\n",
    "for _ in range(n):\n",
    "    x = int(input())\n",
    "\n",
    "    if check(x):\n",
    "        ans += 1\n",
    "        \n",
    "print(ans)"
   ]
  },
  {
   "cell_type": "code",
   "execution_count": 36,
   "metadata": {},
   "outputs": [
    {
     "output_type": "stream",
     "name": "stdout",
     "text": [
      "-999999999\n"
     ]
    }
   ],
   "source": [
    "# ALDS1_1D\n",
    "# 最大利益\n",
    "# point : 計算量、初期値、単調減少ケースの考慮\n",
    "\n",
    "n = int(input())\n",
    "R = []\n",
    "\n",
    "profit = -10**11\n",
    "buy = 10**11\n",
    "\n",
    "for t in range(n):\n",
    "    x = int(input())\n",
    "    \n",
    "    if profit < x- buy:\n",
    "        profit = x -buy\n",
    "\n",
    "    if buy > x:\n",
    "        buy = x\n",
    "    \n",
    "    #print(buy,profit)\n",
    "print(profit)"
   ]
  },
  {
   "cell_type": "code",
   "execution_count": 47,
   "metadata": {},
   "outputs": [
    {
     "output_type": "stream",
     "name": "stdout",
     "text": [
      "0 0 5 8 8 11 19 29 30 33 43 43 51 52 56 56 62 66 69 93\n72\n"
     ]
    }
   ],
   "source": [
    "# ALSD1_2A\n",
    "# バブルソート\n",
    "\n",
    "n = int(input())\n",
    "a = list(map(int,input().split()))\n",
    "\n",
    "change = 0\n",
    "for i in range(1,n):\n",
    "    for j in range(1,n):\n",
    "        \n",
    "        if a[-j] < a[-(j+1)]:\n",
    "            change += 1\n",
    "            tmp = a[-(j+1)]\n",
    "            a[-(j+1)] = a[-j]\n",
    "            a[-j] = tmp\n",
    "        \n",
    "print(' '.join(map(str,a)))\n",
    "print(change)"
   ]
  },
  {
   "cell_type": "code",
   "execution_count": 51,
   "metadata": {},
   "outputs": [
    {
     "output_type": "stream",
     "name": "stdout",
     "text": [
      "1 2 4 6 5 3\n1 2 4 6 5 3\n1 2 3 6 5 4\n1 2 3 4 5 6\n1 2 3 4 5 6\n1 2 3 4 5 6\n1 2 3 4 5 6\n3\n"
     ]
    }
   ],
   "source": [
    "# ALSD1_2B\n",
    "# 選択ソート\n",
    "\n",
    "n = int(input())\n",
    "a = list(map(int,input().split()))\n",
    "\n",
    "count = 0\n",
    "for i in range(n):\n",
    "    min_num = a[i]\n",
    "    flag = False\n",
    "    for j in range(i,n):\n",
    "        if min_num > a[j]:\n",
    "            flag = True\n",
    "            min_num = a[j]\n",
    "            select = j\n",
    "    \n",
    "    if flag:\n",
    "        count += 1\n",
    "        tmp = a[i]\n",
    "        a[i] = min_num\n",
    "        a[select] = tmp\n",
    "    #print(' '.join(map(str,a)))\n",
    "print(' '.join(map(str,a)))\n",
    "print(count)"
   ]
  },
  {
   "cell_type": "code",
   "execution_count": 3,
   "metadata": {},
   "outputs": [
    {
     "output_type": "stream",
     "name": "stdout",
     "text": [
      "no\nno\nyes\nyes\n"
     ]
    }
   ],
   "source": [
    "# ALSD1_5A\n",
    "n = int(input())\n",
    "a = list(map(int,input().split()))\n",
    "l = len(a)\n",
    "\n",
    "sum_list = []\n",
    "for i in range(2**l):\n",
    "    sum_a = 0\n",
    "    for j in range(l):\n",
    "        if (i >> j)&1:\n",
    "            sum_a += a[j]\n",
    "    \n",
    "    sum_list.append(sum_a)\n",
    "sum_list = set(sum_list)\n",
    "\n",
    "Q = int(input())\n",
    "Q_list = list(map(int,input().split()))\n",
    "for q in Q_list:\n",
    "    if q in sum_list:\n",
    "        print('yes')\n",
    "    else:\n",
    "        print('no')"
   ]
  },
  {
   "cell_type": "code",
   "execution_count": 8,
   "metadata": {},
   "outputs": [
    {
     "output_type": "stream",
     "name": "stdout",
     "text": [
      "34\n"
     ]
    }
   ],
   "source": [
    "# ALSD1_10A\n",
    "# フィボナッチ、動的計画法\n",
    "n = int(input())\n",
    "\n",
    "fib = [0]*(n+1)\n",
    "fib[0] = 1\n",
    "\n",
    "if n > 0:\n",
    "    fib[1] = 1\n",
    "for i in range(2,n+1):\n",
    "    fib[i] = fib[i-1]+fib[i-2]\n",
    "print(fib[n])"
   ]
  },
  {
   "cell_type": "code",
   "execution_count": 22,
   "metadata": {},
   "outputs": [
    {
     "output_type": "stream",
     "name": "stdout",
     "text": [
      "2\n"
     ]
    }
   ],
   "source": [
    "# ALSD1_10C\n",
    "# 最長共通部分列問題\n",
    "def cml(x,y):\n",
    "\n",
    "    x_l = len(x)\n",
    "    y_l = len(y)\n",
    "    com = [0]*(y_l+1)\n",
    "    #print(com)\n",
    "    \n",
    "    for i in range(x_l):\n",
    "        s = x[i]\n",
    "        pre_com = com[:]\n",
    "        for j in range(y_l):\n",
    "            if s == y[j]: # 代入可能なx[i]は、sで置き換えた\n",
    "                com[j+1] = pre_com[j] + 1\n",
    "\n",
    "            elif com[j] > com[j+1]:\n",
    "                com[j+1] = com[j]\n",
    "            #print(com)\n",
    "    return com[-1]　# 最大値を探すif不要\n",
    "\n",
    "if __name__ == '__main__':\n",
    "    q = int(input())\n",
    "    ans = []\n",
    "    for _ in range(q):\n",
    "        x = input()\n",
    "        y = input()\n",
    "        ans.append(cml(x,y))\n",
    "    print('\\n'.join(map(str,ans)))"
   ]
  },
  {
   "cell_type": "code",
   "execution_count": 3,
   "metadata": {},
   "outputs": [
    {
     "output_type": "stream",
     "name": "stdout",
     "text": [
      "[3, 2, 5]\n[2, 5, 19]\n[[0, 30, 1000000000000000000], [1000000000000000000, 0, 1000000000000000000], [1000000000000000000, 1000000000000000000, 0]]\n[3, 2, 5]\n[2, 5, 19]\n[[0, 30, 1000000000000000000], [1000000000000000000, 0, 190], [1000000000000000000, 1000000000000000000, 0]]\n[3, 2, 5]\n[2, 5, 19]\n[[0, 30, 304], [1000000000000000000, 0, 190], [1000000000000000000, 1000000000000000000, 0]]\n304\n"
     ]
    }
   ],
   "source": [
    "# ALSD1_10B\n",
    "# 連鎖行列積の最適計算回数\n",
    "# 未解決\n",
    "\n",
    "N = int(input())\n",
    "R = [0]*N\n",
    "C = [0]*N\n",
    "for i in range(N):\n",
    "    R[i], C[i] = map(int, input().split())\n",
    "\n",
    "INF = 10**18\n",
    "dp = [[INF]*N for i in range(N)]\n",
    "for i in range(N):\n",
    "    dp[i][i] = 0\n",
    "\n",
    "for l in range(1, N):\n",
    "    for i in range(N-l):\n",
    "        a0 = R[i]\n",
    "        c0 = C[i+l]\n",
    "        dp[i][i+l] = min(a0*C[j]*c0 + dp[i][j] + dp[j+1][i+l] for j in range(i, i+l))\n",
    "\n",
    "        print(R)\n",
    "        print(C)\n",
    "        print(dp)\n",
    "\n",
    "print(dp[0][N-1])"
   ]
  },
  {
   "cell_type": "code",
   "execution_count": 15,
   "metadata": {},
   "outputs": [
    {
     "output_type": "stream",
     "name": "stdout",
     "text": [
      "0 1 0 1\n",
      "0 0 0 1\n",
      "0 0 0 0\n",
      "0 0 1 0\n"
     ]
    }
   ],
   "source": [
    "# ALSD1_11A\n",
    "# 隣接リスト to 隣接行列\n",
    "\n",
    "n = int(input())\n",
    "\n",
    "tensor = []\n",
    "\n",
    "for _ in range(n):\n",
    "    tensor.append([0]*n)\n",
    "    \n",
    "    a = list(map(int,input().split()))\n",
    "    #print(a)\n",
    "    row = a[0]-1\n",
    "    num = a[1]\n",
    "    for v in range(num):\n",
    "        tensor[row][a[v+2]-1] = 1\n",
    "    print(' '.join(map(str,tensor[row])))"
   ]
  },
  {
   "cell_type": "code",
   "execution_count": null,
   "metadata": {},
   "outputs": [],
   "source": []
  }
 ],
 "metadata": {
  "kernelspec": {
   "display_name": "Python 3",
   "language": "python",
   "name": "python3"
  },
  "language_info": {
   "codemirror_mode": {
    "name": "ipython",
    "version": 3
   },
   "file_extension": ".py",
   "mimetype": "text/x-python",
   "name": "python",
   "nbconvert_exporter": "python",
   "pygments_lexer": "ipython3",
   "version": "3.8.2"
  },
  "toc": {
   "base_numbering": 1,
   "nav_menu": {},
   "number_sections": true,
   "sideBar": true,
   "skip_h1_title": false,
   "title_cell": "Table of Contents",
   "title_sidebar": "Contents",
   "toc_cell": false,
   "toc_position": {},
   "toc_section_display": true,
   "toc_window_display": false
  }
 },
 "nbformat": 4,
 "nbformat_minor": 4
}