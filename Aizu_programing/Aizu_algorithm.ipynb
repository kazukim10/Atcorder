{
 "cells": [
  {
   "cell_type": "code",
   "execution_count": 4,
   "metadata": {
    "tags": []
   },
   "outputs": [
    {
     "output_type": "stream",
     "name": "stdout",
     "text": [
      "105 42\n42 21\n21\n"
     ]
    }
   ],
   "source": [
    "# ALDS1_B\n",
    "# 最大公約数\n",
    "x,y = map(int,input().split())\n",
    "\n",
    "while x%y != 0:\n",
    "    tmp = y\n",
    "    y = x%y\n",
    "    x = tmp \n",
    "    print(x,y)\n",
    "\n",
    "print(y)"
   ]
  },
  {
   "cell_type": "code",
   "execution_count": 5,
   "metadata": {},
   "outputs": [
    {
     "output_type": "stream",
     "name": "stdout",
     "text": [
      "4\n"
     ]
    }
   ],
   "source": [
    "# ALDS1_C\n",
    "# 素数\n",
    "n = int(input())\n",
    "\n",
    "def check(x):\n",
    "    N = int((x)**0.5)+1\n",
    "\n",
    "    for p in range(2,N):\n",
    "        if x%p == 0:\n",
    "            return False\n",
    "    \n",
    "    return True\n",
    "\n",
    "ans = 0\n",
    "for _ in range(n):\n",
    "    x = int(input())\n",
    "\n",
    "    if check(x):\n",
    "        ans += 1\n",
    "        \n",
    "print(ans)"
   ]
  },
  {
   "cell_type": "code",
   "execution_count": 36,
   "metadata": {},
   "outputs": [
    {
     "output_type": "stream",
     "name": "stdout",
     "text": [
      "-999999999\n"
     ]
    }
   ],
   "source": [
    "# ALDS1_D\n",
    "# 最大利益\n",
    "# point : 計算量、初期値、単調減少ケースの考慮\n",
    "\n",
    "n = int(input())\n",
    "R = []\n",
    "\n",
    "profit = -10**11\n",
    "buy = 10**11\n",
    "\n",
    "for t in range(n):\n",
    "    x = int(input())\n",
    "    \n",
    "    if profit < x- buy:\n",
    "        profit = x -buy\n",
    "\n",
    "    if buy > x:\n",
    "        buy = x\n",
    "    \n",
    "    #print(buy,profit)\n",
    "print(profit)"
   ]
  },
  {
   "cell_type": "code",
   "execution_count": 3,
   "metadata": {},
   "outputs": [
    {
     "output_type": "stream",
     "name": "stdout",
     "text": [
      "no\nno\nyes\nyes\n"
     ]
    }
   ],
   "source": [
    "# ALSD1_5A\n",
    "n = int(input())\n",
    "a = list(map(int,input().split()))\n",
    "l = len(a)\n",
    "\n",
    "sum_list = []\n",
    "for i in range(2**l):\n",
    "    sum_a = 0\n",
    "    for j in range(l):\n",
    "        if (i >> j)&1:\n",
    "            sum_a += a[j]\n",
    "    \n",
    "    sum_list.append(sum_a)\n",
    "sum_list = set(sum_list)\n",
    "\n",
    "Q = int(input())\n",
    "Q_list = list(map(int,input().split()))\n",
    "for q in Q_list:\n",
    "    if q in sum_list:\n",
    "        print('yes')\n",
    "    else:\n",
    "        print('no')"
   ]
  },
  {
   "cell_type": "code",
   "execution_count": 8,
   "metadata": {},
   "outputs": [
    {
     "output_type": "stream",
     "name": "stdout",
     "text": [
      "34\n"
     ]
    }
   ],
   "source": [
    "# ALSD1_10A\n",
    "# フィボナッチ、動的計画法\n",
    "n = int(input())\n",
    "\n",
    "fib = [0]*(n+1)\n",
    "fib[0] = 1\n",
    "\n",
    "if n > 0:\n",
    "    fib[1] = 1\n",
    "for i in range(2,n+1):\n",
    "    fib[i] = fib[i-1]+fib[i-2]\n",
    "print(fib[n])"
   ]
  },
  {
   "cell_type": "code",
   "execution_count": null,
   "metadata": {},
   "outputs": [],
   "source": [
    "# ALSD1_10C\n",
    "# 最長共通部分列問題\n",
    "\n"
   ]
  }
 ],
 "metadata": {
  "kernelspec": {
   "display_name": "Python 3",
   "language": "python",
   "name": "python3"
  },
  "language_info": {
   "codemirror_mode": {
    "name": "ipython",
    "version": 3
   },
   "file_extension": ".py",
   "mimetype": "text/x-python",
   "name": "python",
   "nbconvert_exporter": "python",
   "pygments_lexer": "ipython3",
   "version": "3.8.2"
  },
  "toc": {
   "base_numbering": 1,
   "nav_menu": {},
   "number_sections": true,
   "sideBar": true,
   "skip_h1_title": false,
   "title_cell": "Table of Contents",
   "title_sidebar": "Contents",
   "toc_cell": false,
   "toc_position": {},
   "toc_section_display": true,
   "toc_window_display": false
  }
 },
 "nbformat": 4,
 "nbformat_minor": 4
}