{
 "cells": [
  {
   "source": [
    "https://atcoder.jp/contests/abc141"
   ],
   "cell_type": "markdown",
   "metadata": {}
  },
  {
   "cell_type": "code",
   "execution_count": 5,
   "metadata": {},
   "outputs": [
    {
     "output_type": "stream",
     "name": "stdout",
     "text": [
      "Sunny\n"
     ]
    }
   ],
   "source": [
    "# 問題A\n",
    "S = input()\n",
    "\n",
    "tmp = {'Sunny':0,'Cloudy':1,'Rainy':2}\n",
    "\n",
    "ans = {0:'Sunny',1:'Cloudy',2:'Rainy'}\n",
    "print(ans[(tmp[S]+1)%3])"
   ]
  },
  {
   "cell_type": "code",
   "execution_count": 7,
   "metadata": {},
   "outputs": [
    {
     "output_type": "stream",
     "name": "stdout",
     "text": [
      "No\n"
     ]
    }
   ],
   "source": [
    "# 問題B\n",
    "S = input()\n",
    "\n",
    "odd = ['R','U','D']\n",
    "eve = ['L','U','D']\n",
    "\n",
    "ans = 'Yes'\n",
    "for i in range(len(S)):\n",
    "    if i%2 == 0:\n",
    "        if S[i] in odd:\n",
    "            ans = ans\n",
    "        else:\n",
    "            ans = 'No'\n",
    "            break\n",
    "    else:\n",
    "        if S[i] in eve:\n",
    "            ans = ans\n",
    "        else:\n",
    "            ans = 'No'\n",
    "            break\n",
    "print(ans)"
   ]
  },
  {
   "cell_type": "code",
   "execution_count": 12,
   "metadata": {},
   "outputs": [
    {
     "output_type": "stream",
     "name": "stdout",
     "text": [
      "Yes\nYes\nYes\nYes\nYes\nYes\n"
     ]
    }
   ],
   "source": [
    "# 問題C\n",
    "N,K,Q = map(int,input().split())\n",
    "\n",
    "score = {}\n",
    "for q in range(Q):\n",
    "    A = int(input())\n",
    "\n",
    "    if A in score:\n",
    "        score[A] += 1\n",
    "    else:\n",
    "        score[A] = 1\n",
    "\n",
    "for n in range(1,N+1):\n",
    "    if n not in score:\n",
    "        score[n] = 0\n",
    "    \n",
    "    if K-Q+score[n] > 0:\n",
    "        print('Yes')\n",
    "    else:\n",
    "        print('No')"
   ]
  },
  {
   "cell_type": "code",
   "execution_count": 22,
   "metadata": {},
   "outputs": [
    {
     "output_type": "stream",
     "name": "stdout",
     "text": [
      "6\n"
     ]
    }
   ],
   "source": [
    "# 問題D TLE...\n",
    "def c141d():\n",
    "    import numpy as np \n",
    "    N,M = map(int,input().split())\n",
    "\n",
    "    A = np.array(list(map(int,input().split())))\n",
    "\n",
    "    for m in range(M):\n",
    "        A[np.argmax(A)] = (A[np.argmax(A)]//2)\n",
    "    \n",
    "    return np.sum(A)\n",
    "\n",
    "if __name__ == '__main__':\n",
    "    print(c141d())"
   ]
  },
  {
   "cell_type": "code",
   "execution_count": null,
   "metadata": {},
   "outputs": [],
   "source": []
  }
 ],
 "metadata": {
  "kernelspec": {
   "display_name": "Python 3",
   "language": "python",
   "name": "python3"
  },
  "language_info": {
   "codemirror_mode": {
    "name": "ipython",
    "version": 3
   },
   "file_extension": ".py",
   "mimetype": "text/x-python",
   "name": "python",
   "nbconvert_exporter": "python",
   "pygments_lexer": "ipython3",
   "version": "3.8.2-final"
  },
  "toc": {
   "base_numbering": 1,
   "nav_menu": {},
   "number_sections": true,
   "sideBar": true,
   "skip_h1_title": false,
   "title_cell": "Table of Contents",
   "title_sidebar": "Contents",
   "toc_cell": false,
   "toc_position": {},
   "toc_section_display": true,
   "toc_window_display": false
  }
 },
 "nbformat": 4,
 "nbformat_minor": 4
}