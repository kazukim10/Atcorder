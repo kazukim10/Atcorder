{
 "cells": [
  {
   "cell_type": "markdown",
   "metadata": {},
   "source": [
    "## https://atcoder.jp/contests/abc187"
   ]
  },
  {
   "cell_type": "markdown",
   "metadata": {},
   "source": [
    "## 問題1"
   ]
  },
  {
   "cell_type": "code",
   "execution_count": 4,
   "metadata": {},
   "outputs": [
    {
     "name": "stdout",
     "output_type": "stream",
     "text": [
      "100 999\n",
      "27\n"
     ]
    }
   ],
   "source": [
    "A,B = map(str,input().split())\n",
    "\n",
    "SA, SB = 0 ,0\n",
    "\n",
    "for i in range(3):\n",
    "    SA += int(A[i])\n",
    "    SB += int(B[i])\n",
    "\n",
    "print(max(SA,SB))"
   ]
  },
  {
   "cell_type": "markdown",
   "metadata": {},
   "source": [
    "## 問題2"
   ]
  },
  {
   "cell_type": "code",
   "execution_count": 17,
   "metadata": {},
   "outputs": [
    {
     "name": "stdout",
     "output_type": "stream",
     "text": [
      "3\n",
      "0 0\n",
      "1 2\n",
      "1 2 0 0\n",
      "2 1\n",
      "2 1 0 0\n",
      "2 1 1 2\n",
      "2\n"
     ]
    }
   ],
   "source": [
    "N = int(input())\n",
    "\n",
    "x,y = map(int,input().split())\n",
    "\n",
    "dot = []\n",
    "dot.append((x,y))\n",
    "\n",
    "count = 0\n",
    "for _ in range(N-1):\n",
    "    \n",
    "    x,y = map(int,input().split())\n",
    "    \n",
    "    for xi,yi in dot:\n",
    "        #print(x,y,xi,yi)\n",
    "        dig = (y-yi)/(x-xi)\n",
    "        \n",
    "        if -1 <= dig <= 1:\n",
    "            count += 1\n",
    "    dot.append((x,y))\n",
    "\n",
    "print(count)"
   ]
  },
  {
   "cell_type": "markdown",
   "metadata": {},
   "source": [
    "## 問題3"
   ]
  },
  {
   "cell_type": "code",
   "execution_count": 27,
   "metadata": {
    "scrolled": true
   },
   "outputs": [
    {
     "name": "stdout",
     "output_type": "stream",
     "text": [
      "2\n",
      "a\n",
      "a\n",
      "satisfiable\n"
     ]
    }
   ],
   "source": [
    "N = int(input())\n",
    "\n",
    "S = [input() for _ in range(N)]\n",
    "T = ['!'+s for s in S if s[0] != '!']\n",
    "#print(S)\n",
    "#print(T)\n",
    "ST = list(set(T) & set(S))\n",
    "\n",
    "if ST == []:\n",
    "    print('satisfiable')\n",
    "    \n",
    "else:\n",
    "    print(ST[0][1:])"
   ]
  },
  {
   "cell_type": "markdown",
   "metadata": {},
   "source": [
    "## 問題4"
   ]
  },
  {
   "cell_type": "code",
   "execution_count": 54,
   "metadata": {},
   "outputs": [
    {
     "name": "stdout",
     "output_type": "stream",
     "text": [
      "1\n",
      "273 691\n",
      "1\n"
     ]
    }
   ],
   "source": [
    "N = int(input())\n",
    "\n",
    "T = [list(map(int,input().split())) for _ in range(N)]\n",
    "\n",
    "S = sorted([(t[0]+t[1],t[1]) for t in T],reverse=True)\n",
    "#print(S)\n",
    "\n",
    "A = [a for t,a in S]\n",
    "#print(A)\n",
    "\n",
    "takahashi = 0\n",
    "for i,s in enumerate(S):\n",
    "    takahashi += s[0]\n",
    "    aoki = sum(A[i+1:])\n",
    "    \n",
    "    if takahashi > aoki:\n",
    "        print(i+1)\n",
    "        break        "
   ]
  },
  {
   "cell_type": "code",
   "execution_count": null,
   "metadata": {},
   "outputs": [],
   "source": [
    "N = int(input())\n",
    "X = 0\n",
    "x = []\n",
    "for i in range(N):\n",
    "    A, B = map(int, input().split())\n",
    "    X -= A\n",
    "    x.append(A + A + B)\n",
    "x.sort()\n",
    "ans = 0\n",
    "while X <= 0:\n",
    "    X += x.pop()\n",
    "    ans += 1\n",
    "print(ans)"
   ]
  }
 ],
 "metadata": {
  "kernelspec": {
   "display_name": "Python 3",
   "language": "python",
   "name": "python3"
  },
  "language_info": {
   "codemirror_mode": {
    "name": "ipython",
    "version": 3
   },
   "file_extension": ".py",
   "mimetype": "text/x-python",
   "name": "python",
   "nbconvert_exporter": "python",
   "pygments_lexer": "ipython3",
   "version": "3.8.2"
  },
  "toc": {
   "base_numbering": 1,
   "nav_menu": {},
   "number_sections": true,
   "sideBar": true,
   "skip_h1_title": false,
   "title_cell": "Table of Contents",
   "title_sidebar": "Contents",
   "toc_cell": false,
   "toc_position": {},
   "toc_section_display": true,
   "toc_window_display": false
  }
 },
 "nbformat": 4,
 "nbformat_minor": 4
}
