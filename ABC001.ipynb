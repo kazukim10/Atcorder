{
 "cells": [
  {
   "cell_type": "markdown",
   "metadata": {},
   "source": [
    "https://atcoder.jp/contests/abc001"
   ]
  },
  {
   "cell_type": "code",
   "execution_count": 1,
   "metadata": {},
   "outputs": [
    {
     "output_type": "stream",
     "name": "stdout",
     "text": [
      "5\n"
     ]
    }
   ],
   "source": [
    "# ABC001_A\n",
    "H1 = int(input())\n",
    "H2 = int(input())\n",
    "\n",
    "print(H1-H2)"
   ]
  },
  {
   "cell_type": "code",
   "execution_count": 12,
   "metadata": {},
   "outputs": [
    {
     "output_type": "stream",
     "name": "stdout",
     "text": [
      "00\n"
     ]
    }
   ],
   "source": [
    "# ABC001_B\n",
    "m = float(input())\n",
    "\n",
    "if m/1000 < 0.1:\n",
    "    print('00')\n",
    "elif 0.1 <= m/1000 <= 5:\n",
    "    m /= 1000\n",
    "    m *= 10\n",
    "    \n",
    "    if len(str(int(m))) < 2:\n",
    "        print('0'+str(int(m)))\n",
    "    else:\n",
    "        print(int(m))\n",
    "\n",
    "elif 6 <= m/1000 <= 30:\n",
    "    print(int(m/1000+50))\n",
    "\n",
    "elif 35 <= m/1000 <= 70:\n",
    "    print(int((m/1000-30)/5 + 80))\n",
    "\n",
    "else:\n",
    "    print(89)"
   ]
  },
  {
   "cell_type": "code",
   "execution_count": null,
   "metadata": {},
   "outputs": [],
   "source": []
  }
 ],
 "metadata": {
  "kernelspec": {
   "display_name": "Python 3",
   "language": "python",
   "name": "python3"
  },
  "language_info": {
   "codemirror_mode": {
    "name": "ipython",
    "version": 3
   },
   "file_extension": ".py",
   "mimetype": "text/x-python",
   "name": "python",
   "nbconvert_exporter": "python",
   "pygments_lexer": "ipython3",
   "version": "3.8.2"
  },
  "toc": {
   "base_numbering": 1,
   "nav_menu": {},
   "number_sections": true,
   "sideBar": true,
   "skip_h1_title": false,
   "title_cell": "Table of Contents",
   "title_sidebar": "Contents",
   "toc_cell": false,
   "toc_position": {},
   "toc_section_display": true,
   "toc_window_display": false
  }
 },
 "nbformat": 4,
 "nbformat_minor": 4
}