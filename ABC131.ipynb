{
 "cells": [
  {
   "cell_type": "markdown",
   "metadata": {},
   "source": [
    "https://atcoder.jp/contests/abc131"
   ]
  },
  {
   "cell_type": "code",
   "execution_count": 4,
   "metadata": {},
   "outputs": [
    {
     "name": "stdout",
     "output_type": "stream",
     "text": [
      "3776\n",
      "Bad\n"
     ]
    }
   ],
   "source": [
    "# 問題A\n",
    "S = input()\n",
    "\n",
    "prior = S[0]\n",
    "for s in S[1:]:\n",
    "    \n",
    "    if prior == s:\n",
    "        \n",
    "        flag = 1\n",
    "        break\n",
    "        \n",
    "    else:\n",
    "        prior = s\n",
    "        flag = 0\n",
    "print('Good' if flag == 0 else 'Bad')"
   ]
  },
  {
   "cell_type": "code",
   "execution_count": 13,
   "metadata": {},
   "outputs": [
    {
     "name": "stdout",
     "output_type": "stream",
     "text": [
      "5 2\n",
      "18\n"
     ]
    }
   ],
   "source": [
    "# 問題B\n",
    "N,L = map(int,input().split())\n",
    "\n",
    "pi = 0\n",
    "\n",
    "if L < 0 and L+N >=0:\n",
    "    for i in range(N):\n",
    "        app = L+i\n",
    "        pi += app\n",
    "\n",
    "elif L < 0 and L+N <0:\n",
    "    for i in range(N):\n",
    "        if i == N-1:\n",
    "            pi = pi\n",
    "        \n",
    "        else:\n",
    "            app = L+i\n",
    "            pi += app\n",
    "else:\n",
    "    for i in range(N):\n",
    "        if i == 0:\n",
    "            pi = pi\n",
    "        \n",
    "        else:\n",
    "            app = L+i\n",
    "            pi += app\n",
    "            \n",
    "print(pi)"
   ]
  },
  {
   "cell_type": "code",
   "execution_count": 36,
   "metadata": {},
   "outputs": [
    {
     "name": "stdout",
     "output_type": "stream",
     "text": [
      "30 -50\n",
      "-1044\n"
     ]
    }
   ],
   "source": [
    "# 問題B\n",
    "N,L = map(int,input().split())\n",
    "\n",
    "app = [ L+a for a in range(N)]\n",
    "\n",
    "m = L\n",
    "for a in app:\n",
    "    #print(m,a)\n",
    "    if abs(m) > abs(a):\n",
    "        m = a\n",
    "\n",
    "\n",
    "print(sum(app)-m)"
   ]
  },
  {
   "cell_type": "code",
   "execution_count": 42,
   "metadata": {},
   "outputs": [
    {
     "name": "stdout",
     "output_type": "stream",
     "text": [
      "4 9 5 6\n",
      "1\n"
     ]
    }
   ],
   "source": [
    "# 問題C\n",
    "A,B,C,D = map(int,input().split())\n",
    "\n",
    "s1 = 0\n",
    "s2 = 0\n",
    "s3 = 0\n",
    "for i in range(A,B+1,C):\n",
    "    s1 += 1\n",
    "    if D*i/C < B:\n",
    "        s2 += 1\n",
    "    if D*i < B:\n",
    "        s3 += 1\n",
    "print(B-A-1-(s1+s2-s3))"
   ]
  },
  {
   "cell_type": "code",
   "execution_count": 79,
   "metadata": {},
   "outputs": [
    {
     "name": "stdout",
     "output_type": "stream",
     "text": [
      "10 40 6 8\n",
      "23\n"
     ]
    }
   ],
   "source": [
    "# 問題C\n",
    "A,B,C,D = map(int,input().split())\n",
    "\n",
    "e = C\n",
    "f = D\n",
    "\n",
    "while e != 0:\n",
    "    \n",
    "    g = f%e\n",
    "    f = e\n",
    "    e = g\n",
    "    \n",
    "g = f # 最大公約数 g\n",
    "l = C*D/g # 最小公倍数 l = CD/g\n",
    "\n",
    "s1 = B//C\n",
    "s2 = B//D\n",
    "s3 = B//l\n",
    "#print(s1,s2,s3)\n",
    "#print(B-(s1+s2-s3))\n",
    "\n",
    "g1 = A//C\n",
    "g2 = A//D\n",
    "g3 = A//l\n",
    "#print(g1,g2,g3)\n",
    "#print(A-(g1+g2-g3))\n",
    "\n",
    "print(int(B-(s1+s2-s3) - (A-1-(g1+g2-g3))))"
   ]
  },
  {
   "cell_type": "code",
   "execution_count": 75,
   "metadata": {},
   "outputs": [
    {
     "name": "stdout",
     "output_type": "stream",
     "text": [
      "最大公約数： 2\n"
     ]
    }
   ],
   "source": [
    "# ユークリッド互除法\n",
    "A,B = 8,6\n",
    "\n",
    "while B != 0:\n",
    "    \n",
    "    C = A%B\n",
    "    A = B\n",
    "    B = C\n",
    "print('最大公約数：',A)"
   ]
  },
  {
   "cell_type": "code",
   "execution_count": null,
   "metadata": {},
   "outputs": [],
   "source": []
  }
 ],
 "metadata": {
  "kernelspec": {
   "display_name": "Python 3",
   "language": "python",
   "name": "python3"
  },
  "language_info": {
   "codemirror_mode": {
    "name": "ipython",
    "version": 3
   },
   "file_extension": ".py",
   "mimetype": "text/x-python",
   "name": "python",
   "nbconvert_exporter": "python",
   "pygments_lexer": "ipython3",
   "version": "3.8.2"
  },
  "toc": {
   "base_numbering": 1,
   "nav_menu": {},
   "number_sections": true,
   "sideBar": true,
   "skip_h1_title": false,
   "title_cell": "Table of Contents",
   "title_sidebar": "Contents",
   "toc_cell": false,
   "toc_position": {},
   "toc_section_display": true,
   "toc_window_display": false
  }
 },
 "nbformat": 4,
 "nbformat_minor": 4
}
