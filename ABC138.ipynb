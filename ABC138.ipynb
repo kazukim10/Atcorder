{
 "cells": [
  {
   "source": [
    "https://atcoder.jp/contests/abc138"
   ],
   "cell_type": "markdown",
   "metadata": {}
  },
  {
   "cell_type": "code",
   "execution_count": 2,
   "metadata": {},
   "outputs": [
    {
     "output_type": "stream",
     "name": "stdout",
     "text": [
      "red\n"
     ]
    }
   ],
   "source": [
    "# 問題A\n",
    "a = int(input())\n",
    "s = input()\n",
    "\n",
    "print(s if a >= 3200 else 'red')"
   ]
  },
  {
   "cell_type": "code",
   "execution_count": 6,
   "metadata": {},
   "outputs": [
    {
     "output_type": "stream",
     "name": "stdout",
     "text": [
      "66.66666666666667\n"
     ]
    }
   ],
   "source": [
    "# 問題B\n",
    "N = int(input())\n",
    "\n",
    "A = list(map(int,input().split()))\n",
    "\n",
    "print(1/sum([1/i for i in A]))"
   ]
  },
  {
   "cell_type": "code",
   "execution_count": 16,
   "metadata": {},
   "outputs": [
    {
     "output_type": "stream",
     "name": "stdout",
     "text": [
      "375.0\n"
     ]
    }
   ],
   "source": [
    "# 問題C\n",
    "N = int(input())\n",
    "v = list(map(int,input().split()))\n",
    "v.sort()\n",
    "\n",
    "ans = (v[0]+v[1])/2\n",
    "for i in range(2,N):\n",
    "    ans = (ans+v[i])/2\n",
    "print(ans)"
   ]
  }
 ],
 "metadata": {
  "kernelspec": {
   "display_name": "Python 3",
   "language": "python",
   "name": "python3"
  },
  "language_info": {
   "codemirror_mode": {
    "name": "ipython",
    "version": 3
   },
   "file_extension": ".py",
   "mimetype": "text/x-python",
   "name": "python",
   "nbconvert_exporter": "python",
   "pygments_lexer": "ipython3",
   "version": "3.8.2-final"
  },
  "toc": {
   "base_numbering": 1,
   "nav_menu": {},
   "number_sections": true,
   "sideBar": true,
   "skip_h1_title": false,
   "title_cell": "Table of Contents",
   "title_sidebar": "Contents",
   "toc_cell": false,
   "toc_position": {},
   "toc_section_display": true,
   "toc_window_display": false
  }
 },
 "nbformat": 4,
 "nbformat_minor": 4
}