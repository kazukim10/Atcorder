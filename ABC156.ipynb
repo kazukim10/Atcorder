{
 "cells": [
  {
   "source": [
    "https://atcoder.jp/contests/abc156"
   ],
   "cell_type": "markdown",
   "metadata": {}
  },
  {
   "cell_type": "code",
   "execution_count": 3,
   "metadata": {},
   "outputs": [
    {
     "output_type": "stream",
     "name": "stdout",
     "text": [
      "3719\n"
     ]
    }
   ],
   "source": [
    "# 問題A\n",
    "N,R = map(int,input().split())\n",
    "\n",
    "print(R if N >= 10 else R+100*(10-N))"
   ]
  },
  {
   "cell_type": "code",
   "execution_count": 11,
   "metadata": {
    "tags": []
   },
   "outputs": [
    {
     "output_type": "stream",
     "name": "stdout",
     "text": [
      "7\n"
     ]
    }
   ],
   "source": [
    "# 問題B\n",
    "# N進数表記\n",
    "N,K = map(int,input().split())\n",
    "\n",
    "trans = ''\n",
    "\n",
    "while N > 0:\n",
    "    s = N%K\n",
    "    trans += str(s)\n",
    "\n",
    "    N = N//K\n",
    "#print(trans,len(trans))\n",
    "print(len(trans))"
   ]
  },
  {
   "cell_type": "code",
   "execution_count": 13,
   "metadata": {},
   "outputs": [
    {
     "output_type": "stream",
     "name": "stdout",
     "text": [
      "2354\n"
     ]
    }
   ],
   "source": [
    "# 問題C\n",
    "import numpy as np\n",
    "\n",
    "N = int(input())\n",
    "X = np.array(list(map(int,input().split())))\n",
    "\n",
    "X.sort()\n",
    "\n",
    "ms = X[0]\n",
    "ma = X[-1]\n",
    "\n",
    "HP = 10**8\n",
    "for i in range(ms,ma+1):\n",
    "    total = np.sum((X-i)**2)\n",
    "\n",
    "    if HP > total:\n",
    "        HP = total\n",
    "print(HP)"
   ]
  },
  {
   "cell_type": "code",
   "execution_count": null,
   "metadata": {},
   "outputs": [],
   "source": []
  }
 ],
 "metadata": {
  "kernelspec": {
   "display_name": "Python 3",
   "language": "python",
   "name": "python3"
  },
  "language_info": {
   "codemirror_mode": {
    "name": "ipython",
    "version": 3
   },
   "file_extension": ".py",
   "mimetype": "text/x-python",
   "name": "python",
   "nbconvert_exporter": "python",
   "pygments_lexer": "ipython3",
   "version": "3.8.2-final"
  },
  "toc": {
   "base_numbering": 1,
   "nav_menu": {},
   "number_sections": true,
   "sideBar": true,
   "skip_h1_title": false,
   "title_cell": "Table of Contents",
   "title_sidebar": "Contents",
   "toc_cell": false,
   "toc_position": {},
   "toc_section_display": true,
   "toc_window_display": false
  }
 },
 "nbformat": 4,
 "nbformat_minor": 4
}