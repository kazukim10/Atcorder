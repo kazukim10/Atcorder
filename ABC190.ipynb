{
 "cells": [
  {
   "cell_type": "markdown",
   "metadata": {},
   "source": [
    "## URL https://atcoder.jp/contests/abc190"
   ]
  },
  {
   "cell_type": "markdown",
   "metadata": {},
   "source": [
    "## 問題2"
   ]
  },
  {
   "cell_type": "markdown",
   "metadata": {},
   "source": [
    "実行時間制限: 2 sec / メモリ制限: 1024 MB\n",
    "\n",
    "配点 : \n",
    "200\n",
    " 点\n",
    "\n",
    "問題文\n",
    "魔法使いの高橋君は魔物と戦っています。\n",
    "高橋君は \n",
    "N種類の呪文を使うことができます。 i番目の呪文は詠唱に Xi 秒かかり、威力は Yi です。\n",
    "ただし、この魔物は強いので、詠唱に S 秒以上かかる呪文や、威力が D\n",
    " 以下の呪文ではダメージを与えられません。 また、呪文以外の方法でダメージを与えることもできません。\n",
    "高橋君は魔物にダメージを与えられるでしょうか？"
   ]
  },
  {
   "cell_type": "code",
   "execution_count": 1,
   "metadata": {},
   "outputs": [
    {
     "name": "stdout",
     "output_type": "stream",
     "text": [
      "3 5 6\n",
      "2 4\n",
      "4 5\n",
      "4 2\n",
      "No\n"
     ]
    }
   ],
   "source": [
    "N, S, D = map(int, input().split())\n",
    "\n",
    "def check():\n",
    "    X, Y = map(int, input().split())\n",
    "    return X < S and Y > D\n",
    "\n",
    "if any(check() for i in range(N)):\n",
    "    print(\"Yes\")\n",
    "else:\n",
    "    print(\"No\")"
   ]
  },
  {
   "cell_type": "code",
   "execution_count": 4,
   "metadata": {},
   "outputs": [
    {
     "name": "stdout",
     "output_type": "stream",
     "text": [
      "2 3\n",
      "1 9\n",
      "True\n"
     ]
    }
   ],
   "source": [
    "print(any(check() for i in range(N)))"
   ]
  },
  {
   "cell_type": "code",
   "execution_count": 10,
   "metadata": {},
   "outputs": [
    {
     "output_type": "stream",
     "name": "stdout",
     "text": [
      "[[1, 1, 0, 0], [1, 1, 0, 0]]\n",
      "[[3, 1, 2, 0], [3, 1, 2, 0], [3, 1, 2, 0], [3, 1, 2, 0]]\n",
      "[[3, 5, 6, 0], [3, 5, 6, 0], [3, 5, 6, 0], [3, 5, 6, 0], [3, 5, 6, 0], [3, 5, 6, 0], [3, 5, 6, 0], [3, 5, 6, 0]]\n"
     ]
    }
   ],
   "source": [
    "# 問題C Bowls and Dishes\n",
    "N,M = map(int,input().split())\n",
    "\n",
    "L = {}\n",
    "for _ in range(M):\n",
    "    A,B = map(int,input().split())\n",
    "\n",
    "    L[(A,B)] = 0\n",
    "#print(L)\n",
    "\n",
    "K = int(input())\n",
    "Ball = [[0]*N for _ in range(1)]\n",
    "#print(Ball)\n",
    "for _ in range(K):\n",
    "    C,D = map(int,input().split())\n",
    "\n",
    "    tmp = []\n",
    "    #print(Ball)\n",
    "    for ball in Ball:\n",
    "        ball_copy = ball\n",
    "        for choice in [C,D]:\n",
    "            ball[choice-1] += 1\n",
    "            tmp.append(ball)\n",
    "            ball = ball_copy\n",
    "            \n",
    "    Ball = tmp\n",
    "    print(Ball)"
   ]
  },
  {
   "cell_type": "code",
   "execution_count": 3,
   "metadata": {},
   "outputs": [
    {
     "output_type": "stream",
     "name": "stdout",
     "text": [
      "[0, 0, 0, 0]\n"
     ]
    }
   ],
   "source": [
    "Ball = [0]*N\n",
    "print(Ball)"
   ]
  },
  {
   "cell_type": "code",
   "execution_count": null,
   "metadata": {},
   "outputs": [],
   "source": []
  }
 ],
 "metadata": {
  "kernelspec": {
   "display_name": "Python 3",
   "language": "python",
   "name": "python3"
  },
  "language_info": {
   "codemirror_mode": {
    "name": "ipython",
    "version": 3
   },
   "file_extension": ".py",
   "mimetype": "text/x-python",
   "name": "python",
   "nbconvert_exporter": "python",
   "pygments_lexer": "ipython3",
   "version": "3.8.2-final"
  },
  "toc": {
   "base_numbering": 1,
   "nav_menu": {},
   "number_sections": true,
   "sideBar": true,
   "skip_h1_title": false,
   "title_cell": "Table of Contents",
   "title_sidebar": "Contents",
   "toc_cell": false,
   "toc_position": {
    "height": "1492px",
    "left": "646.8125px",
    "top": "180px",
    "width": "501.1875px"
   },
   "toc_section_display": true,
   "toc_window_display": true
  }
 },
 "nbformat": 4,
 "nbformat_minor": 4
}