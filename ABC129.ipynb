{
 "cells": [
  {
   "cell_type": "markdown",
   "metadata": {},
   "source": [
    "https://atcoder.jp/contests/abc129"
   ]
  },
  {
   "cell_type": "markdown",
   "metadata": {},
   "source": [
    "## 問題1"
   ]
  },
  {
   "cell_type": "code",
   "execution_count": 3,
   "metadata": {},
   "outputs": [
    {
     "name": "stdout",
     "output_type": "stream",
     "text": [
      "1 3 5\n",
      "4\n"
     ]
    }
   ],
   "source": [
    "P,Q,R = map(int,input().split())\n",
    "\n",
    "A = max(P,Q,R)\n",
    "\n",
    "print(P+Q+R-A)"
   ]
  },
  {
   "cell_type": "markdown",
   "metadata": {},
   "source": [
    "## 問題2"
   ]
  },
  {
   "cell_type": "code",
   "execution_count": 5,
   "metadata": {},
   "outputs": [
    {
     "name": "stdout",
     "output_type": "stream",
     "text": [
      "8\n",
      "27 23 76 2 3 5 62 52\n",
      "2\n"
     ]
    }
   ],
   "source": [
    "N = int(input())\n",
    "\n",
    "W = list(map(int,input().split()))\n",
    "\n",
    "ans = 100**100\n",
    "for i in range(1,N):\n",
    "    s1 = sum(W[:i])\n",
    "    s2 = sum(W[i:])\n",
    "    \n",
    "    if abs(s1-s2) < ans:\n",
    "        ans = abs(s1-s2)\n",
    "        \n",
    "print(ans)"
   ]
  },
  {
   "cell_type": "markdown",
   "metadata": {},
   "source": [
    "## 問題3"
   ]
  },
  {
   "cell_type": "code",
   "execution_count": 42,
   "metadata": {
    "tags": []
   },
   "outputs": [
    {
     "output_type": "stream",
     "name": "stdout",
     "text": [
      "[1, 1, 2, 0, 0, 0, 0, 0, 0, 0, 0]\n[1, 1, 2, 0, 0, 0, 0, 0, 0, 0, 0]\n[1, 1, 2, 0, 0, 0, 0, 0, 0, 0, 0]\n[1, 1, 2, 0, 0, 0, 0, 0, 0, 0, 0]\n[1, 1, 2, 0, 0, 0, 0, 0, 0, 0, 0]\n[1, 1, 2, 0, 0, 0, 0, 0, 0, 0, 0]\n[1, 1, 2, 0, 0, 0, 0, 0, 0, 0, 0]\n[1, 1, 2, 0, 0, 0, 0, 0, 0, 0, 0]\n"
     ]
    }
   ],
   "source": [
    "# n段目に到達するためには、n-1から+1 or n-2から+2の2通りある。\n",
    "\n",
    "N,M = map(int,input().split())\n",
    "mod = 1000000007\n",
    "\n",
    "stair = [0]*(N+1)\n",
    "stair[0] = 1\n",
    "NG = set([int(input()) for _ in range(M)]) # 集合にしないと、TLE\n",
    "\n",
    "if 1 in NG:\n",
    "    stair[1] = 0\n",
    "else:\n",
    "    stair[1] = 1\n",
    "    \n",
    "for i in range(2,N+1):\n",
    "    # NGをリスト型で条件分岐すると、TLE\n",
    "    if i in NG:\n",
    "        continue\n",
    "\n",
    "    stair[i] = (stair[i-1] + stair[i-2])%mod\n",
    "    #print(stair)\n",
    "print(stair[-1])"
   ]
  },
  {
   "cell_type": "code",
   "execution_count": null,
   "metadata": {},
   "outputs": [],
   "source": []
  }
 ],
 "metadata": {
  "kernelspec": {
   "display_name": "Python 3",
   "language": "python",
   "name": "python3"
  },
  "language_info": {
   "codemirror_mode": {
    "name": "ipython",
    "version": 3
   },
   "file_extension": ".py",
   "mimetype": "text/x-python",
   "name": "python",
   "nbconvert_exporter": "python",
   "pygments_lexer": "ipython3",
   "version": "3.8.2"
  },
  "toc": {
   "base_numbering": 1,
   "nav_menu": {},
   "number_sections": true,
   "sideBar": true,
   "skip_h1_title": false,
   "title_cell": "Table of Contents",
   "title_sidebar": "Contents",
   "toc_cell": false,
   "toc_position": {},
   "toc_section_display": true,
   "toc_window_display": false
  }
 },
 "nbformat": 4,
 "nbformat_minor": 4
}