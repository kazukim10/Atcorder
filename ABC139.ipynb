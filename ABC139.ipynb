{
 "cells": [
  {
   "source": [
    "https://atcoder.jp/contests/abc139"
   ],
   "cell_type": "markdown",
   "metadata": {}
  },
  {
   "cell_type": "code",
   "execution_count": 6,
   "metadata": {},
   "outputs": [
    {
     "output_type": "stream",
     "name": "stdout",
     "text": [
      "2\n"
     ]
    }
   ],
   "source": [
    "# 問題A\n",
    "S = list(input())\n",
    "T = list(input())\n",
    "\n",
    "ans = 0\n",
    "for i in range(len(S)):\n",
    "    if S[i] == T[i]:\n",
    "        ans += 1\n",
    "\n",
    "print(ans)"
   ]
  },
  {
   "cell_type": "code",
   "execution_count": 10,
   "metadata": {},
   "outputs": [
    {
     "output_type": "stream",
     "name": "stdout",
     "text": [
      "3\n"
     ]
    }
   ],
   "source": [
    "# 問題B\n",
    "A,B = map(int,input().split())\n",
    "\n",
    "if B == 1:\n",
    "    ans = 0\n",
    "else:\n",
    "\n",
    "    n = 1\n",
    "    tap = A\n",
    "    for i in range(B*2):\n",
    "        if B <= tap:\n",
    "            ans = n\n",
    "            break\n",
    "    \n",
    "        tap += A-1\n",
    "        n += 1\n",
    "print(ans)"
   ]
  },
  {
   "cell_type": "code",
   "execution_count": 23,
   "metadata": {},
   "outputs": [
    {
     "output_type": "stream",
     "name": "stdout",
     "text": [
      "2\n"
     ]
    }
   ],
   "source": [
    "# 問題C\n",
    "# 1 < N < 10**5\n",
    "\n",
    "N = int(input())\n",
    "H = list(map(int,input().split()))\n",
    "\n",
    "ans = 0\n",
    "count = 0\n",
    "for i in range(len(H)-1):\n",
    "    \n",
    "    tmp = H[i]\n",
    "\n",
    "    if tmp >= H[i+1]:\n",
    "        count += 1\n",
    "        tmp = H[i+1]\n",
    "    else:\n",
    "        count = 0\n",
    "\n",
    "    if ans <= count:\n",
    "        ans = count\n",
    "\n",
    "print(ans)"
   ]
  },
  {
   "cell_type": "code",
   "execution_count": null,
   "metadata": {},
   "outputs": [],
   "source": []
  }
 ],
 "metadata": {
  "kernelspec": {
   "display_name": "Python 3",
   "language": "python",
   "name": "python3"
  },
  "language_info": {
   "codemirror_mode": {
    "name": "ipython",
    "version": 3
   },
   "file_extension": ".py",
   "mimetype": "text/x-python",
   "name": "python",
   "nbconvert_exporter": "python",
   "pygments_lexer": "ipython3",
   "version": "3.8.2-final"
  },
  "toc": {
   "base_numbering": 1,
   "nav_menu": {},
   "number_sections": true,
   "sideBar": true,
   "skip_h1_title": false,
   "title_cell": "Table of Contents",
   "title_sidebar": "Contents",
   "toc_cell": false,
   "toc_position": {},
   "toc_section_display": true,
   "toc_window_display": false
  }
 },
 "nbformat": 4,
 "nbformat_minor": 4
}