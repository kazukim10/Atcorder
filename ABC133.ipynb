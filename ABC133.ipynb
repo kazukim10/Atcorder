{
 "cells": [
  {
   "cell_type": "markdown",
   "metadata": {},
   "source": [
    "https://atcoder.jp/contests/abc133"
   ]
  },
  {
   "cell_type": "code",
   "execution_count": 1,
   "metadata": {},
   "outputs": [
    {
     "output_type": "stream",
     "name": "stdout",
     "text": [
      "8\n"
     ]
    }
   ],
   "source": [
    "# 問題A\n",
    "N,A,B = map(int,input().split())\n",
    "\n",
    "print(min(N*A,B))"
   ]
  },
  {
   "cell_type": "code",
   "execution_count": 5,
   "metadata": {},
   "outputs": [
    {
     "output_type": "stream",
     "name": "stdout",
     "text": [
      "[1]\n[2]\n[1]\n[3]\n[1]\n[4]\n[1]\n[5]\n[2]\n[1]\n[2]\n[3]\n[2]\n[4]\n[2]\n[5]\n[3]\n[1]\n[3]\n[2]\n[3]\n[4]\n[3]\n[5]\n[4]\n[1]\n[4]\n[2]\n[4]\n[3]\n[4]\n[5]\n[5]\n[1]\n[5]\n[2]\n[5]\n[3]\n[5]\n[4]\n10\n"
     ]
    }
   ],
   "source": [
    "# 問題B\n",
    "import numpy as np\n",
    "\n",
    "N,D = map(int,input().split())\n",
    "\n",
    "X = []\n",
    "for i in range(N):\n",
    "    dist = 0\n",
    "    \n",
    "    X.append(list(map(int,input().split())))\n",
    "\n",
    "X = np.array(X)\n",
    "#print(X)\n",
    "#print(X.shape)\n",
    "\n",
    "ans = 0\n",
    "for i in range(N):\n",
    "    for j in range(N):\n",
    "        if i != j:\n",
    "            #print(X[i,:])\n",
    "            #print(X[j,:])\n",
    "            dist = np.sqrt(np.sum((X[i,:]-X[j,:])**2))\n",
    "\n",
    "            if dist - int(dist) == 0:\n",
    "                ans += 1\n",
    "print(ans//2)"
   ]
  },
  {
   "cell_type": "code",
   "execution_count": 18,
   "metadata": {},
   "outputs": [
    {
     "output_type": "stream",
     "name": "stdout",
     "text": [
      "2\n"
     ]
    }
   ],
   "source": [
    "# 問題C\n",
    "#2021%2019\n",
    "\n",
    "L,R = map(int,input().split())\n",
    "\n",
    "ans = 2019*2019\n",
    "\n",
    "if R-L >= 2019:\n",
    "    ans = 0\n",
    "else:\n",
    "    for i in range(L,R):\n",
    "        for j in range(L+1,R+1):\n",
    "            tmp = i*j%2019\n",
    "            if ans > tmp:\n",
    "                ans = tmp\n",
    "\n",
    "            if ans == 0:\n",
    "                break\n",
    "\n",
    "print(ans)"
   ]
  },
  {
   "cell_type": "code",
   "execution_count": null,
   "metadata": {},
   "outputs": [],
   "source": []
  }
 ],
 "metadata": {
  "kernelspec": {
   "display_name": "Python 3",
   "language": "python",
   "name": "python3"
  },
  "language_info": {
   "codemirror_mode": {
    "name": "ipython",
    "version": 3
   },
   "file_extension": ".py",
   "mimetype": "text/x-python",
   "name": "python",
   "nbconvert_exporter": "python",
   "pygments_lexer": "ipython3",
   "version": "3.8.2-final"
  },
  "toc": {
   "base_numbering": 1,
   "nav_menu": {},
   "number_sections": true,
   "sideBar": true,
   "skip_h1_title": false,
   "title_cell": "Table of Contents",
   "title_sidebar": "Contents",
   "toc_cell": false,
   "toc_position": {},
   "toc_section_display": true,
   "toc_window_display": false
  }
 },
 "nbformat": 4,
 "nbformat_minor": 4
}