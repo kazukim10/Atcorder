{
 "cells": [
  {
   "source": [
    "https://atcoder.jp/contests/abc204"
   ],
   "cell_type": "markdown",
   "metadata": {}
  },
  {
   "cell_type": "code",
   "execution_count": 5,
   "metadata": {},
   "outputs": [
    {
     "output_type": "stream",
     "name": "stdout",
     "text": [
      "1\n"
     ]
    }
   ],
   "source": [
    "# A\n",
    "x,y = map(int,input().split())\n",
    "\n",
    "if x == y:\n",
    "    print(x)\n",
    "else:\n",
    "    print(3-x-y)"
   ]
  },
  {
   "cell_type": "code",
   "execution_count": 6,
   "metadata": {},
   "outputs": [
    {
     "output_type": "stream",
     "name": "stdout",
     "text": [
      "25\n"
     ]
    }
   ],
   "source": [
    "# B\n",
    "N = int(input())\n",
    "A = list(map(int,input().split()))\n",
    "\n",
    "ans = 0\n",
    "for i in A:\n",
    "    if i <= 10:\n",
    "        ans = ans\n",
    "    elif i > 10:\n",
    "        ans += i -10\n",
    "print(ans)"
   ]
  },
  {
   "cell_type": "code",
   "execution_count": 38,
   "metadata": {},
   "outputs": [
    {
     "output_type": "stream",
     "name": "stdout",
     "text": [
      "[[1, 0, 1], [1, 1, 0], [1, 0, 1]]\n"
     ]
    }
   ],
   "source": [
    "# C\n",
    "N,M = map(int,input().split())\n",
    "st = [[1]*M for i in range(M)]\n",
    "#print(st)\n",
    "for j in range(M):\n",
    "    A,B = map(int,input().split())\n",
    "    st[A-1][B-1] = 0\n",
    "\n",
    "print(st)"
   ]
  },
  {
   "cell_type": "code",
   "execution_count": 14,
   "metadata": {
    "tags": []
   },
   "outputs": [
    {
     "output_type": "stream",
     "name": "stdout",
     "text": [
      "138\n"
     ]
    }
   ],
   "source": [
    "# D\n",
    "N = int(input())\n",
    "T = list(map(int,input().split()))\n",
    "T.sort()\n",
    "\n",
    "if N%2 == 0:\n",
    "    T1 = T[:N//2]\n",
    "    T2 = T[N//2:]\n",
    "\n",
    "    min_t = 10**10\n",
    "    for i in range(2**N:\n",
    "        O1 = 0\n",
    "        O2 = 0\n",
    "        for j in range(N):\n",
    "            if (i>>j)&1:\n",
    "                O1 += T[j]\n",
    "            else:\n",
    "                O2 += T[j]\n",
    "            #print(O1,O2)\n",
    "\n",
    "            if O1<O2 and min_t < O2:\n",
    "                break\n",
    "            elif O2 < O1 and min_t < O1:\n",
    "                break\n",
    "        \n",
    "        if O1<O2 and min_t > O2:\n",
    "            min_t = O2\n",
    "        elif O2 < O1 and min_t > O1:\n",
    "            min_t = O1\n",
    "\n",
    "print(min_t)"
   ]
  },
  {
   "cell_type": "code",
   "execution_count": 37,
   "metadata": {},
   "outputs": [
    {
     "output_type": "stream",
     "name": "stdout",
     "text": [
      "0 275\n3 272\n8 267\n17 258\n31 244\n46 229\n72 203\n107 168\n186 89\n0 275\n5 270\n14 261\n28 247\n43 232\n69 206\n104 171\n183 92\n272 3\n0 275\n9 266\n23 252\n38 237\n64 211\n99 176\n178 97\n267 8\n270 5\n0 275\n14 261\n29 246\n55 220\n90 185\n169 106\n258 17\n261 14\n266 9\n0 275\n15 260\n41 234\n76 199\n155 120\n244 31\n247 28\n252 23\n261 14\n0 275\n26 249\n61 214\n140 135\n229 46\n232 43\n237 38\n246 29\n260 15\n0 275\n35 240\n114 161\n203 72\n206 69\n211 64\n220 55\n234 41\n249 26\n0 275\n79 196\n168 107\n171 104\n176 99\n185 90\n199 76\n214 61\n240 35\n0 275\n89 186\n92 183\n97 178\n106 169\n120 155\n135 140\n161 114\n196 79\n140\n"
     ]
    }
   ],
   "source": [
    "# D\n",
    "N = int(input())\n",
    "T = list(map(int,input().split()))\n",
    "T.sort()\n",
    "#print(T)\n",
    "\n",
    "ori_T = T\n",
    "min_t = 10**10\n",
    "k = 0\n",
    "for j in range(N):\n",
    "    \n",
    "    T = ori_T[k:]+ori_T[:k]\n",
    "    for i in range(N):\n",
    "        O1 = T[:i]\n",
    "        O2 = T[i:]\n",
    "        #print(O1,O2)\n",
    "        O1_t = sum(O1)\n",
    "        O2_t = sum(O2)\n",
    "\n",
    "        print(O1_t,O2_t)\n",
    "        if O1_t<O2_t and min_t > O2_t:\n",
    "            min_t = O2_t\n",
    "\n",
    "        elif O2_t < O1_t and min_t > O1_t:\n",
    "            min_t = O1_t\n",
    "\n",
    "    k += 1\n",
    "print(min_t)"
   ]
  },
  {
   "cell_type": "code",
   "execution_count": 45,
   "metadata": {},
   "outputs": [
    {
     "output_type": "stream",
     "name": "stdout",
     "text": [
      "89 0 0\n79 0 89\n35 79 89\n26 114 89\n15 114 115\n14 129 115\n9 129 129\n5 129 138\n3 134 138\n138\n"
     ]
    }
   ],
   "source": [
    "# D\n",
    "N = int(input())\n",
    "T = list(map(int,input().split()))\n",
    "T.sort(reverse=True)\n",
    "#print(T)\n",
    "\n",
    "min_t = 10**100000\n",
    "O1 = 0\n",
    "O2 = 0\n",
    "for i in range(N):\n",
    "    #print(T[i],O1,O2)\n",
    "    if O1 >= O2:\n",
    "        O2 += T[i]\n",
    "    else:\n",
    "        O1 += T[i]\n",
    "\n",
    "if O1 >= O2:\n",
    "    ans = O1\n",
    "else:\n",
    "    ans = O2\n",
    "    \n",
    "print(ans)"
   ]
  },
  {
   "cell_type": "code",
   "execution_count": null,
   "metadata": {},
   "outputs": [],
   "source": []
  }
 ],
 "metadata": {
  "kernelspec": {
   "name": "python382jvsc74a57bd0a5d9475bd260c2962639eccf97ec044b95bdce9608a961016dadc3afcf0c0d5d",
   "display_name": "Python 3.8.2 64-bit ('anaconda3-2020.02': pyenv)"
  },
  "language_info": {
   "codemirror_mode": {
    "name": "ipython",
    "version": 3
   },
   "file_extension": ".py",
   "mimetype": "text/x-python",
   "name": "python",
   "nbconvert_exporter": "python",
   "pygments_lexer": "ipython3",
   "version": "3.8.2"
  },
  "toc": {
   "base_numbering": 1,
   "nav_menu": {},
   "number_sections": true,
   "sideBar": true,
   "skip_h1_title": false,
   "title_cell": "Table of Contents",
   "title_sidebar": "Contents",
   "toc_cell": false,
   "toc_position": {},
   "toc_section_display": true,
   "toc_window_display": false
  }
 },
 "nbformat": 4,
 "nbformat_minor": 4
}