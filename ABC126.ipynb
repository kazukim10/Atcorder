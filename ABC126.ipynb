{
 "cells": [
  {
   "cell_type": "markdown",
   "metadata": {},
   "source": [
    "https://atcoder.jp/contests/abc126"
   ]
  },
  {
   "cell_type": "markdown",
   "metadata": {},
   "source": [
    "## 問題1"
   ]
  },
  {
   "cell_type": "code",
   "execution_count": 5,
   "metadata": {},
   "outputs": [
    {
     "output_type": "stream",
     "name": "stdout",
     "text": [
      "aBC\n"
     ]
    }
   ],
   "source": [
    "N,K = map(int,input().split())\n",
    "\n",
    "S = input()\n",
    "ans = ''\n",
    "for i,s in enumerate(S,1):\n",
    "    if i == K:\n",
    "        ans += s.lower()\n",
    "    else:\n",
    "        ans += s\n",
    "print(ans)"
   ]
  },
  {
   "cell_type": "markdown",
   "metadata": {},
   "source": [
    "## 問題2"
   ]
  },
  {
   "cell_type": "code",
   "execution_count": 9,
   "metadata": {},
   "outputs": [
    {
     "output_type": "stream",
     "name": "stdout",
     "text": [
      "NA\n"
     ]
    }
   ],
   "source": [
    "S = input()\n",
    "\n",
    "A = S[:2]\n",
    "B = S[2:]\n",
    "\n",
    "if 1<= int(A) <=12 and 1<= int(B) <=12:\n",
    "    print('AMBIGUOUS')\n",
    "elif 1<= int(A) <=12:\n",
    "    print('MMYY')\n",
    "elif 1<= int(B) <=12:\n",
    "    print('YYMM')\n",
    "else:\n",
    "    print('NA')"
   ]
  },
  {
   "cell_type": "markdown",
   "metadata": {},
   "source": [
    "## 問題3"
   ]
  },
  {
   "cell_type": "code",
   "execution_count": 15,
   "metadata": {},
   "outputs": [
    {
     "output_type": "stream",
     "name": "stdout",
     "text": [
      "0.020833333333333332 4\n0.041666666666666664 3\n0.08333333333333333 2\n0.14583333333333331\n"
     ]
    }
   ],
   "source": [
    "import math\n",
    "N,K = map(int,input().split())\n",
    "\n",
    "ans = 0\n",
    "for i in range(1,N+1):\n",
    "    start = 1/N\n",
    "    tmp = i\n",
    "    n = 0\n",
    "    while tmp < K:\n",
    "        tmp *= 2\n",
    "        n += 1\n",
    "\n",
    "    start *= 0.5**n\n",
    "    #print(start,n)\n",
    "    ans += start\n",
    "print(ans)"
   ]
  },
  {
   "cell_type": "code",
   "execution_count": null,
   "metadata": {},
   "outputs": [],
   "source": []
  }
 ],
 "metadata": {
  "kernelspec": {
   "display_name": "Python 3",
   "language": "python",
   "name": "python3"
  },
  "language_info": {
   "codemirror_mode": {
    "name": "ipython",
    "version": 3
   },
   "file_extension": ".py",
   "mimetype": "text/x-python",
   "name": "python",
   "nbconvert_exporter": "python",
   "pygments_lexer": "ipython3",
   "version": "3.8.2-final"
  },
  "toc": {
   "base_numbering": 1,
   "nav_menu": {},
   "number_sections": true,
   "sideBar": true,
   "skip_h1_title": false,
   "title_cell": "Table of Contents",
   "title_sidebar": "Contents",
   "toc_cell": false,
   "toc_position": {},
   "toc_section_display": true,
   "toc_window_display": false
  }
 },
 "nbformat": 4,
 "nbformat_minor": 4
}