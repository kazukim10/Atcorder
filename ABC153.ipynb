{
 "cells": [
  {
   "source": [
    "https://atcoder.jp/contests/abc153"
   ],
   "cell_type": "markdown",
   "metadata": {}
  },
  {
   "cell_type": "code",
   "execution_count": 23,
   "metadata": {},
   "outputs": [
    {
     "output_type": "stream",
     "name": "stdout",
     "text": [
      "No\n"
     ]
    }
   ],
   "source": [
    "# 問題A\n",
    "H,A = map(int,input().split())\n",
    "\n",
    "print(H//A+1 if H%A != 0 else H//A)"
   ]
  },
  {
   "cell_type": "code",
   "execution_count": 4,
   "metadata": {},
   "outputs": [
    {
     "output_type": "stream",
     "name": "stdout",
     "text": [
      "211 210\nNo\n"
     ]
    }
   ],
   "source": [
    "# 問題B\n",
    "H,N = map(int,input().split())\n",
    "A = list(map(int,input().split()))\n",
    "\n",
    "#print(H,sum(A))\n",
    "print('Yes' if H <= sum(A) else 'No')"
   ]
  },
  {
   "cell_type": "code",
   "execution_count": 12,
   "metadata": {},
   "outputs": [
    {
     "output_type": "stream",
     "name": "stdout",
     "text": [
      "3000000000\n"
     ]
    }
   ],
   "source": [
    "# 問題C\n",
    "\n",
    "N,K = map(int,input().split())\n",
    "H = list(map(int,input().split()))\n",
    "\n",
    "H.sort()\n",
    "#print(H[:-K])\n",
    "print(sum(H[:-K]) if K != 0 else sum(H))"
   ]
  },
  {
   "cell_type": "code",
   "execution_count": 66,
   "metadata": {
    "tags": []
   },
   "outputs": [
    {
     "output_type": "stream",
     "name": "stdout",
     "text": [
      "3\n"
     ]
    }
   ],
   "source": [
    "# 問題D\n",
    "H = int(input())\n",
    "\n",
    "hp = H\n",
    "if hp ==1:\n",
    "    print(1)\n",
    "else:\n",
    "\n",
    "    for i in range(H//2):\n",
    "        hp = (hp//2)\n",
    "\n",
    "        if hp == 1:\n",
    "            print(2**(i+2)-1)\n",
    "            break"
   ]
  }
 ],
 "metadata": {
  "kernelspec": {
   "display_name": "Python 3",
   "language": "python",
   "name": "python3"
  },
  "language_info": {
   "codemirror_mode": {
    "name": "ipython",
    "version": 3
   },
   "file_extension": ".py",
   "mimetype": "text/x-python",
   "name": "python",
   "nbconvert_exporter": "python",
   "pygments_lexer": "ipython3",
   "version": "3.8.2-final"
  },
  "toc": {
   "base_numbering": 1,
   "nav_menu": {},
   "number_sections": true,
   "sideBar": true,
   "skip_h1_title": false,
   "title_cell": "Table of Contents",
   "title_sidebar": "Contents",
   "toc_cell": false,
   "toc_position": {},
   "toc_section_display": true,
   "toc_window_display": false
  }
 },
 "nbformat": 4,
 "nbformat_minor": 4
}