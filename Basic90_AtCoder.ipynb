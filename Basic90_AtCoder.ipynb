{
 "cells": [
  {
   "source": [
    "https://github.com/E869120/kyopro_educational_90"
   ],
   "cell_type": "markdown",
   "metadata": {}
  },
  {
   "cell_type": "code",
   "execution_count": 19,
   "metadata": {},
   "outputs": [
    {
     "output_type": "stream",
     "name": "stdout",
     "text": [
      "170\n"
     ]
    }
   ],
   "source": [
    "# 001 - Yokan Party(Level 4)\n",
    "# https://atcoder.jp/contests/typical90/tasks/typical90_a\n",
    "# TLE → 答えで二分探索\n",
    "# 　\n",
    "N,L = map(int,input().split())\n",
    "K = int(input())\n",
    "A = list(map(int,input().split()))\n",
    "\n",
    "min_l = 0\n",
    "for i in range(2**N):\n",
    "    yokan = []\n",
    "    yokan_sub = 0\n",
    "    check = 0 \n",
    "    for j in range(N):\n",
    "        if check > K:\n",
    "            break\n",
    "\n",
    "        if (i >> j)&1:\n",
    "            check += 1\n",
    "            yokan.append(A[j] - yokan_sub)\n",
    "            yokan_sub = A[j]\n",
    "\n",
    "    yokan_sub = L - sum(yokan)\n",
    "    yokan.append(yokan_sub)\n",
    "    #print(yokan)\n",
    "    if check == K:\n",
    "            if min_l < min(yokan):\n",
    "                min_l = min(yokan)\n",
    "print(min_l)"
   ]
  },
  {
   "cell_type": "code",
   "execution_count": null,
   "metadata": {},
   "outputs": [],
   "source": []
  }
 ],
 "metadata": {
  "kernelspec": {
   "display_name": "Python 3",
   "language": "python",
   "name": "python3"
  },
  "language_info": {
   "codemirror_mode": {
    "name": "ipython",
    "version": 3
   },
   "file_extension": ".py",
   "mimetype": "text/x-python",
   "name": "python",
   "nbconvert_exporter": "python",
   "pygments_lexer": "ipython3",
   "version": "3.8.2"
  },
  "toc": {
   "base_numbering": 1,
   "nav_menu": {},
   "number_sections": true,
   "sideBar": true,
   "skip_h1_title": false,
   "title_cell": "Table of Contents",
   "title_sidebar": "Contents",
   "toc_cell": false,
   "toc_position": {},
   "toc_section_display": true,
   "toc_window_display": false
  }
 },
 "nbformat": 4,
 "nbformat_minor": 4
}