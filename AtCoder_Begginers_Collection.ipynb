{
 "cells": [
  {
   "cell_type": "markdown",
   "metadata": {},
   "source": [
    "## ABC 086\n",
    "### A product"
   ]
  },
  {
   "cell_type": "code",
   "execution_count": 3,
   "metadata": {},
   "outputs": [
    {
     "name": "stdout",
     "output_type": "stream",
     "text": [
      "1 21\n",
      "Odd\n"
     ]
    }
   ],
   "source": [
    "a,b = map(int,input().split())\n",
    "\n",
    "if a*b % 2 == 0:\n",
    "    print('Even')\n",
    "else:\n",
    "    print('Odd')"
   ]
  },
  {
   "cell_type": "markdown",
   "metadata": {},
   "source": [
    "## ABC 081\n",
    "### A Placing Marbles"
   ]
  },
  {
   "cell_type": "code",
   "execution_count": 5,
   "metadata": {},
   "outputs": [
    {
     "name": "stdout",
     "output_type": "stream",
     "text": [
      "000\n",
      "0\n"
     ]
    }
   ],
   "source": [
    "s = input()\n",
    "\n",
    "count = 0\n",
    "for i in s:\n",
    "    if int(i) == 1:\n",
    "        count += 1\n",
    "print(count)"
   ]
  },
  {
   "cell_type": "markdown",
   "metadata": {},
   "source": [
    "## ABC 081\n",
    "### B Shift Only"
   ]
  },
  {
   "cell_type": "code",
   "execution_count": 9,
   "metadata": {
    "tags": []
   },
   "outputs": [
    {
     "output_type": "stream",
     "name": "stdout",
     "text": [
      "2\n"
     ]
    }
   ],
   "source": [
    "# 21.04.19\n",
    "N = int(input())\n",
    "A = list(map(int,input().split()))\n",
    "\n",
    "count = 0\n",
    "flag = True\n",
    "\n",
    "while flag:\n",
    "    tmp = []\n",
    "    for a in A:\n",
    "        if a%2==0:\n",
    "            tmp.append(a//2)\n",
    "        else:\n",
    "            flag = False\n",
    "    if flag:\n",
    "        count += 1\n",
    "    A = tmp\n",
    "print(count)"
   ]
  },
  {
   "cell_type": "code",
   "execution_count": 26,
   "metadata": {},
   "outputs": [
    {
     "output_type": "stream",
     "name": "stdout",
     "text": [
      "213\n"
     ]
    }
   ],
   "source": [
    "# ABC087_C 21.04.19\n",
    "A = int(input())\n",
    "B = int(input())\n",
    "C = int(input())\n",
    "X = int(input())\n",
    "\n",
    "ans = 0\n",
    "for a in range(A+1):\n",
    "    for b in range(B+1):\n",
    "        c = (X - 500*a - 100*b)//50\n",
    "        # cは0枚以上の制約をうける\n",
    "        if 0 <= c <= C and X == 500*a +100*b +50*c:\n",
    "            ans += 1\n",
    "            #print(a,b,c)\n",
    "print(ans)"
   ]
  },
  {
   "cell_type": "code",
   "execution_count": 31,
   "metadata": {},
   "outputs": [
    {
     "output_type": "stream",
     "name": "stdout",
     "text": [
      "13\n"
     ]
    }
   ],
   "source": [
    "# ABC083_B 21.04.19\n",
    "N,A,B = map(int,input().split())\n",
    "\n",
    "ans=0\n",
    "for n in range(1,N+1):\n",
    "    n = str(n)\n",
    "    \n",
    "    c = 0\n",
    "    for i in n:\n",
    "        c += int(i)\n",
    "\n",
    "    if A <= c <= B:\n",
    "        ans += int(n)\n",
    "print(ans)"
   ]
  },
  {
   "cell_type": "code",
   "execution_count": 34,
   "metadata": {},
   "outputs": [
    {
     "output_type": "stream",
     "name": "stdout",
     "text": [
      "5\n"
     ]
    }
   ],
   "source": [
    "# ABC088_B 21.04.19\n",
    "N = int(input())\n",
    "A = list(map(int,input().split()))\n",
    "A.sort(reverse=True)\n",
    "Alice = 0\n",
    "Bob = 0\n",
    "for i,a in enumerate(A):\n",
    "    if i%2==0:\n",
    "        Alice += a\n",
    "    else:\n",
    "        Bob += a\n",
    "print(Alice-Bob)"
   ]
  },
  {
   "cell_type": "code",
   "execution_count": 40,
   "metadata": {},
   "outputs": [
    {
     "output_type": "stream",
     "name": "stdout",
     "text": [
      "1\n"
     ]
    }
   ],
   "source": [
    "# ABC085_B 21.04.19\n",
    "N = int(input())\n",
    "mochi = []\n",
    "for _ in range(N):\n",
    "    mochi.append(int(input()))\n",
    "\n",
    "mochi.sort()\n",
    "stack = 1\n",
    "for i in range(N-1):\n",
    "    if mochi[i+1] > mochi[i]:\n",
    "        stack += 1\n",
    "    else:\n",
    "        stack\n",
    "print(stack)"
   ]
  },
  {
   "cell_type": "code",
   "execution_count": 48,
   "metadata": {},
   "outputs": [
    {
     "output_type": "stream",
     "name": "stdout",
     "text": [
      "4 0 5\n"
     ]
    }
   ],
   "source": [
    "# ABC085_C 21.04.19\n",
    "N,Y = map(int,input().split())\n",
    "A,B,C = -1,-1,-1\n",
    "\n",
    "for a in range(N+1):\n",
    "    for b in range(N-a+1):\n",
    "        # N枚　制約を使う\n",
    "        c = N-a-b\n",
    "        total = 10000*a +5000*b + 1000*c\n",
    "\n",
    "        if Y == total:\n",
    "            A,B,C = a,b,c\n",
    "            break\n",
    "print(A,B,C)"
   ]
  },
  {
   "cell_type": "code",
   "execution_count": 58,
   "metadata": {},
   "outputs": [],
   "source": [
    "# ABC049_C 21.04.19 NG\n",
    "S = input()\n",
    "T = ['dream','dreamer','erase','eraser']\n",
    "A = ''\n",
    "S_copy = S\n",
    "\n",
    "flag = True\n",
    "while flag:\n",
    "    if A == S_copy:\n",
    "        print('YES')\n",
    "        break\n",
    "\n",
    "    check = 0\n",
    "    for t in T:\n",
    "        l = len(t)\n",
    "        if S[:l] == t:\n",
    "            S = S[l:]\n",
    "            A += t\n",
    "            break\n",
    "        else:\n",
    "            check += 1\n",
    "    if check == 4:\n",
    "        print('NO')\n",
    "        flag = False\n",
    "    #print('process',S,A)"
   ]
  },
  {
   "cell_type": "code",
   "execution_count": 59,
   "metadata": {},
   "outputs": [
    {
     "output_type": "stream",
     "name": "stdout",
     "text": [
      "YES\n"
     ]
    }
   ],
   "source": [
    "s=input()\n",
    "\n",
    "s=s.replace('eraser', '')\n",
    "s=s.replace('erase', '')\n",
    "s=s.replace('dreamer', '')\n",
    "s=s.replace('dream', '')\n",
    " \n",
    "if len(s)==0:\n",
    "    print('YES')\n",
    "else:\n",
    "    print('NO')"
   ]
  },
  {
   "cell_type": "code",
   "execution_count": 61,
   "metadata": {},
   "outputs": [
    {
     "output_type": "stream",
     "name": "stdout",
     "text": [
      "3\n",
      "3\n",
      "Yes\n"
     ]
    }
   ],
   "source": [
    "# ABC086_C 21.04.19\n",
    "N = int(input())\n",
    "t,x,y = 0,0,0\n",
    "\n",
    "ans = 'Yes'\n",
    "for i in range(N):\n",
    "    nt,nx,ny = map(int,input().split())\n",
    "\n",
    "    steps = nt - t\n",
    "    dist = abs(nx-x) + abs(ny-y)\n",
    "    #print(steps,dist)\n",
    "    if dist <= steps and steps%2 == dist%2:\n",
    "        t,x,y = nt,nx,ny\n",
    "\n",
    "    else:\n",
    "        ans = 'No'\n",
    "        break\n",
    "\n",
    "print(ans)"
   ]
  },
  {
   "cell_type": "code",
   "execution_count": null,
   "metadata": {},
   "outputs": [],
   "source": [
    "a = int(input())\n",
    "b,c = map(int,input().split())\n",
    "s = input()\n",
    "print(a+b+c,s)"
   ]
  }
 ],
 "metadata": {
  "kernelspec": {
   "display_name": "Python 3",
   "language": "python",
   "name": "python3"
  },
  "language_info": {
   "codemirror_mode": {
    "name": "ipython",
    "version": 3
   },
   "file_extension": ".py",
   "mimetype": "text/x-python",
   "name": "python",
   "nbconvert_exporter": "python",
   "pygments_lexer": "ipython3",
   "version": "3.8.2-final"
  },
  "toc": {
   "base_numbering": 1,
   "nav_menu": {},
   "number_sections": true,
   "sideBar": true,
   "skip_h1_title": false,
   "title_cell": "Table of Contents",
   "title_sidebar": "Contents",
   "toc_cell": false,
   "toc_position": {},
   "toc_section_display": true,
   "toc_window_display": false
  }
 },
 "nbformat": 4,
 "nbformat_minor": 4
}