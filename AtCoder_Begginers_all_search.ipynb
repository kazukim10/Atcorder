{
 "cells": [
  {
   "cell_type": "code",
   "execution_count": 12,
   "metadata": {},
   "outputs": [
    {
     "output_type": "stream",
     "name": "stdout",
     "text": [
      "No\n"
     ]
    }
   ],
   "source": [
    "# ABC144_B - 81\n",
    "N = int(input())\n",
    "num = [int(i) for i in range(1,10)]\n",
    "\n",
    "flag = False\n",
    "for i in range(1,10):\n",
    "    if N/i in num:\n",
    "        flag = True\n",
    "\n",
    "print('Yes' if flag == True else 'No')"
   ]
  },
  {
   "cell_type": "code",
   "execution_count": 16,
   "metadata": {},
   "outputs": [
    {
     "output_type": "stream",
     "name": "stdout",
     "text": [
      "2\n"
     ]
    }
   ],
   "source": [
    "# ABC150_B - Count ABC\n",
    "N = int(input())\n",
    "S = input()\n",
    "\n",
    "ans = 0\n",
    "for i in range(N-3+1):\n",
    "    #print(S[i:i+3])\n",
    "    if S[i:i+3] == 'ABC':\n",
    "        ans += 1\n",
    "\n",
    "print(ans)"
   ]
  },
  {
   "cell_type": "code",
   "execution_count": 18,
   "metadata": {},
   "outputs": [
    {
     "output_type": "stream",
     "name": "stdout",
     "text": [
      "5\n"
     ]
    }
   ],
   "source": [
    "# ABC122_B - ATCoder\n",
    "S = input()\n",
    "\n",
    "ans = 0\n",
    "count = 0\n",
    "for s in S:\n",
    "    if s in ['A','C','G','T']:\n",
    "        count += 1\n",
    "    elif ans < count:\n",
    "        ans = count\n",
    "        count = 0\n",
    "\n",
    "if ans < count:\n",
    "    ans = count\n",
    "print(ans)\n",
    "        "
   ]
  },
  {
   "cell_type": "code",
   "execution_count": 26,
   "metadata": {},
   "outputs": [
    {
     "output_type": "stream",
     "name": "stdout",
     "text": [
      "90909\n"
     ]
    }
   ],
   "source": [
    "# ABC136_B - Uneven Numbers\n",
    "N = int(input())\n",
    "\n",
    "ans = 0\n",
    "for n in range(1,N+1):\n",
    "    n = str(n)\n",
    "    if len(n)%2 == 1:\n",
    "        ans += 1\n",
    "print(ans)"
   ]
  },
  {
   "cell_type": "code",
   "execution_count": 40,
   "metadata": {},
   "outputs": [
    {
     "output_type": "stream",
     "name": "stdout",
     "text": [
      "1\n"
     ]
    }
   ],
   "source": [
    "# ABC106_B - 105\n",
    "\n",
    "N = int(input())\n",
    "sq = N\n",
    "\n",
    "ans = 0\n",
    "for i in range(1,N+1):\n",
    "    if i%2 == 1:\n",
    "        count = 0\n",
    "        \n",
    "        for j in range(1,sq+1):\n",
    "            if i%j == 0:\n",
    "                count += 1\n",
    "        #print(i,count)\n",
    "        if count == 8:\n",
    "            ans += 1\n",
    "print(ans)"
   ]
  },
  {
   "cell_type": "code",
   "execution_count": 49,
   "metadata": {},
   "outputs": [
    {
     "output_type": "stream",
     "name": "stdout",
     "text": [
      "5\n"
     ]
    }
   ],
   "source": [
    "# ABC120_B - K-th Common Divisor\n",
    "A,B,K = map(int,input().split())\n",
    "if A > B:\n",
    "    M = B\n",
    "else:\n",
    "    M = A\n",
    "\n",
    "div = []\n",
    "for i in range(1,M+1):\n",
    "    if A%i == 0 and B%i == 0:\n",
    "        #print(i)\n",
    "        div.append(i)\n",
    "\n",
    "print(div[-K])"
   ]
  },
  {
   "cell_type": "code",
   "execution_count": 59,
   "metadata": {},
   "outputs": [
    {
     "output_type": "stream",
     "name": "stdout",
     "text": [
      "3\n"
     ]
    }
   ],
   "source": [
    "# ABC057_C - Digits in Multiplication\n",
    "N = input()\n",
    "L = len(N)\n",
    "\n",
    "N = int(N)\n",
    "sq = N**(1/2)\n",
    "\n",
    "tmp = N\n",
    "for a in range(2,int(sq)+1):\n",
    "    b = N//a\n",
    "    if N%a == 0 and tmp > b:\n",
    "        tmp = b\n",
    "\n",
    "print(len(str(tmp)))"
   ]
  },
  {
   "cell_type": "code",
   "execution_count": 71,
   "metadata": {},
   "outputs": [
    {
     "output_type": "stream",
     "name": "stdout",
     "text": [
      "7900\n"
     ]
    }
   ],
   "source": [
    "# ABC095_C Half and Half\n",
    "A,B,C,X,Y = map(int,input().split())\n",
    "\n",
    "ans = 10**10\n",
    "for i in range(0,2*10**5+1):\n",
    "    tmp = 0\n",
    "    if i%2==0:\n",
    "        tmp += i*C\n",
    "\n",
    "        if X > i//2:\n",
    "            tmp += (X-i//2)*A\n",
    "        if Y > i//2:\n",
    "            tmp += (Y-i//2)*B\n",
    "    \n",
    "        if tmp < ans:\n",
    "            ans = tmp\n",
    "            #print(i,ans)\n",
    "\n",
    "print(ans)"
   ]
  },
  {
   "cell_type": "code",
   "execution_count": 74,
   "metadata": {},
   "outputs": [
    {
     "output_type": "stream",
     "name": "stdout",
     "text": [
      "91.92388155425118\n"
     ]
    }
   ],
   "source": [
    "# ABC145_C - Average Length\n",
    "N = int(input())\n",
    "\n",
    "town = []\n",
    "for i in range(N):\n",
    "    x,y = map(int,input().split())\n",
    "    town.append([x,y])\n",
    "\n",
    "ans = 0\n",
    "for i in range(N):\n",
    "    xa,ya = town[i]\n",
    "    tmp = 0\n",
    "    for j in range(N):\n",
    "        if i == j:\n",
    "            continue\n",
    "        else:\n",
    "            xb,yb = town[j]\n",
    "            tmp += ((xa-xb)**2+(ya-yb)**2)**0.5\n",
    "\n",
    "    ans += tmp\n",
    "print(ans/N)"
   ]
  },
  {
   "cell_type": "code",
   "execution_count": 88,
   "metadata": {},
   "outputs": [
    {
     "output_type": "stream",
     "name": "stdout",
     "text": [
      "0\n"
     ]
    }
   ],
   "source": [
    "# ABC150_C - Count Order\n",
    "import itertools\n",
    "\n",
    "N = int(input())\n",
    "P = tuple(map(int,input().split()))\n",
    "Q = tuple(map(int,input().split()))\n",
    "\n",
    "perm = list(itertools.permutations(range(1,N+1)))\n",
    "#print(perm)\n",
    "\n",
    "for i,j in enumerate(perm):\n",
    "    #print(i,j)\n",
    "    if j == P:\n",
    "        a = i\n",
    "        #print(j,a)\n",
    "    elif j == Q:\n",
    "        b = i\n",
    "        #print(j,b)\n",
    "print(abs(a-b) if P != Q else 0)"
   ]
  },
  {
   "cell_type": "code",
   "execution_count": null,
   "metadata": {},
   "outputs": [],
   "source": [
    "# ABC054_C - One-stroke Path"
   ]
  }
 ],
 "metadata": {
  "kernelspec": {
   "display_name": "Python 3",
   "language": "python",
   "name": "python3"
  },
  "language_info": {
   "codemirror_mode": {
    "name": "ipython",
    "version": 3
   },
   "file_extension": ".py",
   "mimetype": "text/x-python",
   "name": "python",
   "nbconvert_exporter": "python",
   "pygments_lexer": "ipython3",
   "version": "3.8.2"
  },
  "toc": {
   "base_numbering": 1,
   "nav_menu": {},
   "number_sections": true,
   "sideBar": true,
   "skip_h1_title": false,
   "title_cell": "Table of Contents",
   "title_sidebar": "Contents",
   "toc_cell": false,
   "toc_position": {},
   "toc_section_display": true,
   "toc_window_display": false
  }
 },
 "nbformat": 4,
 "nbformat_minor": 4
}