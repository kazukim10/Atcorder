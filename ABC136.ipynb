{
 "cells": [
  {
   "source": [
    "https://atcoder.jp/contests/abc136"
   ],
   "cell_type": "markdown",
   "metadata": {}
  },
  {
   "cell_type": "code",
   "execution_count": 3,
   "metadata": {},
   "outputs": [
    {
     "output_type": "stream",
     "name": "stdout",
     "text": [
      "0\n"
     ]
    }
   ],
   "source": [
    "#問題A\n",
    "A,B,C = map(int,input().split())\n",
    "\n",
    "print(C-(A-B) if C-(A-B) >= 0 else 0)"
   ]
  },
  {
   "cell_type": "code",
   "execution_count": 11,
   "metadata": {},
   "outputs": [
    {
     "output_type": "stream",
     "name": "stdout",
     "text": [
      "90909\n"
     ]
    }
   ],
   "source": [
    "# 問題B\n",
    "# 1 <N< 10**5\n",
    "\n",
    "N = input()\n",
    "\n",
    "ans = 0\n",
    "\n",
    "if len(N) == 1:\n",
    "    ans += int(N)\n",
    "\n",
    "elif len(N) == 2:\n",
    "    ans += 9\n",
    "\n",
    "elif len(N) == 3:\n",
    "    ans += 9\n",
    "    ans += int(N) -99\n",
    "\n",
    "elif len(N) == 4:\n",
    "    ans += 9\n",
    "    ans += 900\n",
    "\n",
    "elif len(N) == 5:\n",
    "    ans += 9\n",
    "    ans += 900\n",
    "    ans += int(N) -9999\n",
    "\n",
    "elif len(N) == 6:\n",
    "    ans += 9\n",
    "    ans += 900\n",
    "    ans += 90000\n",
    "\n",
    "print(ans)"
   ]
  },
  {
   "cell_type": "code",
   "execution_count": 17,
   "metadata": {},
   "outputs": [
    {
     "output_type": "stream",
     "name": "stdout",
     "text": [
      "No\n"
     ]
    }
   ],
   "source": [
    "# 問題C\n",
    "# max()は遅い\n",
    "N = int(input())\n",
    "\n",
    "H = list(map(int,input().split()))\n",
    "\n",
    "flag = 'Yes'\n",
    "max_h = H[0]\n",
    "for i in range(N-1):\n",
    "    if H[i+1] -(max_h-1) >= 0:\n",
    "        flag = flag\n",
    "    else:\n",
    "        flag = 'No'\n",
    "    \n",
    "    if max_h < H[i+1]:\n",
    "        max_h = H[i+1]\n",
    "print(flag)"
   ]
  }
 ],
 "metadata": {
  "kernelspec": {
   "display_name": "Python 3",
   "language": "python",
   "name": "python3"
  },
  "language_info": {
   "codemirror_mode": {
    "name": "ipython",
    "version": 3
   },
   "file_extension": ".py",
   "mimetype": "text/x-python",
   "name": "python",
   "nbconvert_exporter": "python",
   "pygments_lexer": "ipython3",
   "version": "3.8.2-final"
  },
  "toc": {
   "base_numbering": 1,
   "nav_menu": {},
   "number_sections": true,
   "sideBar": true,
   "skip_h1_title": false,
   "title_cell": "Table of Contents",
   "title_sidebar": "Contents",
   "toc_cell": false,
   "toc_position": {},
   "toc_section_display": true,
   "toc_window_display": false
  }
 },
 "nbformat": 4,
 "nbformat_minor": 4
}