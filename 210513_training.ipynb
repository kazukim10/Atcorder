{
 "cells": [
  {
   "cell_type": "code",
   "execution_count": 17,
   "metadata": {},
   "outputs": [
    {
     "output_type": "stream",
     "name": "stdout",
     "text": [
      "0 0 3 2 0 2 1 0 0 0 4 4 0 0 0 0\n"
     ]
    }
   ],
   "source": [
    "# ABC136_D - Gathering Children\n",
    "# ダブリング、ランレングス圧縮\n",
    "\n",
    "S = input()\n",
    "L = len(S)\n",
    "\n",
    "ans = [0]*L\n",
    "\n",
    "for i in range(L):\n",
    "    step = S[i]\n",
    "    step_n = i\n",
    "    count = 0\n",
    "\n",
    "    if step == 'L':\n",
    "        gat = 'R'\n",
    "        nt = -1\n",
    "    else:\n",
    "        gat = 'L'\n",
    "        nt = 1\n",
    "    \n",
    "    while S[step_n] != gat:\n",
    "        count += 1\n",
    "        step_n += nt\n",
    "        \n",
    "        # step = S[step_n] stepは更新不要　一方向に移動で良い\n",
    "\n",
    "    if (10**100 -count)%2 == 0:\n",
    "        ans[step_n] += 1\n",
    "\n",
    "    elif (10**100 -count)%2 != 0:\n",
    "        ans[step_n -nt] += 1\n",
    "\n",
    "    elif (10**100 -count)%2 != 0:\n",
    "        ans[step_n -nt] += 1\n",
    "\n",
    "#print(' '.join(map(str,ans)))\n",
    "print(*ans)"
   ]
  },
  {
   "cell_type": "code",
   "execution_count": null,
   "metadata": {},
   "outputs": [],
   "source": []
  }
 ],
 "metadata": {
  "kernelspec": {
   "display_name": "Python 3",
   "language": "python",
   "name": "python3"
  },
  "language_info": {
   "codemirror_mode": {
    "name": "ipython",
    "version": 3
   },
   "file_extension": ".py",
   "mimetype": "text/x-python",
   "name": "python",
   "nbconvert_exporter": "python",
   "pygments_lexer": "ipython3",
   "version": "3.8.2"
  },
  "toc": {
   "base_numbering": 1,
   "nav_menu": {},
   "number_sections": true,
   "sideBar": true,
   "skip_h1_title": false,
   "title_cell": "Table of Contents",
   "title_sidebar": "Contents",
   "toc_cell": false,
   "toc_position": {},
   "toc_section_display": true,
   "toc_window_display": false
  }
 },
 "nbformat": 4,
 "nbformat_minor": 4
}