{
 "cells": [
  {
   "source": [
    "https://atcoder.jp/contests/abc155"
   ],
   "cell_type": "markdown",
   "metadata": {}
  },
  {
   "cell_type": "code",
   "execution_count": 3,
   "metadata": {},
   "outputs": [
    {
     "output_type": "stream",
     "name": "stdout",
     "text": [
      "No\n"
     ]
    }
   ],
   "source": [
    "# 問題A\n",
    "S = list(map(int,input().split()))\n",
    "\n",
    "dic = {}\n",
    "for s in S:\n",
    "    if s not in dic:\n",
    "        dic[s] = 1\n",
    "    else:\n",
    "        dic[s] += 1\n",
    "\n",
    "print('Yes' if len(dic)==2 else 'No')"
   ]
  },
  {
   "cell_type": "code",
   "execution_count": 4,
   "metadata": {},
   "outputs": [
    {
     "output_type": "stream",
     "name": "stdout",
     "text": [
      "APPROVED\n"
     ]
    }
   ],
   "source": [
    "# 問題B\n",
    "N = int(input())\n",
    "A = list(map(int,input().split()))\n",
    "\n",
    "flag = 'APPROVED'\n",
    "for a in A:\n",
    "    if a%2 == 0:\n",
    "        if a%3 == 0 or a%5 == 0:\n",
    "            flag = flag\n",
    "\n",
    "        else:\n",
    "            flag = 'DENIED'\n",
    "            break\n",
    "print(flag)"
   ]
  },
  {
   "cell_type": "code",
   "execution_count": 7,
   "metadata": {},
   "outputs": [
    {
     "output_type": "stream",
     "name": "stdout",
     "text": [
      "aa\n"
     ]
    }
   ],
   "source": [
    "# 問題C\n",
    "N = int(input())\n",
    "S = {}\n",
    "\n",
    "max_ = 0\n",
    "for i in range(N):\n",
    "    s = input()\n",
    "    if s not in S:\n",
    "        S[s] = 1\n",
    "    else:\n",
    "        S[s] += 1\n",
    "\n",
    "    if max_ < S[s]:\n",
    "        max_ = S[s]\n",
    "\n",
    "S = sorted(S.items())\n",
    "for i,j in S:\n",
    "    if j == max_:\n",
    "        print(i)"
   ]
  }
 ],
 "metadata": {
  "kernelspec": {
   "display_name": "Python 3",
   "language": "python",
   "name": "python3"
  },
  "language_info": {
   "codemirror_mode": {
    "name": "ipython",
    "version": 3
   },
   "file_extension": ".py",
   "mimetype": "text/x-python",
   "name": "python",
   "nbconvert_exporter": "python",
   "pygments_lexer": "ipython3",
   "version": "3.8.2-final"
  },
  "toc": {
   "base_numbering": 1,
   "nav_menu": {},
   "number_sections": true,
   "sideBar": true,
   "skip_h1_title": false,
   "title_cell": "Table of Contents",
   "title_sidebar": "Contents",
   "toc_cell": false,
   "toc_position": {},
   "toc_section_display": true,
   "toc_window_display": false
  }
 },
 "nbformat": 4,
 "nbformat_minor": 4
}