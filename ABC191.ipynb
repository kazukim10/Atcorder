{
 "cells": [
  {
   "cell_type": "markdown",
   "metadata": {},
   "source": [
    "https://atcoder.jp/contests/abc191"
   ]
  },
  {
   "cell_type": "markdown",
   "metadata": {},
   "source": [
    "## 問題1"
   ]
  },
  {
   "cell_type": "code",
   "execution_count": 2,
   "metadata": {},
   "outputs": [
    {
     "name": "stdout",
     "output_type": "stream",
     "text": [
      "10 3 5 30\n",
      "No\n"
     ]
    }
   ],
   "source": [
    "v,t,s,d = map(int,input().split())\n",
    "\n",
    "if d<v*t or s*v<d:\n",
    "    print('Yes')\n",
    "else:\n",
    "    print('No')"
   ]
  },
  {
   "cell_type": "markdown",
   "metadata": {},
   "source": [
    "## 問題2"
   ]
  },
  {
   "cell_type": "code",
   "execution_count": 8,
   "metadata": {},
   "outputs": [
    {
     "name": "stdout",
     "output_type": "stream",
     "text": [
      "5 5\n",
      "3 5 6 5 4\n",
      "3 6 4\n"
     ]
    }
   ],
   "source": [
    "N,X = map(int,input().split())\n",
    "\n",
    "S = list(map(int,input().split()))\n",
    "\n",
    "A = [s for s in S if s != X]\n",
    "\n",
    "if A == []:\n",
    "    print()\n",
    "else:\n",
    "    ans = ''\n",
    "    for i in A:\n",
    "        ans += str(i)+' '\n",
    "    print(ans[:-1])"
   ]
  },
  {
   "cell_type": "markdown",
   "metadata": {},
   "source": [
    "## 問題3"
   ]
  },
  {
   "cell_type": "code",
   "execution_count": 12,
   "metadata": {},
   "outputs": [
    {
     "name": "stdout",
     "output_type": "stream",
     "text": [
      "5 5\n",
      ".....\n",
      ".###.\n",
      ".###.\n",
      ".###.\n",
      ".....\n",
      "9 3\n",
      "2.3094010767585034\n"
     ]
    }
   ],
   "source": [
    "import numpy as np\n",
    "import math\n",
    "\n",
    "H,W = map(int,input().split())\n",
    "\n",
    "count = 0\n",
    "l = 0\n",
    "for i in range(H):\n",
    "    \n",
    "    row = list(map(str,input()))\n",
    "    \n",
    "    max_ = 0\n",
    "    for i in row:\n",
    "        if i == '#':\n",
    "            count += 1\n",
    "            max_ += 1\n",
    "        \n",
    "        if l < max_:\n",
    "            l = max_\n",
    "print(count,l)\n",
    "\n",
    "n = int(count)/((3**0.5)*(l**2)/4)\n",
    "print(n)\n"
   ]
  },
  {
   "cell_type": "code",
   "execution_count": 20,
   "metadata": {},
   "outputs": [
    {
     "name": "stdout",
     "output_type": "stream",
     "text": [
      "5 5\n",
      "......###. .###. .###. .....\n",
      "..... .###. .###. .###. .....\n",
      "..... .###. .###. .###. .....\n",
      "..... .###. .###. .###. .....\n",
      "..... .###. .###. .###. .....\n",
      "45 9\n",
      "2.2222222222222223\n"
     ]
    }
   ],
   "source": [
    "H,W = map(int,input().split())\n",
    "\n",
    "count = 0\n",
    "l = 0\n",
    "for i in range(H):\n",
    "    \n",
    "    row = list(map(str,input()))\n",
    "    \n",
    "    max_ = 0\n",
    "    for i in row:\n",
    "        if i == '#':\n",
    "            count += 1\n",
    "            max_ += 1\n",
    "        \n",
    "        if l < max_:\n",
    "            l = max_\n",
    "print(count,l)\n",
    "\n",
    "n = int(count)/(l*(l/2)*0.5)\n",
    "print(int(n))\n",
    "\n"
   ]
  },
  {
   "cell_type": "code",
   "execution_count": 25,
   "metadata": {
    "scrolled": true
   },
   "outputs": [
    {
     "name": "stdout",
     "output_type": "stream",
     "text": [
      "5 5\n",
      ".....\n",
      ".###.\n",
      ".###.\n",
      ".###.\n",
      ".....\n",
      "4\n"
     ]
    }
   ],
   "source": [
    "import numpy as np\n",
    "import math\n",
    "\n",
    "H,W = map(int,input().split())\n",
    "\n",
    "count = 0\n",
    "l = 0\n",
    "for i in range(H):\n",
    "    \n",
    "    row = list(map(str,input()))\n",
    "    \n",
    "    max_ = 0\n",
    "    for i in row:\n",
    "        if i == '#':\n",
    "            count += 1\n",
    "            max_ += 1\n",
    "        \n",
    "        if l < max_:\n",
    "            l = max_\n",
    "#print(count,l)\n",
    "ans = 0\n",
    "m = 1000\n",
    "for i in range(1,100):\n",
    "    s = int(i)*l**2/(4*math.tan(np.pi/int(i)))\n",
    "    #print(s)\n",
    "    m_ = abs(count-s)\n",
    "    \n",
    "    if m > m_:\n",
    "        m = m_\n",
    "        ans = i\n",
    "print(ans)"
   ]
  },
  {
   "cell_type": "code",
   "execution_count": 29,
   "metadata": {},
   "outputs": [
    {
     "name": "stdout",
     "output_type": "stream",
     "text": [
      "5 5\n",
      ".....\n",
      ".###.\n",
      ".###.\n",
      ".###.\n",
      ".....\n",
      "[['.', '.', '.', '.', '.'], ['.', '#', '#', '#', '.'], ['.', '#', '#', '#', '.'], ['.', '#', '#', '#', '.'], ['.', '.', '.', '.', '.']]\n",
      "5\n"
     ]
    }
   ],
   "source": [
    "H,W = map(int,input().split())\n",
    "\n",
    "N = [list(map(str,input())) for s in range(H)]\n",
    "print(N)\n",
    "\n",
    "\n",
    "ans = 0\n",
    "for y in range(H):\n",
    "    for x in range(W):\n",
    "        count = 0\n",
    "        \n",
    "        if N[y][x] == '#':\n",
    "            if N[y-1][x] == '#':\n",
    "                count += 1\n",
    "            if N[y+1][x] == '#':\n",
    "                count += 1\n",
    "            if N[y][x-1] == '#':\n",
    "                count += 1\n",
    "            if N[y][x+1] == '#':\n",
    "                count += 1\n",
    "        if count >= 3:\n",
    "            ans += 1\n",
    "print(ans-1)"
   ]
  },
  {
   "cell_type": "markdown",
   "metadata": {},
   "source": [
    "## 問題4"
   ]
  },
  {
   "cell_type": "code",
   "execution_count": 19,
   "metadata": {},
   "outputs": [
    {
     "name": "stdout",
     "output_type": "stream",
     "text": [
      "42782.4720 31949.0192 99999.99\n",
      "42782.472 31949.0192 99999.99\n"
     ]
    },
    {
     "ename": "KeyboardInterrupt",
     "evalue": "",
     "output_type": "error",
     "traceback": [
      "\u001b[0;31m---------------------------------------------------------------------------\u001b[0m",
      "\u001b[0;31mKeyboardInterrupt\u001b[0m                         Traceback (most recent call last)",
      "\u001b[0;32m<ipython-input-19-b562562512f6>\u001b[0m in \u001b[0;36m<module>\u001b[0;34m\u001b[0m\n\u001b[1;32m     11\u001b[0m \u001b[0;32mfor\u001b[0m \u001b[0mi\u001b[0m \u001b[0;32min\u001b[0m \u001b[0mrange\u001b[0m\u001b[0;34m(\u001b[0m\u001b[0mminx\u001b[0m\u001b[0;34m,\u001b[0m\u001b[0mmaxx\u001b[0m\u001b[0;34m+\u001b[0m\u001b[0;36m1\u001b[0m\u001b[0;34m)\u001b[0m\u001b[0;34m:\u001b[0m\u001b[0;34m\u001b[0m\u001b[0;34m\u001b[0m\u001b[0m\n\u001b[1;32m     12\u001b[0m     \u001b[0mp\u001b[0m \u001b[0;34m=\u001b[0m \u001b[0mint\u001b[0m\u001b[0;34m(\u001b[0m\u001b[0mnp\u001b[0m\u001b[0;34m.\u001b[0m\u001b[0msqrt\u001b[0m\u001b[0;34m(\u001b[0m\u001b[0mR\u001b[0m\u001b[0;34m**\u001b[0m\u001b[0;36m2\u001b[0m \u001b[0;34m-\u001b[0m \u001b[0;34m(\u001b[0m\u001b[0mX\u001b[0m \u001b[0;34m-\u001b[0m \u001b[0mi\u001b[0m\u001b[0;34m)\u001b[0m\u001b[0;34m**\u001b[0m\u001b[0;36m2\u001b[0m\u001b[0;34m)\u001b[0m\u001b[0;34m)\u001b[0m\u001b[0;34m\u001b[0m\u001b[0;34m\u001b[0m\u001b[0m\n\u001b[0;32m---> 13\u001b[0;31m     \u001b[0;32mfor\u001b[0m \u001b[0mc\u001b[0m \u001b[0;32min\u001b[0m \u001b[0mrange\u001b[0m\u001b[0;34m(\u001b[0m\u001b[0;34m-\u001b[0m\u001b[0mp\u001b[0m\u001b[0;34m,\u001b[0m\u001b[0mp\u001b[0m\u001b[0;34m+\u001b[0m\u001b[0;36m1\u001b[0m\u001b[0;34m)\u001b[0m\u001b[0;34m:\u001b[0m\u001b[0;34m\u001b[0m\u001b[0;34m\u001b[0m\u001b[0m\n\u001b[0m\u001b[1;32m     14\u001b[0m         \u001b[0mcount\u001b[0m \u001b[0;34m+=\u001b[0m \u001b[0;36m1\u001b[0m\u001b[0;34m\u001b[0m\u001b[0;34m\u001b[0m\u001b[0m\n\u001b[1;32m     15\u001b[0m \u001b[0mprint\u001b[0m\u001b[0;34m(\u001b[0m\u001b[0mcount\u001b[0m\u001b[0;34m)\u001b[0m\u001b[0;34m\u001b[0m\u001b[0;34m\u001b[0m\u001b[0m\n",
      "\u001b[0;31mKeyboardInterrupt\u001b[0m: "
     ]
    }
   ],
   "source": [
    "import numpy as np\n",
    "\n",
    "X,Y,R = map(float,input().split())\n",
    "\n",
    "print(X,Y,R)\n",
    "\n",
    "minx = int(X-R)\n",
    "maxx = int(X+R)\n",
    "\n",
    "count = 0\n",
    "for i in range(minx,maxx+1):\n",
    "    p = int(np.sqrt(R**2 - (X - i)**2))\n",
    "    for c in range(-p,p+1):\n",
    "        count += 1\n",
    "print(count)"
   ]
  },
  {
   "cell_type": "code",
   "execution_count": null,
   "metadata": {},
   "outputs": [],
   "source": []
  }
 ],
 "metadata": {
  "kernelspec": {
   "display_name": "Python 3",
   "language": "python",
   "name": "python3"
  },
  "language_info": {
   "codemirror_mode": {
    "name": "ipython",
    "version": 3
   },
   "file_extension": ".py",
   "mimetype": "text/x-python",
   "name": "python",
   "nbconvert_exporter": "python",
   "pygments_lexer": "ipython3",
   "version": "3.8.2"
  },
  "toc": {
   "base_numbering": 1,
   "nav_menu": {},
   "number_sections": true,
   "sideBar": true,
   "skip_h1_title": false,
   "title_cell": "Table of Contents",
   "title_sidebar": "Contents",
   "toc_cell": false,
   "toc_position": {},
   "toc_section_display": true,
   "toc_window_display": false
  }
 },
 "nbformat": 4,
 "nbformat_minor": 4
}
