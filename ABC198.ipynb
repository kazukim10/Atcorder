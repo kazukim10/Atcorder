{
 "cells": [
  {
   "source": [
    "https://atcoder.jp/contests/abc198"
   ],
   "cell_type": "markdown",
   "metadata": {}
  },
  {
   "cell_type": "code",
   "execution_count": 6,
   "metadata": {},
   "outputs": [
    {
     "output_type": "stream",
     "name": "stdout",
     "text": [
      "2\n"
     ]
    }
   ],
   "source": [
    "# 問題A\n",
    "N = int(input())\n",
    "\n",
    "print(int(N-1))"
   ]
  },
  {
   "cell_type": "code",
   "execution_count": 14,
   "metadata": {},
   "outputs": [
    {
     "output_type": "stream",
     "name": "stdout",
     "text": [
      "No\n"
     ]
    }
   ],
   "source": [
    "# 問題B\n",
    "N = input()\n",
    "\n",
    "count = 0\n",
    "for i in range(1,len(N)+1):\n",
    "    #print(N[-i])\n",
    "    if N[-i] == '0':\n",
    "        count += 1\n",
    "    else:\n",
    "        break\n",
    "\n",
    "N = '0'*count + N\n",
    "#print(N)\n",
    "\n",
    "def check(S):\n",
    "    l = len(S)\n",
    "\n",
    "    flag = True\n",
    "    for s in range(l):\n",
    "        if S[s] == S[-(s+1)]:\n",
    "            flag = flag\n",
    "        else:\n",
    "            flag = False\n",
    "            return flag\n",
    "    return flag\n",
    "    \n",
    "if check(N):\n",
    "    print('Yes')\n",
    "else:\n",
    "    print('No')"
   ]
  },
  {
   "cell_type": "code",
   "execution_count": 4,
   "metadata": {},
   "outputs": [
    {
     "output_type": "stream",
     "name": "stdout",
     "text": [
      "3.0\n"
     ]
    }
   ],
   "source": [
    "# C 21.5.2\n",
    "import math\n",
    "\n",
    "R,X,Y = map(int,input().split())\n",
    "\n",
    "step = math.sqrt(X**2+Y**2)\n",
    "\n",
    "if step == R:\n",
    "    print(1)\n",
    "elif step <= 2*R:\n",
    "    print(2)\n",
    "else:\n",
    "    step /= R\n",
    "    print(math.ceil(step))"
   ]
  },
  {
   "cell_type": "code",
   "execution_count": 3,
   "metadata": {},
   "outputs": [
    {
     "output_type": "stream",
     "name": "stdout",
     "text": [
      "1.4142135623730951\n0.7071067811865476\n0.47140452079103173\n0.3535533905932738\n0.282842712474619\n0.23570226039551587\n0.20203050891044216\n0.1767766952966369\n0.15713484026367724\n0.1414213562373095\n"
     ]
    }
   ],
   "source": [
    "import math\n",
    "X,Y = 1,1\n",
    "for r in range(1,11):\n",
    "    step = math.sqrt(X**2+Y**2)/r\n",
    "    print(step)"
   ]
  },
  {
   "cell_type": "code",
   "execution_count": 104,
   "metadata": {},
   "outputs": [
    {
     "output_type": "error",
     "ename": "ValueError",
     "evalue": "math domain error",
     "traceback": [
      "\u001b[0;31m---------------------------------------------------------------------------\u001b[0m",
      "\u001b[0;31mValueError\u001b[0m                                Traceback (most recent call last)",
      "\u001b[0;32m<ipython-input-104-3d4b09ce8c96>\u001b[0m in \u001b[0;36m<module>\u001b[0;34m\u001b[0m\n\u001b[1;32m      6\u001b[0m \u001b[0mstep\u001b[0m \u001b[0;34m=\u001b[0m \u001b[0;36m0\u001b[0m\u001b[0;34m\u001b[0m\u001b[0;34m\u001b[0m\u001b[0m\n\u001b[1;32m      7\u001b[0m \u001b[0;32mwhile\u001b[0m \u001b[0mY\u001b[0m \u001b[0;34m!=\u001b[0m \u001b[0;36m0\u001b[0m\u001b[0;34m:\u001b[0m\u001b[0;34m\u001b[0m\u001b[0;34m\u001b[0m\u001b[0m\n\u001b[0;32m----> 8\u001b[0;31m     \u001b[0mY\u001b[0m \u001b[0;34m=\u001b[0m \u001b[0mY\u001b[0m \u001b[0;34m-\u001b[0m \u001b[0mmath\u001b[0m\u001b[0;34m.\u001b[0m\u001b[0msqrt\u001b[0m\u001b[0;34m(\u001b[0m\u001b[0mR\u001b[0m\u001b[0;34m**\u001b[0m\u001b[0;36m2\u001b[0m\u001b[0;34m-\u001b[0m\u001b[0mX\u001b[0m\u001b[0;34m**\u001b[0m\u001b[0;36m2\u001b[0m\u001b[0;34m)\u001b[0m\u001b[0;34m\u001b[0m\u001b[0;34m\u001b[0m\u001b[0m\n\u001b[0m\u001b[1;32m      9\u001b[0m     \u001b[0mstep\u001b[0m \u001b[0;34m+=\u001b[0m \u001b[0;36m1\u001b[0m\u001b[0;34m\u001b[0m\u001b[0;34m\u001b[0m\u001b[0m\n\u001b[1;32m     10\u001b[0m \u001b[0;34m\u001b[0m\u001b[0m\n",
      "\u001b[0;31mValueError\u001b[0m: math domain error"
     ]
    }
   ],
   "source": [
    "# 問題C 条件分岐が必要\n",
    "import math\n",
    " \n",
    "R,X,Y = map(int,input().split())\n",
    "\n",
    "step = 0\n",
    "while Y != 0:\n",
    "    Y = Y - math.sqrt(R**2-X**2)\n",
    "    step += 1\n",
    "\n",
    "print(step)"
   ]
  },
  {
   "cell_type": "code",
   "execution_count": 94,
   "metadata": {},
   "outputs": [
    {
     "output_type": "stream",
     "name": "stdout",
     "text": [
      "2\n"
     ]
    }
   ],
   "source": [
    "# 問題C\n",
    "import math\n",
    " \n",
    "R,X,Y = map(int,input().split())\n",
    "\n",
    "min_l = math.sqrt(X**2+Y**2)//R\n",
    "max_l = math.ceil(math.sqrt(X**2+Y**2)/R)\n",
    "#print(min_l,max_l)\n",
    "if min_l==max_l:\n",
    "    print(max_l)\n",
    "else:\n",
    "    print(max_l)"
   ]
  },
  {
   "cell_type": "code",
   "execution_count": 36,
   "metadata": {
    "tags": []
   },
   "outputs": [
    {
     "output_type": "stream",
     "name": "stdout",
     "text": [
      "9567\n1085\n10652\n"
     ]
    }
   ],
   "source": [
    "# D - Send More Money\n",
    "import itertools\n",
    "\n",
    "a = input()\n",
    "b = input()\n",
    "c = input()\n",
    "\n",
    "la = len(a)\n",
    "lb = len(b)\n",
    "lc = len(c)\n",
    "\n",
    "abc_set = list(set(a+b+c))\n",
    "num_count = len(abc_set)\n",
    "num = [1,2,3,4,5,6,7,8,9,0]\n",
    "\n",
    "if num_count > 10:\n",
    "    print('UNSOLVABLE')\n",
    "\n",
    "else:\n",
    "    flag = False\n",
    "    \n",
    "    for v in itertools.permutations(num,num_count):\n",
    "        num_dict = {x:i for x,i in zip(abc_set,v)}\n",
    "        \n",
    "        #print(num_dict)\n",
    "        #a1 = int(a.translate(str.maketrans(num_dict))) # 文字列置換,iはstrの必要がある、、\n",
    "        #b1 = int(b.translate(str.maketrans(num_dict)))\n",
    "        #c1 = int(c.translate(str.maketrans(num_dict)))\n",
    "\n",
    "        a1,b1,c1 = 0,0,0\n",
    "        for i in a:\n",
    "            a1 = a1*10 +num_dict[i]\n",
    "        if a1 == 0:\n",
    "            break\n",
    "\n",
    "        for i in b:\n",
    "            b1 = b1*10 +num_dict[i]\n",
    "        if b1 == 0:\n",
    "            break\n",
    "\n",
    "        for i in c:\n",
    "            c1 = c1*10 +num_dict[i]\n",
    "        if c1 == 0:\n",
    "            break\n",
    "\n",
    "        if la !=len(str(a1)) or lb !=len(str(b1)) or lc !=len(str(c1)):\n",
    "            continue\n",
    "\n",
    "        if a1+b1 == c1:\n",
    "            print(a1, b1, c1, sep=\"\\n\")\n",
    "            flag = True\n",
    "            break\n",
    "\n",
    "    if flag == False:\n",
    "        print('UNSOLVABLE')"
   ]
  },
  {
   "cell_type": "code",
   "execution_count": null,
   "metadata": {},
   "outputs": [],
   "source": [
    "# E - Unique Color\n",
    "N = int(input())\n",
    "color = list(map(int,input().split()))\n",
    "\n",
    "tree = [color[0]]\n",
    "good = [1]\n",
    "for _ in range(N-1):\n",
    "    a,b = map(int,input().split())\n",
    "\n",
    "    if a < b:\n",
    "        tree"
   ]
  }
 ],
 "metadata": {
  "kernelspec": {
   "display_name": "Python 3",
   "language": "python",
   "name": "python3"
  },
  "language_info": {
   "codemirror_mode": {
    "name": "ipython",
    "version": 3
   },
   "file_extension": ".py",
   "mimetype": "text/x-python",
   "name": "python",
   "nbconvert_exporter": "python",
   "pygments_lexer": "ipython3",
   "version": "3.8.2"
  },
  "toc": {
   "base_numbering": 1,
   "nav_menu": {},
   "number_sections": true,
   "sideBar": true,
   "skip_h1_title": false,
   "title_cell": "Table of Contents",
   "title_sidebar": "Contents",
   "toc_cell": false,
   "toc_position": {},
   "toc_section_display": true,
   "toc_window_display": false
  }
 },
 "nbformat": 4,
 "nbformat_minor": 4
}