{
 "cells": [
  {
   "source": [
    "https://atcoder.jp/contests/abc145"
   ],
   "cell_type": "markdown",
   "metadata": {}
  },
  {
   "cell_type": "code",
   "execution_count": 1,
   "metadata": {},
   "outputs": [
    {
     "output_type": "stream",
     "name": "stdout",
     "text": [
      "4\n"
     ]
    }
   ],
   "source": [
    "# 問題A\n",
    "r = int(input())\n",
    "print(int(r**2))"
   ]
  },
  {
   "cell_type": "code",
   "execution_count": 3,
   "metadata": {},
   "outputs": [
    {
     "output_type": "stream",
     "name": "stdout",
     "text": [
      "Yes\n"
     ]
    }
   ],
   "source": [
    "# 問題B\n",
    "N = int(input())\n",
    "S = input()\n",
    "\n",
    "if len(S)%2 == 0:\n",
    "    if S[:len(S)//2] == S[len(S)//2:]:\n",
    "        print('Yes')\n",
    "    else:\n",
    "        print('No')\n",
    "else:\n",
    "    print('No')"
   ]
  },
  {
   "cell_type": "code",
   "execution_count": 13,
   "metadata": {},
   "outputs": [
    {
     "output_type": "stream",
     "name": "stdout",
     "text": [
      "91.92388155425118\n"
     ]
    }
   ],
   "source": [
    "# 問題C\n",
    "import itertools,math\n",
    "\n",
    "N = int(input())\n",
    "P = list(itertools.permutations(range(N)))\n",
    "M = {}\n",
    "\n",
    "for i in range(N):\n",
    "    M[i] = list(map(int,input().split()))\n",
    "#print(P)\n",
    "#print(M)\n",
    "ans = 0\n",
    "for i in P:\n",
    "    tmp = 0\n",
    "    for j,k in enumerate(i):\n",
    "        if j == 0:\n",
    "            x,y = M[k]\n",
    "        else:\n",
    "            tmp += math.sqrt((M[k][0]-x)**2 +(M[k][1]-y)**2)\n",
    "    ans += tmp\n",
    "print(ans/len(P))"
   ]
  },
  {
   "cell_type": "code",
   "execution_count": 4,
   "metadata": {},
   "outputs": [
    {
     "output_type": "stream",
     "name": "stdout",
     "text": [
      "480267059\n"
     ]
    }
   ],
   "source": [
    "# 問題D TLE\n",
    "from scipy.special import comb\n",
    "\n",
    "X,Y = map(int,input().split())\n",
    "\n",
    "n = (2*Y-X)//3\n",
    "m = (2*X-Y)//3\n",
    "\n",
    "if (X+Y)%3 == 0:\n",
    "    print(comb(n+m, n, exact=True)%(10**9+7))\n",
    "else:\n",
    "    print(0)"
   ]
  },
  {
   "cell_type": "code",
   "execution_count": null,
   "metadata": {},
   "outputs": [],
   "source": []
  }
 ],
 "metadata": {
  "kernelspec": {
   "display_name": "Python 3",
   "language": "python",
   "name": "python3"
  },
  "language_info": {
   "codemirror_mode": {
    "name": "ipython",
    "version": 3
   },
   "file_extension": ".py",
   "mimetype": "text/x-python",
   "name": "python",
   "nbconvert_exporter": "python",
   "pygments_lexer": "ipython3",
   "version": "3.8.2-final"
  },
  "toc": {
   "base_numbering": 1,
   "nav_menu": {},
   "number_sections": true,
   "sideBar": true,
   "skip_h1_title": false,
   "title_cell": "Table of Contents",
   "title_sidebar": "Contents",
   "toc_cell": false,
   "toc_position": {},
   "toc_section_display": true,
   "toc_window_display": false
  }
 },
 "nbformat": 4,
 "nbformat_minor": 4
}