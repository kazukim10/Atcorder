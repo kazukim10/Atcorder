{
 "cells": [
  {
   "source": [
    "https://atcoder.jp/contests/abc160"
   ],
   "cell_type": "markdown",
   "metadata": {}
  },
  {
   "cell_type": "code",
   "execution_count": 1,
   "metadata": {},
   "outputs": [
    {
     "output_type": "stream",
     "name": "stdout",
     "text": [
      "Yes\n"
     ]
    }
   ],
   "source": [
    "# 問題A\n",
    "# coffeeチェック\n",
    "\n",
    "S = input()\n",
    "print('Yes' if S[2]==S[3] and S[4]==S[5] else 'No')"
   ]
  },
  {
   "cell_type": "code",
   "execution_count": 4,
   "metadata": {
    "tags": []
   },
   "outputs": [
    {
     "output_type": "stream",
     "name": "stdout",
     "text": [
      "2020\n"
     ]
    }
   ],
   "source": [
    "# 問題B\n",
    "X = int(input())\n",
    "\n",
    "ans1 = 0\n",
    "if X >= 500:\n",
    "    ans1 += 1000*(X//500)\n",
    "    X -= 500*(X//500)\n",
    "\n",
    "ans2 = 0\n",
    "if X >= 5:\n",
    "    ans2 += 5*(X//5)\n",
    "\n",
    "print(ans1+ans2)"
   ]
  },
  {
   "cell_type": "code",
   "execution_count": 7,
   "metadata": {},
   "outputs": [
    {
     "output_type": "stream",
     "name": "stdout",
     "text": [
      "10\n"
     ]
    }
   ],
   "source": [
    "# 問題C\n",
    "K,N = map(int,input().split())\n",
    "\n",
    "A = list(map(int,input().split()))\n",
    "\n",
    "max_ = K-A[-1]+A[0]\n",
    "for i in range(N-1):\n",
    "    l = A[i+1]-A[i]\n",
    "    if max_ < l:\n",
    "        max_ = l\n",
    "print(K-max_)"
   ]
  }
 ],
 "metadata": {
  "kernelspec": {
   "display_name": "Python 3",
   "language": "python",
   "name": "python3"
  },
  "language_info": {
   "codemirror_mode": {
    "name": "ipython",
    "version": 3
   },
   "file_extension": ".py",
   "mimetype": "text/x-python",
   "name": "python",
   "nbconvert_exporter": "python",
   "pygments_lexer": "ipython3",
   "version": "3.8.2-final"
  },
  "toc": {
   "base_numbering": 1,
   "nav_menu": {},
   "number_sections": true,
   "sideBar": true,
   "skip_h1_title": false,
   "title_cell": "Table of Contents",
   "title_sidebar": "Contents",
   "toc_cell": false,
   "toc_position": {},
   "toc_section_display": true,
   "toc_window_display": false
  }
 },
 "nbformat": 4,
 "nbformat_minor": 4
}