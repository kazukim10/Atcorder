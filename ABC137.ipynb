{
 "cells": [
  {
   "source": [
    "https://atcoder.jp/contests/abc137"
   ],
   "cell_type": "markdown",
   "metadata": {}
  },
  {
   "cell_type": "code",
   "execution_count": 2,
   "metadata": {},
   "outputs": [
    {
     "output_type": "stream",
     "name": "stdout",
     "text": [
      "34\n"
     ]
    }
   ],
   "source": [
    "# 問題A\n",
    "A,B = map(int,input().split())\n",
    "\n",
    "print(max(A*B,A+B,A-B))"
   ]
  },
  {
   "cell_type": "code",
   "execution_count": 16,
   "metadata": {},
   "outputs": [
    {
     "output_type": "stream",
     "name": "stdout",
     "text": [
      "5 6 7 8 9\n"
     ]
    }
   ],
   "source": [
    "# 問題B\n",
    "K,X = map(int,input().split())\n",
    "\n",
    "print(' '.join([str(i) for i in range(X-K+1,X+K)]))"
   ]
  },
  {
   "cell_type": "code",
   "execution_count": 25,
   "metadata": {},
   "outputs": [
    {
     "output_type": "stream",
     "name": "stdout",
     "text": [
      "4.0\n"
     ]
    }
   ],
   "source": [
    "# 問題C\n",
    "N = int(input())\n",
    "\n",
    "S = list(input())\n",
    "S.sort()\n",
    "#print(S)\n",
    "\n",
    "count = {}\n",
    "count[''.join(S)] = 1\n",
    "#print(count)\n",
    "for n in range(N-1):\n",
    "    S = list(input())\n",
    "    S.sort()\n",
    "\n",
    "    if ''.join(S) not in count:\n",
    "        count[''.join(S)] = 1\n",
    "    else:\n",
    "        count[''.join(S)] += 1\n",
    "#print(count)\n",
    "ans = 0\n",
    "for i,j in count.items():\n",
    "    ans += j*(j-1)/2 if j >= 2 else 0\n",
    "print(int(ans))"
   ]
  },
  {
   "cell_type": "code",
   "execution_count": null,
   "metadata": {},
   "outputs": [],
   "source": []
  }
 ],
 "metadata": {
  "kernelspec": {
   "display_name": "Python 3",
   "language": "python",
   "name": "python3"
  },
  "language_info": {
   "codemirror_mode": {
    "name": "ipython",
    "version": 3
   },
   "file_extension": ".py",
   "mimetype": "text/x-python",
   "name": "python",
   "nbconvert_exporter": "python",
   "pygments_lexer": "ipython3",
   "version": "3.8.2-final"
  },
  "toc": {
   "base_numbering": 1,
   "nav_menu": {},
   "number_sections": true,
   "sideBar": true,
   "skip_h1_title": false,
   "title_cell": "Table of Contents",
   "title_sidebar": "Contents",
   "toc_cell": false,
   "toc_position": {},
   "toc_section_display": true,
   "toc_window_display": false
  }
 },
 "nbformat": 4,
 "nbformat_minor": 4
}