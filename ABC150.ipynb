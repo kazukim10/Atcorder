{
 "cells": [
  {
   "source": [
    "https://atcoder.jp/contests/abc150"
   ],
   "cell_type": "markdown",
   "metadata": {}
  },
  {
   "cell_type": "code",
   "execution_count": 1,
   "metadata": {},
   "outputs": [
    {
     "output_type": "stream",
     "name": "stdout",
     "text": [
      "Yes\n"
     ]
    }
   ],
   "source": [
    "# 問題A\n",
    "K,X = map(int,input().split())\n",
    "print('Yes' if 500*K >= X else 'No')"
   ]
  },
  {
   "cell_type": "code",
   "execution_count": 3,
   "metadata": {},
   "outputs": [
    {
     "output_type": "stream",
     "name": "stdout",
     "text": [
      "0\n"
     ]
    }
   ],
   "source": [
    "# 問題B\n",
    "N = int(input())\n",
    "S = input()\n",
    "\n",
    "ans = 0\n",
    "for i in range(N-3+1):\n",
    "    if S[i:i+3] == 'ABC':\n",
    "        ans += 1\n",
    "print(ans)"
   ]
  },
  {
   "cell_type": "code",
   "execution_count": 20,
   "metadata": {
    "tags": []
   },
   "outputs": [
    {
     "output_type": "stream",
     "name": "stdout",
     "text": [
      "14677\n"
     ]
    }
   ],
   "source": [
    "# 問題C\n",
    "import itertools\n",
    "\n",
    "N = int(input())\n",
    "P = list(map(int,input().split()))\n",
    "Q = list(map(int,input().split()))\n",
    "\n",
    "#print(P)\n",
    "#print(Q)\n",
    "\n",
    "perm = list(itertools.permutations(range(1,N+1)))\n",
    "\n",
    "def checkA(x):\n",
    "    for k,l in enumerate(x):\n",
    "        if P[k] != l:\n",
    "            return False\n",
    "    return True\n",
    "\n",
    "def checkB(x):\n",
    "    for k,l in enumerate(x):\n",
    "        if Q[k] != l:\n",
    "            return False\n",
    "    return True\n",
    "\n",
    "for i,j in enumerate(perm):\n",
    "    #print(i,j)\n",
    "    if checkA(j):\n",
    "        a = i\n",
    "    if checkB(j):\n",
    "        b = i\n",
    "\n",
    "print(abs(a-b))"
   ]
  },
  {
   "cell_type": "code",
   "execution_count": null,
   "metadata": {},
   "outputs": [],
   "source": []
  }
 ],
 "metadata": {
  "kernelspec": {
   "display_name": "Python 3",
   "language": "python",
   "name": "python3"
  },
  "language_info": {
   "codemirror_mode": {
    "name": "ipython",
    "version": 3
   },
   "file_extension": ".py",
   "mimetype": "text/x-python",
   "name": "python",
   "nbconvert_exporter": "python",
   "pygments_lexer": "ipython3",
   "version": "3.8.2-final"
  },
  "toc": {
   "base_numbering": 1,
   "nav_menu": {},
   "number_sections": true,
   "sideBar": true,
   "skip_h1_title": false,
   "title_cell": "Table of Contents",
   "title_sidebar": "Contents",
   "toc_cell": false,
   "toc_position": {},
   "toc_section_display": true,
   "toc_window_display": false
  }
 },
 "nbformat": 4,
 "nbformat_minor": 4
}