{
 "cells": [
  {
   "cell_type": "code",
   "execution_count": 2,
   "metadata": {
    "scrolled": true
   },
   "outputs": [
    {
     "name": "stdout",
     "output_type": "stream",
     "text": [
      "10 125\n",
      "No\n"
     ]
    }
   ],
   "source": [
    "# 問題A\n",
    "M,H = map(int,input().split())\n",
    "\n",
    "print('Yes' if H%M == 0 else 'No')"
   ]
  },
  {
   "cell_type": "code",
   "execution_count": 87,
   "metadata": {},
   "outputs": [
    {
     "name": "stdout",
     "output_type": "stream",
     "text": [
      "300 333 1\n",
      "UNSATISFIABLE\n"
     ]
    }
   ],
   "source": [
    "## 問題B\n",
    "A,B,W = map(int,input().split())\n",
    "\n",
    "ans = []\n",
    "flag = 0\n",
    "for i in range(A,B+1,2):\n",
    "    for j in range(A,B+1,2):\n",
    "        for k in range(W*1000//B,W*1000//A+1):\n",
    "            for l in range(k):\n",
    "                if W*1000 == i*l+j*(k-l):\n",
    "                    ans.append(k)\n",
    "                    flag = 1\n",
    "                    \n",
    "if flag == 1:\n",
    "    print(min(ans),max(ans))\n",
    "else:\n",
    "    print('UNSATISFIABLE')"
   ]
  },
  {
   "cell_type": "code",
   "execution_count": 26,
   "metadata": {},
   "outputs": [
    {
     "output_type": "stream",
     "name": "stdout",
     "text": [
      "4 3\nUNSATISFIABLE\n"
     ]
    }
   ],
   "source": [
    "# B 21.4.19\n",
    "import math\n",
    "\n",
    "A,B,W = map(int,input().split())\n",
    "\n",
    "mi = math.ceil(W*1000/B)\n",
    "ma = math.floor(W*1000/A)\n",
    "\n",
    "#print(mi,ma)\n",
    "\n",
    "if mi <= ma:\n",
    "    print(mi,ma)\n",
    "else:\n",
    "    print('UNSATISFIABLE')"
   ]
  },
  {
   "cell_type": "code",
   "execution_count": 86,
   "metadata": {},
   "outputs": [
    {
     "name": "stdout",
     "output_type": "stream",
     "text": [
      "27182818284590\n",
      "107730272137364\n"
     ]
    }
   ],
   "source": [
    "# 問題C\n",
    "N = int(input())\n",
    "\n",
    "c = len(str(N))//3\n",
    "\n",
    "ans = 0\n",
    "nine = str(999)\n",
    "\n",
    "for i in range(c):\n",
    "    if (N-int(nine)) > 0:\n",
    "        ans+=(N-int(nine))\n",
    "    nine += str(999)\n",
    "print(ans if ans > 0 else 0)"
   ]
  },
  {
   "cell_type": "code",
   "execution_count": 79,
   "metadata": {},
   "outputs": [],
   "source": [
    "# 問題D\n"
   ]
  }
 ],
 "metadata": {
  "kernelspec": {
   "display_name": "Python 3",
   "language": "python",
   "name": "python3"
  },
  "language_info": {
   "codemirror_mode": {
    "name": "ipython",
    "version": 3
   },
   "file_extension": ".py",
   "mimetype": "text/x-python",
   "name": "python",
   "nbconvert_exporter": "python",
   "pygments_lexer": "ipython3",
   "version": "3.8.2-final"
  },
  "toc": {
   "base_numbering": 1,
   "nav_menu": {},
   "number_sections": true,
   "sideBar": true,
   "skip_h1_title": false,
   "title_cell": "Table of Contents",
   "title_sidebar": "Contents",
   "toc_cell": false,
   "toc_position": {},
   "toc_section_display": true,
   "toc_window_display": false
  }
 },
 "nbformat": 4,
 "nbformat_minor": 4
}