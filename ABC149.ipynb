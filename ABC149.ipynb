{
 "cells": [
  {
   "source": [
    "https://atcoder.jp/contests/abc149"
   ],
   "cell_type": "markdown",
   "metadata": {}
  },
  {
   "cell_type": "code",
   "execution_count": 1,
   "metadata": {},
   "outputs": [
    {
     "output_type": "stream",
     "name": "stdout",
     "text": [
      "atcoder\n"
     ]
    }
   ],
   "source": [
    "# 問題A\n",
    "S,T = input().split()\n",
    "print(T+S)"
   ]
  },
  {
   "cell_type": "code",
   "execution_count": 7,
   "metadata": {},
   "outputs": [
    {
     "output_type": "stream",
     "name": "stdout",
     "text": [
      "0 2\n"
     ]
    }
   ],
   "source": [
    "# 問題B\n",
    "A,B,K = map(int,input().split())\n",
    "\n",
    "\n",
    "if A > K:\n",
    "    A -= K\n",
    "elif A <= K and B > (K-A):\n",
    "    B -= (K-A)\n",
    "    A = 0\n",
    "else:\n",
    "    A=0\n",
    "    B=0\n",
    "print(A,B)"
   ]
  },
  {
   "cell_type": "code",
   "execution_count": 49,
   "metadata": {
    "tags": []
   },
   "outputs": [
    {
     "output_type": "stream",
     "name": "stdout",
     "text": [
      "23\n"
     ]
    }
   ],
   "source": [
    "# 問題C\n",
    "\n",
    "def check(num):\n",
    "    for j in range(2,int(num**0.5)+1):\n",
    "        if num%j == 0:\n",
    "            return False\n",
    "\n",
    "    return True\n",
    "\n",
    "X = int(input())\n",
    "\n",
    "for x in range(X,2*X):\n",
    "    if check(x):\n",
    "        print(x)\n",
    "        break"
   ]
  },
  {
   "cell_type": "code",
   "execution_count": null,
   "metadata": {},
   "outputs": [],
   "source": []
  }
 ],
 "metadata": {
  "kernelspec": {
   "display_name": "Python 3",
   "language": "python",
   "name": "python3"
  },
  "language_info": {
   "codemirror_mode": {
    "name": "ipython",
    "version": 3
   },
   "file_extension": ".py",
   "mimetype": "text/x-python",
   "name": "python",
   "nbconvert_exporter": "python",
   "pygments_lexer": "ipython3",
   "version": "3.8.2-final"
  },
  "toc": {
   "base_numbering": 1,
   "nav_menu": {},
   "number_sections": true,
   "sideBar": true,
   "skip_h1_title": false,
   "title_cell": "Table of Contents",
   "title_sidebar": "Contents",
   "toc_cell": false,
   "toc_position": {},
   "toc_section_display": true,
   "toc_window_display": false
  }
 },
 "nbformat": 4,
 "nbformat_minor": 4
}