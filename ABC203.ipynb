{
 "cells": [
  {
   "source": [
    "https://atcoder.jp/contests/abc203"
   ],
   "cell_type": "markdown",
   "metadata": {}
  },
  {
   "cell_type": "code",
   "execution_count": 3,
   "metadata": {},
   "outputs": [
    {
     "output_type": "stream",
     "name": "stdout",
     "text": [
      "5\n"
     ]
    }
   ],
   "source": [
    "# A\n",
    "a,b,c = map(int,input().split())\n",
    "\n",
    "if a == b:\n",
    "    print(c)\n",
    "elif b == c:\n",
    "    print(a)\n",
    "elif c == a:\n",
    "    print(b)\n",
    "else:\n",
    "    print(0)"
   ]
  },
  {
   "cell_type": "code",
   "execution_count": 8,
   "metadata": {},
   "outputs": [
    {
     "output_type": "stream",
     "name": "stdout",
     "text": [
      "1818\n"
     ]
    }
   ],
   "source": [
    "# B\n",
    "N,K = map(int,input().split())\n",
    "\n",
    "ans = 0\n",
    "for i in range(1,N+1):\n",
    "    for j in range(1,K+1):\n",
    "        ans += int(str(i)+'0'+str(j))\n",
    "print(ans)"
   ]
  },
  {
   "cell_type": "code",
   "execution_count": 55,
   "metadata": {},
   "outputs": [
    {
     "output_type": "stream",
     "name": "stdout",
     "text": [
      "4\n"
     ]
    }
   ],
   "source": [
    "# C\n",
    "N,K = map(int,input().split())\n",
    "\n",
    "#P = []\n",
    "mura = {}\n",
    "for i in range(N):\n",
    "    \n",
    "    A,B = map(int,input().split())\n",
    "    #mura.setdefault(A,0)\n",
    "    #if A not in P:\n",
    "    #    P.append(A)\n",
    "    \n",
    "    if A not in mura:\n",
    "        mura[A] = B\n",
    "    else:\n",
    "        mura[A] += B\n",
    "\n",
    "#P.sort()\n",
    "mura = sorted(mura.items(), key = lambda x:x[0])\n",
    "#print(P)\n",
    "#print(mura)\n",
    "\n",
    "for a,b in mura:\n",
    "    #print(a,b)\n",
    "    A = a\n",
    "    B = b\n",
    "\n",
    "    if K >= A:\n",
    "        K += B\n",
    "\n",
    "    else:\n",
    "        \n",
    "        break\n",
    "    \n",
    "print(K)"
   ]
  },
  {
   "cell_type": "code",
   "execution_count": 24,
   "metadata": {
    "tags": []
   },
   "outputs": [
    {
     "output_type": "stream",
     "name": "stdout",
     "text": [
      "5\n"
     ]
    }
   ],
   "source": [
    "# D\n",
    "import numpy as np\n",
    "\n",
    "N,K = map(int,input().split())\n",
    "\n",
    "pond = []\n",
    "for i in range(N):\n",
    "    tmp = list(map(int,input().split()))\n",
    "    pond.append(tmp)\n",
    "\n",
    "pond = np.array(pond)\n",
    "#print(pond)\n",
    "\n",
    "ans = 10**10\n",
    "for i in range(N-K+1):\n",
    "    for j in range(N-K+1):\n",
    "        #print(i,j)\n",
    "        #print(pond[i:i+K,j:j+K])\n",
    "        #mid = pond[i:i+K,j:j+K].reshape(-1).tolist()\n",
    "        mid = sorted(pond[i:i+K,j:j+K].ravel(),reverse=True)[K**2//2]\n",
    "        #mid = np.argmax(K**2//2)\n",
    "        #mid.sort(reverse=True)\n",
    "        #print(mid)\n",
    "        #mid = mid[K**2//2]\n",
    "        #print(mid)\n",
    "\n",
    "        if ans > mid:\n",
    "            ans = mid\n",
    "print(ans)"
   ]
  },
  {
   "cell_type": "code",
   "execution_count": null,
   "metadata": {},
   "outputs": [],
   "source": [
    "# D\n",
    "# リストだけのが早いか検証、、、\n",
    "\n",
    "N,K = map(int,input().split())\n",
    "\n",
    "pond = []\n",
    "for i in range(N):\n",
    "    tmp = list(map(int,input().split()))\n",
    "    pond.append(tmp)\n",
    "\n",
    "ans = 10**10\n",
    "for i in range(N-K+1):\n",
    "    mid = []\n",
    "    for j in range(N-K+1):\n",
    "        #print(i,j)\n",
    "        #print(pond[i:i+K,j:j+K])\n",
    "        #mid = pond[i:i+K,j:j+K].reshape(-1).tolist()\n",
    "        mid = sorted(pond[i:i+K,j:j+K].ravel(),reverse=True)[K**2//2]\n",
    "        #mid = np.argmax(K**2//2)\n",
    "        #mid.sort(reverse=True)\n",
    "        #print(mid)\n",
    "        #mid = mid[K**2//2]\n",
    "        #print(mid)\n",
    "\n",
    "        if ans > mid:\n",
    "            ans = mid\n",
    "print(ans)"
   ]
  }
 ],
 "metadata": {
  "kernelspec": {
   "display_name": "Python 3",
   "language": "python",
   "name": "python3"
  },
  "language_info": {
   "codemirror_mode": {
    "name": "ipython",
    "version": 3
   },
   "file_extension": ".py",
   "mimetype": "text/x-python",
   "name": "python",
   "nbconvert_exporter": "python",
   "pygments_lexer": "ipython3",
   "version": "3.8.2"
  },
  "toc": {
   "base_numbering": 1,
   "nav_menu": {},
   "number_sections": true,
   "sideBar": true,
   "skip_h1_title": false,
   "title_cell": "Table of Contents",
   "title_sidebar": "Contents",
   "toc_cell": false,
   "toc_position": {},
   "toc_section_display": true,
   "toc_window_display": false
  }
 },
 "nbformat": 4,
 "nbformat_minor": 4
}