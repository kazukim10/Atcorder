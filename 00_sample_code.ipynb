{
 "cells": [
  {
   "cell_type": "code",
   "execution_count": 53,
   "metadata": {},
   "outputs": [
    {
     "output_type": "stream",
     "name": "stdout",
     "text": [
      "[4, 5, 2, 3, 1, 6]\n[2, 4, 5, 3, 1, 6]\n[2, 3, 4, 5, 1, 6]\n[1, 2, 3, 4, 5, 6]\n"
     ]
    }
   ],
   "source": [
    "# インサートソート\n",
    "N = int(input())\n",
    "L = list(map(int,input().split()))\n",
    "\n",
    "for i in range(N):\n",
    "    for j in range(i):\n",
    "        if L[i] < L[j]:\n",
    "            ins = L[i]\n",
    "            L[j+1:i+1] = L[j:i]\n",
    "            L[j] = ins\n",
    "            print(L)"
   ]
  },
  {
   "cell_type": "code",
   "execution_count": 62,
   "metadata": {},
   "outputs": [
    {
     "output_type": "stream",
     "name": "stdout",
     "text": [
      "[5, 3, 2, 1, 4]\n[5, 3, 1, 2, 4]\n[5, 1, 3, 2, 4]\n[1, 5, 3, 2, 4]\n[1, 5, 3, 2, 4]\n[1, 5, 2, 3, 4]\n[1, 2, 5, 3, 4]\n[1, 2, 5, 3, 4]\n[1, 2, 3, 5, 4]\n[1, 2, 3, 4, 5]\n"
     ]
    }
   ],
   "source": [
    "# バブルソート\n",
    "N = int(input())\n",
    "L = list(map(int,input().split()))\n",
    "\n",
    "for i in range(1,N):\n",
    "    for j in range(1,N-i+1):\n",
    "        if L[-j] < L[-j-1]:\n",
    "            tmp = L[-j]\n",
    "            L[-j] = L[-j-1]\n",
    "            L[-j-1] = tmp\n",
    "        print(L)"
   ]
  },
  {
   "cell_type": "code",
   "execution_count": null,
   "metadata": {},
   "outputs": [],
   "source": []
  }
 ],
 "metadata": {
  "kernelspec": {
   "display_name": "Python 3",
   "language": "python",
   "name": "python3"
  },
  "language_info": {
   "codemirror_mode": {
    "name": "ipython",
    "version": 3
   },
   "file_extension": ".py",
   "mimetype": "text/x-python",
   "name": "python",
   "nbconvert_exporter": "python",
   "pygments_lexer": "ipython3",
   "version": "3.8.2-final"
  },
  "toc": {
   "base_numbering": 1,
   "nav_menu": {},
   "number_sections": true,
   "sideBar": true,
   "skip_h1_title": false,
   "title_cell": "Table of Contents",
   "title_sidebar": "Contents",
   "toc_cell": false,
   "toc_position": {},
   "toc_section_display": true,
   "toc_window_display": false
  }
 },
 "nbformat": 4,
 "nbformat_minor": 4
}