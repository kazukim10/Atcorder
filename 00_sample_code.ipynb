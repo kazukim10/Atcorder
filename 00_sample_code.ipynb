{
 "cells": [
  {
   "cell_type": "code",
   "execution_count": 7,
   "metadata": {},
   "outputs": [
    {
     "output_type": "stream",
     "name": "stdout",
     "text": [
      "[2, 3, 4, 1]\n[2, 4, 3, 1]\n[2, 3, 4, 1]\n[1, 3, 4, 2]\n[1, 2, 4, 3]\n[1, 2, 3, 4]\n"
     ]
    }
   ],
   "source": [
    "# インサートソート\n",
    "N = int(input())\n",
    "L = list(map(int,input().split()))\n",
    "\n",
    "for i in range(N):\n",
    "    for j in range(i):\n",
    "        if L[i] < L[j]:\n",
    "            tmp = L[j]\n",
    "            L[j] = L[i]\n",
    "            L[i] = tmp\n",
    "\n",
    "        else:\n",
    "            tmp = L[i]\n",
    "            L[i] = L[j+1]\n",
    "            L[j+1] = tmp\n",
    "        #print(L)\n",
    "    #print(L)"
   ]
  },
  {
   "cell_type": "code",
   "execution_count": null,
   "metadata": {},
   "outputs": [],
   "source": [
    "# バブルソート\n"
   ]
  }
 ],
 "metadata": {
  "kernelspec": {
   "display_name": "Python 3",
   "language": "python",
   "name": "python3"
  },
  "language_info": {
   "codemirror_mode": {
    "name": "ipython",
    "version": 3
   },
   "file_extension": ".py",
   "mimetype": "text/x-python",
   "name": "python",
   "nbconvert_exporter": "python",
   "pygments_lexer": "ipython3",
   "version": "3.8.2-final"
  },
  "toc": {
   "base_numbering": 1,
   "nav_menu": {},
   "number_sections": true,
   "sideBar": true,
   "skip_h1_title": false,
   "title_cell": "Table of Contents",
   "title_sidebar": "Contents",
   "toc_cell": false,
   "toc_position": {},
   "toc_section_display": true,
   "toc_window_display": false
  }
 },
 "nbformat": 4,
 "nbformat_minor": 4
}