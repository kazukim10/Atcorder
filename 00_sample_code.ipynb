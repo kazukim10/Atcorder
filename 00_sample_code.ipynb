{
 "cells": [
  {
   "cell_type": "code",
   "execution_count": 53,
   "metadata": {},
   "outputs": [
    {
     "output_type": "stream",
     "name": "stdout",
     "text": [
      "[4, 5, 2, 3, 1, 6]\n[2, 4, 5, 3, 1, 6]\n[2, 3, 4, 5, 1, 6]\n[1, 2, 3, 4, 5, 6]\n"
     ]
    }
   ],
   "source": [
    "# インサートソート\n",
    "N = int(input())\n",
    "L = list(map(int,input().split()))\n",
    "\n",
    "for i in range(N):\n",
    "    for j in range(i):\n",
    "        if L[i] < L[j]:\n",
    "            ins = L[i]\n",
    "            L[j+1:i+1] = L[j:i]\n",
    "            L[j] = ins\n",
    "            print(L)"
   ]
  },
  {
   "cell_type": "code",
   "execution_count": 62,
   "metadata": {},
   "outputs": [
    {
     "output_type": "stream",
     "name": "stdout",
     "text": [
      "[5, 3, 2, 1, 4]\n[5, 3, 1, 2, 4]\n[5, 1, 3, 2, 4]\n[1, 5, 3, 2, 4]\n[1, 5, 3, 2, 4]\n[1, 5, 2, 3, 4]\n[1, 2, 5, 3, 4]\n[1, 2, 5, 3, 4]\n[1, 2, 3, 5, 4]\n[1, 2, 3, 4, 5]\n"
     ]
    }
   ],
   "source": [
    "# バブルソート\n",
    "N = int(input())\n",
    "L = list(map(int,input().split()))\n",
    "\n",
    "for i in range(1,N):\n",
    "    for j in range(1,N-i+1):\n",
    "        if L[-j] < L[-j-1]:\n",
    "            tmp = L[-j]\n",
    "            L[-j] = L[-j-1]\n",
    "            L[-j-1] = tmp\n",
    "        print(L)"
   ]
  },
  {
   "cell_type": "code",
   "execution_count": 11,
   "metadata": {},
   "outputs": [
    {
     "output_type": "stream",
     "name": "stdout",
     "text": [
      "5040\n"
     ]
    }
   ],
   "source": [
    "# n! 再帰関数\n",
    "def func(n):\n",
    "    #print(n)\n",
    "    if n == 1:\n",
    "        return 1\n",
    "    return n*func(n-1)\n",
    "n = 7\n",
    "print(func(n))"
   ]
  },
  {
   "cell_type": "code",
   "execution_count": 64,
   "metadata": {},
   "outputs": [
    {
     "output_type": "stream",
     "name": "stdout",
     "text": [
      "購入パターン:0[] 合計0円\n購入パターン:1['みかん'] 合計100円\n購入パターン:2['りんご'] 合計200円\n購入パターン:3['みかん', 'りんご'] 合計300円\n購入パターン:4['メロン'] 合計300円\n購入パターン:5['みかん', 'メロン'] 合計400円\n購入パターン:6['りんご', 'メロン'] 合計500円\n購入パターン:7['みかん', 'りんご', 'メロン'] 合計600円\n購入パターン:8['ぶどう'] 合計150円\n購入パターン:9['みかん', 'ぶどう'] 合計250円\n購入パターン:10['りんご', 'ぶどう'] 合計350円\n購入パターン:11['みかん', 'りんご', 'ぶどう'] 合計450円\n購入パターン:12['メロン', 'ぶどう'] 合計450円\n購入パターン:13['みかん', 'メロン', 'ぶどう'] 合計550円\n購入パターン:14['りんご', 'メロン', 'ぶどう'] 合計650円\n購入パターン:15['みかん', 'りんご', 'メロン', 'ぶどう'] 合計750円\n"
     ]
    }
   ],
   "source": [
    "# 全探索（組み合わせの列挙）\n",
    "#i = 5\n",
    "#print(bin(i))\n",
    "#print(bin(i >> 2))\n",
    "#print((i >> 2)&1)\n",
    "\n",
    "money = 300\n",
    "items = {'みかん':100,'りんご':200,'メロン':300,'ぶどう':150}\n",
    "\n",
    "N = len(items)\n",
    "\n",
    "for i in range(2**N):\n",
    "    bag = []\n",
    "    cost = 0\n",
    "    print('購入パターン:{}'.format(i), end ='')\n",
    "    for j,food in enumerate(items.items()):\n",
    "        if ((i >> j)&1):\n",
    "            bag.append(food[0])\n",
    "            cost += food[1]\n",
    "    print(bag,'合計{}円'.format(cost))"
   ]
  }
 ],
 "metadata": {
  "kernelspec": {
   "display_name": "Python 3",
   "language": "python",
   "name": "python3"
  },
  "language_info": {
   "codemirror_mode": {
    "name": "ipython",
    "version": 3
   },
   "file_extension": ".py",
   "mimetype": "text/x-python",
   "name": "python",
   "nbconvert_exporter": "python",
   "pygments_lexer": "ipython3",
   "version": "3.8.2-final"
  },
  "toc": {
   "base_numbering": 1,
   "nav_menu": {},
   "number_sections": true,
   "sideBar": true,
   "skip_h1_title": false,
   "title_cell": "Table of Contents",
   "title_sidebar": "Contents",
   "toc_cell": false,
   "toc_position": {},
   "toc_section_display": true,
   "toc_window_display": false
  }
 },
 "nbformat": 4,
 "nbformat_minor": 4
}