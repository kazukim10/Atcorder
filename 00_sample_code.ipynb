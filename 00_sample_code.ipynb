{
 "cells": [
  {
   "cell_type": "code",
   "execution_count": 53,
   "metadata": {},
   "outputs": [
    {
     "output_type": "stream",
     "name": "stdout",
     "text": [
      "[4, 5, 2, 3, 1, 6]\n[2, 4, 5, 3, 1, 6]\n[2, 3, 4, 5, 1, 6]\n[1, 2, 3, 4, 5, 6]\n"
     ]
    }
   ],
   "source": [
    "# インサートソート\n",
    "N = int(input())\n",
    "L = list(map(int,input().split()))\n",
    "\n",
    "for i in range(N):\n",
    "    for j in range(i):\n",
    "        if L[i] < L[j]:\n",
    "            ins = L[i]\n",
    "            L[j+1:i+1] = L[j:i]\n",
    "            L[j] = ins\n",
    "            print(L)"
   ]
  },
  {
   "cell_type": "code",
   "execution_count": 62,
   "metadata": {},
   "outputs": [
    {
     "output_type": "stream",
     "name": "stdout",
     "text": [
      "[5, 3, 2, 1, 4]\n[5, 3, 1, 2, 4]\n[5, 1, 3, 2, 4]\n[1, 5, 3, 2, 4]\n[1, 5, 3, 2, 4]\n[1, 5, 2, 3, 4]\n[1, 2, 5, 3, 4]\n[1, 2, 5, 3, 4]\n[1, 2, 3, 5, 4]\n[1, 2, 3, 4, 5]\n"
     ]
    }
   ],
   "source": [
    "# バブルソート\n",
    "N = int(input())\n",
    "L = list(map(int,input().split()))\n",
    "\n",
    "for i in range(1,N):\n",
    "    for j in range(1,N-i+1):\n",
    "        if L[-j] < L[-j-1]:\n",
    "            tmp = L[-j]\n",
    "            L[-j] = L[-j-1]\n",
    "            L[-j-1] = tmp\n",
    "        print(L)"
   ]
  },
  {
   "cell_type": "code",
   "execution_count": 11,
   "metadata": {},
   "outputs": [
    {
     "output_type": "stream",
     "name": "stdout",
     "text": [
      "5040\n"
     ]
    }
   ],
   "source": [
    "# n! 再帰関数\n",
    "def func(n):\n",
    "    #print(n)\n",
    "    if n == 1:\n",
    "        return 1\n",
    "    return n*func(n-1)\n",
    "n = 7\n",
    "print(func(n))"
   ]
  },
  {
   "cell_type": "code",
   "execution_count": 64,
   "metadata": {},
   "outputs": [
    {
     "output_type": "stream",
     "name": "stdout",
     "text": [
      "購入パターン:0[] 合計0円\n購入パターン:1['みかん'] 合計100円\n購入パターン:2['りんご'] 合計200円\n購入パターン:3['みかん', 'りんご'] 合計300円\n購入パターン:4['メロン'] 合計300円\n購入パターン:5['みかん', 'メロン'] 合計400円\n購入パターン:6['りんご', 'メロン'] 合計500円\n購入パターン:7['みかん', 'りんご', 'メロン'] 合計600円\n購入パターン:8['ぶどう'] 合計150円\n購入パターン:9['みかん', 'ぶどう'] 合計250円\n購入パターン:10['りんご', 'ぶどう'] 合計350円\n購入パターン:11['みかん', 'りんご', 'ぶどう'] 合計450円\n購入パターン:12['メロン', 'ぶどう'] 合計450円\n購入パターン:13['みかん', 'メロン', 'ぶどう'] 合計550円\n購入パターン:14['りんご', 'メロン', 'ぶどう'] 合計650円\n購入パターン:15['みかん', 'りんご', 'メロン', 'ぶどう'] 合計750円\n"
     ]
    }
   ],
   "source": [
    "# 全探索（組み合わせの列挙）\n",
    "#i = 5\n",
    "#print(bin(i))\n",
    "#print(bin(i >> 2))\n",
    "#print((i >> 2)&1)\n",
    "\n",
    "money = 300\n",
    "items = {'みかん':100,'りんご':200,'メロン':300,'ぶどう':150}\n",
    "\n",
    "N = len(items)\n",
    "\n",
    "for i in range(2**N):\n",
    "    bag = []\n",
    "    cost = 0\n",
    "    print('購入パターン:{}'.format(i), end ='')\n",
    "    for j,food in enumerate(items.items()):\n",
    "        if ((i >> j)&1):\n",
    "            bag.append(food[0])\n",
    "            cost += food[1]\n",
    "    print(bag,'合計{}円'.format(cost))"
   ]
  },
  {
   "cell_type": "code",
   "execution_count": 5,
   "metadata": {},
   "outputs": [
    {
     "output_type": "stream",
     "name": "stdout",
     "text": [
      "A is created\nB is created\n<__main__.B object at 0x7fe9d6b895e0>\n"
     ]
    }
   ],
   "source": [
    "# クラスの継承\n",
    "class A:\n",
    "    def __init__(self):\n",
    "        print('A is created')\n",
    "\n",
    "class B(A):\n",
    "    def __init__(self):\n",
    "        super().__init__()\n",
    "        print('B is created')\n",
    "\n",
    "print(B())"
   ]
  },
  {
   "cell_type": "code",
   "execution_count": 8,
   "metadata": {},
   "outputs": [
    {
     "output_type": "execute_result",
     "data": {
      "text/plain": [
       "(array([ 3., 11.]),\n",
       " array([[-0.83205029, -0.4472136 ],\n",
       "        [ 0.5547002 , -0.89442719]]))"
      ]
     },
     "metadata": {},
     "execution_count": 8
    }
   ],
   "source": [
    "# 固有値\n",
    "import numpy as np\n",
    "import numpy.linalg as LA\n",
    "\n",
    "a = np.array([[5,3],\n",
    "              [4,9]])\n",
    "\n",
    "LA.eig(a)"
   ]
  },
  {
   "cell_type": "code",
   "execution_count": 17,
   "metadata": {},
   "outputs": [
    {
     "output_type": "execute_result",
     "data": {
      "text/plain": [
       "[0, 2, 4, 6, 8, 10]"
      ]
     },
     "metadata": {},
     "execution_count": 17
    }
   ],
   "source": [
    "# range関数\n",
    "[i for i in range(11) if i%2==0]"
   ]
  },
  {
   "cell_type": "code",
   "execution_count": 12,
   "metadata": {},
   "outputs": [
    {
     "output_type": "stream",
     "name": "stdout",
     "text": [
      "[[2. 3. 4.]\n [5. 6. 7.]]\n"
     ]
    }
   ],
   "source": [
    "# 行列計算\n",
    "import numpy as np\n",
    "\n",
    "ones = np.ones(6)\n",
    "ones = ones.reshape(2,3)\n",
    "\n",
    "sample = [[1,2,3],\n",
    "         [4,5,6]]\n",
    "\n",
    "print(ones+sample)"
   ]
  },
  {
   "cell_type": "code",
   "execution_count": 15,
   "metadata": {},
   "outputs": [
    {
     "output_type": "stream",
     "name": "stdout",
     "text": [
      "slf_ent 0.3250829733914482\ncrs_ent 0.6931471805599453\n0.3680642071684971\n0.36806420716849714\n"
     ]
    }
   ],
   "source": [
    "# KLダイバージェンス\n",
    "from scipy.stats import norm,entropy\n",
    "\n",
    "p = 0.5\n",
    "q = 0.9\n",
    "\n",
    "slf_ent = -1*(q*np.log(q) +(1-q)*np.log(1-q))\n",
    "crs_ent = -1*(q*np.log(p) +(1-q)*np.log(1-p))\n",
    "\n",
    "print('slf_ent',slf_ent)\n",
    "print('crs_ent',crs_ent)\n",
    "print(crs_ent -slf_ent)\n",
    "print(entropy([q,1-q],[p,1-p]))"
   ]
  },
  {
   "cell_type": "code",
   "execution_count": 16,
   "metadata": {},
   "outputs": [
    {
     "output_type": "stream",
     "name": "stdout",
     "text": [
      "最大公約数： 2\n"
     ]
    }
   ],
   "source": [
    "# ユークリッド互除法\n",
    "A,B = 12,34\n",
    "\n",
    "while B != 0:\n",
    "    \n",
    "    C = A%B\n",
    "    A = B\n",
    "    B = C\n",
    "print('最大公約数：',A)"
   ]
  },
  {
   "cell_type": "code",
   "execution_count": 23,
   "metadata": {},
   "outputs": [
    {
     "output_type": "stream",
     "name": "stdout",
     "text": [
      " -1 is smaller than 0\n  0 is equall to 0\n  3 is bigger than 0\n  1 is bigger than 0\n -3 is smaller than 0\n  0 is equall to 0\n"
     ]
    }
   ],
   "source": [
    "# 条件分岐\n",
    "A = [-1,0,3,1,-3,0]\n",
    "for a in A:\n",
    "    if a > 0:\n",
    "        print('{: 3} is bigger than 0'.format(a))\n",
    "    elif a < 0:\n",
    "        print('{: 3} is smaller than 0'.format(a))\n",
    "    else:\n",
    "        print('{: 3} is equall to 0'.format(a))"
   ]
  },
  {
   "cell_type": "code",
   "execution_count": null,
   "metadata": {},
   "outputs": [],
   "source": [
    "# 2分探索\n"
   ]
  },
  {
   "cell_type": "code",
   "execution_count": 24,
   "metadata": {},
   "outputs": [
    {
     "output_type": "stream",
     "name": "stderr",
     "text": [
      "<frozen importlib._bootstrap>:219: RuntimeWarning: numpy.ufunc size changed, may indicate binary incompatibility. Expected 192 from C header, got 216 from PyObject\n",
      "<frozen importlib._bootstrap>:219: RuntimeWarning: numpy.ufunc size changed, may indicate binary incompatibility. Expected 192 from C header, got 216 from PyObject\n"
     ]
    },
    {
     "output_type": "execute_result",
     "data": {
      "text/plain": [
       "      CRIM    ZN  INDUS  CHAS    NOX     RM   AGE     DIS  RAD    TAX  \\\n",
       "0  0.00632  18.0   2.31   0.0  0.538  6.575  65.2  4.0900  1.0  296.0   \n",
       "1  0.02731   0.0   7.07   0.0  0.469  6.421  78.9  4.9671  2.0  242.0   \n",
       "2  0.02729   0.0   7.07   0.0  0.469  7.185  61.1  4.9671  2.0  242.0   \n",
       "3  0.03237   0.0   2.18   0.0  0.458  6.998  45.8  6.0622  3.0  222.0   \n",
       "4  0.06905   0.0   2.18   0.0  0.458  7.147  54.2  6.0622  3.0  222.0   \n",
       "\n",
       "   PTRATIO       B  LSTAT  \n",
       "0     15.3  396.90   4.98  \n",
       "1     17.8  396.90   9.14  \n",
       "2     17.8  392.83   4.03  \n",
       "3     18.7  394.63   2.94  \n",
       "4     18.7  396.90   5.33  "
      ],
      "text/html": "<div>\n<style scoped>\n    .dataframe tbody tr th:only-of-type {\n        vertical-align: middle;\n    }\n\n    .dataframe tbody tr th {\n        vertical-align: top;\n    }\n\n    .dataframe thead th {\n        text-align: right;\n    }\n</style>\n<table border=\"1\" class=\"dataframe\">\n  <thead>\n    <tr style=\"text-align: right;\">\n      <th></th>\n      <th>CRIM</th>\n      <th>ZN</th>\n      <th>INDUS</th>\n      <th>CHAS</th>\n      <th>NOX</th>\n      <th>RM</th>\n      <th>AGE</th>\n      <th>DIS</th>\n      <th>RAD</th>\n      <th>TAX</th>\n      <th>PTRATIO</th>\n      <th>B</th>\n      <th>LSTAT</th>\n    </tr>\n  </thead>\n  <tbody>\n    <tr>\n      <th>0</th>\n      <td>0.00632</td>\n      <td>18.0</td>\n      <td>2.31</td>\n      <td>0.0</td>\n      <td>0.538</td>\n      <td>6.575</td>\n      <td>65.2</td>\n      <td>4.0900</td>\n      <td>1.0</td>\n      <td>296.0</td>\n      <td>15.3</td>\n      <td>396.90</td>\n      <td>4.98</td>\n    </tr>\n    <tr>\n      <th>1</th>\n      <td>0.02731</td>\n      <td>0.0</td>\n      <td>7.07</td>\n      <td>0.0</td>\n      <td>0.469</td>\n      <td>6.421</td>\n      <td>78.9</td>\n      <td>4.9671</td>\n      <td>2.0</td>\n      <td>242.0</td>\n      <td>17.8</td>\n      <td>396.90</td>\n      <td>9.14</td>\n    </tr>\n    <tr>\n      <th>2</th>\n      <td>0.02729</td>\n      <td>0.0</td>\n      <td>7.07</td>\n      <td>0.0</td>\n      <td>0.469</td>\n      <td>7.185</td>\n      <td>61.1</td>\n      <td>4.9671</td>\n      <td>2.0</td>\n      <td>242.0</td>\n      <td>17.8</td>\n      <td>392.83</td>\n      <td>4.03</td>\n    </tr>\n    <tr>\n      <th>3</th>\n      <td>0.03237</td>\n      <td>0.0</td>\n      <td>2.18</td>\n      <td>0.0</td>\n      <td>0.458</td>\n      <td>6.998</td>\n      <td>45.8</td>\n      <td>6.0622</td>\n      <td>3.0</td>\n      <td>222.0</td>\n      <td>18.7</td>\n      <td>394.63</td>\n      <td>2.94</td>\n    </tr>\n    <tr>\n      <th>4</th>\n      <td>0.06905</td>\n      <td>0.0</td>\n      <td>2.18</td>\n      <td>0.0</td>\n      <td>0.458</td>\n      <td>7.147</td>\n      <td>54.2</td>\n      <td>6.0622</td>\n      <td>3.0</td>\n      <td>222.0</td>\n      <td>18.7</td>\n      <td>396.90</td>\n      <td>5.33</td>\n    </tr>\n  </tbody>\n</table>\n</div>"
     },
     "metadata": {},
     "execution_count": 24
    }
   ],
   "source": [
    "# 主成分分析 PCA\n",
    "from sklearn.datasets import load_boston\n",
    "import pandas as pd\n",
    "import numpy as np\n",
    "\n",
    "boston = load_boston()\n",
    "df = pd.DataFrame(boston.data, columns=boston.feature_names)\n",
    "df.head()"
   ]
  },
  {
   "cell_type": "code",
   "execution_count": 27,
   "metadata": {},
   "outputs": [
    {
     "output_type": "stream",
     "name": "stdout",
     "text": [
      "固有値: [6.1389812  1.43611329 1.2450773 ]\n寄与率: [0.47129606 0.11025193 0.0955859 ]\n固有ベクトル:\n [[-2.09829747  0.77311275  0.34294273]\n [-1.45725167  0.59198521 -0.69519931]\n [-2.07459756  0.5996394   0.1671216 ]\n ...\n [-0.31236047  1.15524644 -0.40859759]\n [-0.27051907  1.04136158 -0.58545406]\n [-0.12580322  0.76197805 -1.294882  ]]\n"
     ]
    }
   ],
   "source": [
    "from sklearn.decomposition import PCA\n",
    "from sklearn.preprocessing import StandardScaler\n",
    "\n",
    "# データの標準化\n",
    "sc = StandardScaler()\n",
    "df_sc = sc.fit_transform(df)\n",
    "\n",
    "# データの主成分分析\n",
    "pca = PCA(n_components=3)\n",
    "pca_df = pca.fit_transform(df_sc)\n",
    "\n",
    "print('固有値:',pca.explained_variance_)\n",
    "print('寄与率:',pca.explained_variance_ratio_)\n",
    "print('固有ベクトル:\\n',pca_df)"
   ]
  },
  {
   "cell_type": "code",
   "execution_count": null,
   "metadata": {},
   "outputs": [],
   "source": [
    "# X以上の最小の素数探索\n",
    "\n",
    "def check(num):\n",
    "    for j in range(2,int(num**0.5)+1):\n",
    "        if num%j == 0:\n",
    "            return False\n",
    "\n",
    "    return True\n",
    "\n",
    "X = int(input())\n",
    "\n",
    "for x in range(X,2*X):\n",
    "    if check(x):\n",
    "        print(x)\n",
    "        break"
   ]
  },
  {
   "cell_type": "code",
   "execution_count": 34,
   "metadata": {},
   "outputs": [
    {
     "output_type": "stream",
     "name": "stdout",
     "text": [
      "[(1, 2)]\n",
      "[(1, 2), (2, 1)]\n",
      "2 1\n",
      "[(1, 2), (2, 1), (3, 2)]\n"
     ]
    }
   ],
   "source": [
    "# シンメトリック　サーチ\n",
    "N = int(input())\n",
    "\n",
    "pair = []\n",
    "for n in range(N):\n",
    "    i,j = map(int,input().split())\n",
    "    \n",
    "    pair.append((i,j))\n",
    "    #print(pair)\n",
    "    for k,l in pair:\n",
    "        if i == l and j == k:\n",
    "            print(i,j)"
   ]
  },
  {
   "cell_type": "code",
   "execution_count": 36,
   "metadata": {},
   "outputs": [
    {
     "output_type": "stream",
     "name": "stdout",
     "text": [
      "[(1, 2, 3, 4), (1, 2, 4, 3), (1, 3, 2, 4), (1, 3, 4, 2), (1, 4, 2, 3), (1, 4, 3, 2), (2, 1, 3, 4), (2, 1, 4, 3), (2, 3, 1, 4), (2, 3, 4, 1), (2, 4, 1, 3), (2, 4, 3, 1), (3, 1, 2, 4), (3, 1, 4, 2), (3, 2, 1, 4), (3, 2, 4, 1), (3, 4, 1, 2), (3, 4, 2, 1), (4, 1, 2, 3), (4, 1, 3, 2), (4, 2, 1, 3), (4, 2, 3, 1), (4, 3, 1, 2), (4, 3, 2, 1)]\n"
     ]
    }
   ],
   "source": [
    "# 順列の列挙\n",
    "import itertools\n",
    "\n",
    "N = int(input())\n",
    "perm = list(itertools.permutations(range(1,N+1)))\n",
    "print(perm)"
   ]
  },
  {
   "cell_type": "code",
   "execution_count": 40,
   "metadata": {},
   "outputs": [
    {
     "output_type": "stream",
     "name": "stdout",
     "text": [
      "1\n2\n3 Fizz\n4\n5 Buzz\n6 Fizz\n7\n8\n9 Fizz\n10 Buzz\n11\n12 Fizz\n13\n14\n15 FizzBuzz\n16\n17\n18 Fizz\n19\n20 Buzz\n"
     ]
    }
   ],
   "source": [
    "# FizzBuzz\n",
    "for i in range(1,21):\n",
    "    if i%3 == 0 and i%5 == 0:\n",
    "        print(i,'FizzBuzz')\n",
    "    elif i%3 == 0:\n",
    "        print(i,'Fizz')\n",
    "    elif i%5 == 0:\n",
    "        print(i,'Buzz')\n",
    "    else:\n",
    "        print(i)"
   ]
  },
  {
   "cell_type": "code",
   "execution_count": null,
   "metadata": {},
   "outputs": [],
   "source": [
    "# ビンゴ\n",
    "card = {}\n",
    "comb = []\n",
    "for _ in range(3):\n",
    "    A = list(map(int,input().split()))\n",
    "    comb.append(A)\n",
    "    for num in A:\n",
    "        card[num] = 0\n",
    "        \n",
    "#縦組み合わせ\n",
    "tmp1 = []\n",
    "tmp2 = []\n",
    "tmp3 = []\n",
    "tmp4 = []\n",
    "tmp5 = []\n",
    "for i,num in enumerate(comb):\n",
    "    tmp1.append(num[0])\n",
    "    tmp2.append(num[1])\n",
    "    tmp3.append(num[2])\n",
    "    tmp4.append(num[i])\n",
    "    tmp5.append(num[2-i])\n",
    "\n",
    "comb.append(tmp1)\n",
    "comb.append(tmp2)\n",
    "comb.append(tmp3)\n",
    "comb.append(tmp4)\n",
    "comb.append(tmp5)\n",
    "\n",
    "def check():\n",
    "    for n in comb:\n",
    "        flag = 0\n",
    "        for m in n:\n",
    "            flag += card[m]\n",
    "\n",
    "        if flag == 3:\n",
    "            return True\n",
    "    return False\n",
    "\n",
    "N = int(input())\n",
    "ans = 0\n",
    "for _ in range(N):\n",
    "    b = int(input())\n",
    "\n",
    "    if b in card:\n",
    "        card[b] = 1\n",
    "    \n",
    "    if check():\n",
    "        ans = 1\n",
    "        break\n",
    "print('Yes' if ans == 1 else 'No')"
   ]
  },
  {
   "cell_type": "code",
   "execution_count": 1,
   "metadata": {},
   "outputs": [
    {
     "output_type": "stream",
     "name": "stdout",
     "text": [
      "0\n1\n1\n2\n"
     ]
    }
   ],
   "source": [
    "# リストを1行ずつ出力する\n",
    "A= [0,1,1,2]\n",
    "print('\\n'.join(map(str,A)))"
   ]
  },
  {
   "cell_type": "code",
   "execution_count": 12,
   "metadata": {},
   "outputs": [
    {
     "output_type": "stream",
     "name": "stdout",
     "text": [
      "13\n2\n59\n13:2:59\n"
     ]
    }
   ],
   "source": [
    "# 時刻変換\n",
    "s = 46979\n",
    "\n",
    "h = s//3600\n",
    "print(h)\n",
    "m = (s-h*3600)//60\n",
    "print(m)\n",
    "s = (s-h*3600-m*60)\n",
    "print(s)\n",
    "print(str(h)+':'+str(m)+':'+str(s))"
   ]
  },
  {
   "cell_type": "code",
   "execution_count": 29,
   "metadata": {},
   "outputs": [
    {
     "output_type": "stream",
     "name": "stdout",
     "text": [
      " {'f', 'c', 'b', 'a'} \n {'c', 'b', 'a'} \n {'d', 'e', 'c', 'b', 'a'}\nA<=B False\nB<=A True\nA<=C False\nB<=C True\nA&B {'c', 'b', 'a'}\nA&C {'c', 'b', 'a'}\nB&C {'c', 'b', 'a'}\nA|B {'f', 'c', 'b', 'a'}\nA-B {'f'}\nC-B {'d', 'e'}\nA^B {'f'}\nA^C {'f', 'd', 'e'}\n"
     ]
    }
   ],
   "source": [
    "# 集合\n",
    "A = 'aaabbbcccf'\n",
    "B = 'abc'\n",
    "C = 'abcdee'\n",
    "\n",
    "A = set(A)\n",
    "B = set(B)\n",
    "C = set(C)\n",
    "print('',A,'\\n',B,'\\n',C)\n",
    "print('A<=B',A<=B)\n",
    "print('B<=A',B<=A)\n",
    "print('A<=C',A<=C)\n",
    "print('B<=C',B<=C)\n",
    "print('A&B', A&B)\n",
    "print('A&C', A&C)\n",
    "print('B&C', B&C)\n",
    "print('A|B', A|B)\n",
    "print('A-B', A-B)\n",
    "print('C-B', C-B)\n",
    "print('A^B',A^B)\n",
    "print('A^C',A^C)"
   ]
  },
  {
   "cell_type": "code",
   "execution_count": null,
   "metadata": {},
   "outputs": [],
   "source": [
    "# ミンコフスキー距離\n",
    "n = int(input())\n",
    "x = list(map(int,input().split()))\n",
    "y = list(map(int,input().split()))\n",
    "\n",
    "for i in range(1,5):\n",
    "    t = 0\n",
    "    if i != 4:\n",
    "        for num in range(n):\n",
    "            t += abs(x[num]-y[num])**i\n",
    "        print(t**(1/i))\n",
    "    else:\n",
    "        # ∞のとき\n",
    "        for num in range(n):\n",
    "            if t < abs(x[num]-y[num]):\n",
    "                t = abs(x[num]-y[num])\n",
    "        print(t)"
   ]
  },
  {
   "cell_type": "code",
   "execution_count": null,
   "metadata": {},
   "outputs": [],
   "source": [
    "# 分散、標準偏差\n",
    "while True:\n",
    "\n",
    "    n = int(input())\n",
    "    if n == 0:\n",
    "        break\n",
    "\n",
    "    m = list(map(int,input().split()))\n",
    "    ave = sum(m)/n\n",
    "\n",
    "    var = 0\n",
    "    for i in range(n):\n",
    "        var += (m[i]-ave)**2\n",
    "    print((var/n)**0.5)"
   ]
  }
 ],
 "metadata": {
  "kernelspec": {
   "display_name": "Python 3",
   "language": "python",
   "name": "python3"
  },
  "language_info": {
   "codemirror_mode": {
    "name": "ipython",
    "version": 3
   },
   "file_extension": ".py",
   "mimetype": "text/x-python",
   "name": "python",
   "nbconvert_exporter": "python",
   "pygments_lexer": "ipython3",
   "version": "3.8.2-final"
  },
  "toc": {
   "base_numbering": 1,
   "nav_menu": {},
   "number_sections": true,
   "sideBar": true,
   "skip_h1_title": false,
   "title_cell": "Table of Contents",
   "title_sidebar": "Contents",
   "toc_cell": false,
   "toc_position": {},
   "toc_section_display": true,
   "toc_window_display": false
  }
 },
 "nbformat": 4,
 "nbformat_minor": 4
}