{
 "cells": [
  {
   "cell_type": "markdown",
   "metadata": {},
   "source": [
    "https://atcoder.jp/contests/abc128"
   ]
  },
  {
   "cell_type": "code",
   "execution_count": null,
   "metadata": {},
   "outputs": [],
   "source": [
    "# 21.05.12"
   ]
  },
  {
   "cell_type": "code",
   "execution_count": 3,
   "metadata": {},
   "outputs": [
    {
     "output_type": "stream",
     "name": "stdout",
     "text": [
      "58\n"
     ]
    }
   ],
   "source": [
    "# A - Apple Pie\n",
    "A,P = map(int,input().split())\n",
    "\n",
    "k = 3*A\n",
    "pi = (P+k)//2\n",
    "print(pi)"
   ]
  },
  {
   "cell_type": "code",
   "execution_count": 14,
   "metadata": {},
   "outputs": [
    {
     "output_type": "stream",
     "name": "stdout",
     "text": [
      "2\n1\n"
     ]
    }
   ],
   "source": [
    "# B - Guidebook\n",
    "N = int(input())\n",
    "guide = {}\n",
    "per = {}\n",
    "\n",
    "for i in range(N):\n",
    "    city,score = input().split()\n",
    "    score = int(score)\n",
    "    guide.setdefault(city,[])\n",
    "    guide[city] += [score]\n",
    "    per[score] = i+1\n",
    "\n",
    "ans = sorted(guide.items(), key=lambda i:i[0],reverse=False)\n",
    "#ans = sorted(ans.items(), key=lambda i:i[1],reverse=True)\n",
    "#print(ans)\n",
    "for a,b in ans:\n",
    "    b.sort(reverse=True)\n",
    "    for t in b:\n",
    "        print(per[t])"
   ]
  },
  {
   "cell_type": "code",
   "execution_count": 26,
   "metadata": {},
   "outputs": [
    {
     "output_type": "stream",
     "name": "stdout",
     "text": [
      "[0, 0]\n[1, 0]\n[0, 1]\n[1, 1]\n0\n"
     ]
    }
   ],
   "source": [
    "# C - Switches\n",
    "N,M = map(int,input().split())\n",
    "sw = []\n",
    "for i in range(M):\n",
    "    L = list(map(int,input().split()))\n",
    "    sw.append(L[1:])\n",
    "\n",
    "p = list(map(int,input().split()))\n",
    "\n",
    "#print(sw)\n",
    "#print(p)\n",
    "\n",
    "ans = 0\n",
    "for i in range(2**N):\n",
    "    on = []\n",
    "    for j in range(N):\n",
    "        if (i>>j)&1:\n",
    "            on.append(1)\n",
    "        else:\n",
    "            on.append(0)\n",
    "    #print(on)\n",
    "\n",
    "    flag = True\n",
    "    for k in range(M): # 全ライトがつくかチェック\n",
    "        check = 0\n",
    "        for ss in sw[k]:\n",
    "            check += on[ss-1]\n",
    "\n",
    "        if check%2 != p[k]:\n",
    "            flag = False\n",
    "            break\n",
    "\n",
    "    if flag:\n",
    "        ans += 1\n",
    "\n",
    "print(ans)"
   ]
  },
  {
   "cell_type": "code",
   "execution_count": null,
   "metadata": {},
   "outputs": [],
   "source": []
  },
  {
   "cell_type": "code",
   "execution_count": null,
   "metadata": {},
   "outputs": [],
   "source": []
  },
  {
   "cell_type": "markdown",
   "metadata": {},
   "source": [
    "## 問題1"
   ]
  },
  {
   "cell_type": "code",
   "execution_count": 3,
   "metadata": {},
   "outputs": [
    {
     "name": "stdout",
     "output_type": "stream",
     "text": [
      "32 21\n",
      "58\n"
     ]
    }
   ],
   "source": [
    "A,P = map(int,input().split())\n",
    "\n",
    "print((A*3+P)//2)"
   ]
  },
  {
   "cell_type": "markdown",
   "metadata": {},
   "source": [
    "## 問題2"
   ]
  },
  {
   "cell_type": "code",
   "execution_count": 8,
   "metadata": {},
   "outputs": [
    {
     "name": "stdout",
     "output_type": "stream",
     "text": [
      "6\n",
      "kazan 35\n",
      "kazan 3\n",
      "kazan 32\n",
      "kazan 311\n",
      "kazan 350\n",
      "kazan 354\n",
      "{'kazan': [35, 3, 32, 311, 350, 354]}\n"
     ]
    }
   ],
   "source": [
    "# 辞書のソート\n",
    "N = int(input())\n",
    "\n",
    "R = {}\n",
    "\n",
    "for i in range(N):\n",
    "    \n",
    "    S,P = input().split()\n",
    "    S = str(S)\n",
    "    P = int(P)\n",
    "    \n",
    "    if S in R:\n",
    "        R[S] += [(P,i)]\n",
    "    else:\n",
    "        R[S] = [(P,i)]\n",
    "print(R)\n",
    "    "
   ]
  },
  {
   "cell_type": "code",
   "execution_count": null,
   "metadata": {},
   "outputs": [],
   "source": []
  }
 ],
 "metadata": {
  "kernelspec": {
   "display_name": "Python 3",
   "language": "python",
   "name": "python3"
  },
  "language_info": {
   "codemirror_mode": {
    "name": "ipython",
    "version": 3
   },
   "file_extension": ".py",
   "mimetype": "text/x-python",
   "name": "python",
   "nbconvert_exporter": "python",
   "pygments_lexer": "ipython3",
   "version": "3.8.2"
  },
  "toc": {
   "base_numbering": 1,
   "nav_menu": {},
   "number_sections": true,
   "sideBar": true,
   "skip_h1_title": false,
   "title_cell": "Table of Contents",
   "title_sidebar": "Contents",
   "toc_cell": false,
   "toc_position": {},
   "toc_section_display": true,
   "toc_window_display": false
  }
 },
 "nbformat": 4,
 "nbformat_minor": 4
}