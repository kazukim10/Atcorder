{
 "cells": [
  {
   "cell_type": "markdown",
   "metadata": {},
   "source": [
    "https://atcoder.jp/contests/abc180"
   ]
  },
  {
   "cell_type": "markdown",
   "metadata": {},
   "source": [
    "## 問題1"
   ]
  },
  {
   "cell_type": "code",
   "execution_count": 1,
   "metadata": {},
   "outputs": [
    {
     "name": "stdout",
     "output_type": "stream",
     "text": [
      "100 1 2\n",
      "101\n"
     ]
    }
   ],
   "source": [
    "N,A,B = map(int,input().split())\n",
    "\n",
    "print(N-A+B)"
   ]
  },
  {
   "cell_type": "markdown",
   "metadata": {},
   "source": [
    "## 問2"
   ]
  },
  {
   "cell_type": "code",
   "execution_count": 8,
   "metadata": {},
   "outputs": [
    {
     "name": "stdout",
     "output_type": "stream",
     "text": [
      "10\n",
      "3 -1 -4 1 -5 9 2 -6 5 -3\n",
      "39\n",
      "14.38749456993816\n",
      "9\n"
     ]
    }
   ],
   "source": [
    "import math\n",
    "\n",
    "N = int(input())\n",
    "\n",
    "X = list(map(int,input().split()))\n",
    "\n",
    "print(sum([abs(x) for x in X]))\n",
    "print(math.sqrt(sum([abs(x)**2 for x in X])))\n",
    "print(max([abs(x) for x in X]))"
   ]
  },
  {
   "cell_type": "markdown",
   "metadata": {},
   "source": [
    "## 問題3"
   ]
  },
  {
   "cell_type": "code",
   "execution_count": 21,
   "metadata": {},
   "outputs": [
    {
     "name": "stdout",
     "output_type": "stream",
     "text": [
      "720\n",
      "1\n",
      "2\n",
      "3\n",
      "4\n",
      "5\n",
      "6\n",
      "8\n",
      "9\n",
      "10\n",
      "12\n",
      "15\n",
      "16\n",
      "18\n",
      "20\n",
      "24\n",
      "30\n",
      "36\n",
      "40\n",
      "45\n",
      "48\n",
      "60\n",
      "72\n",
      "80\n",
      "90\n",
      "120\n",
      "144\n",
      "180\n",
      "240\n",
      "360\n",
      "720\n"
     ]
    }
   ],
   "source": [
    "import math\n",
    "\n",
    "N = int(input())\n",
    "\n",
    "log = {}\n",
    "\n",
    "for i in range(1,int(math.sqrt(N))+1):\n",
    "    if N%i == 0:\n",
    "        print(i)\n",
    "        \n",
    "        if i != N/i:\n",
    "            log[i] = N/i\n",
    "        \n",
    "log = sorted(log.items(), key=lambda x:x[1])\n",
    "    \n",
    "for j in log:\n",
    "    print(int(j[1]))"
   ]
  },
  {
   "cell_type": "markdown",
   "metadata": {},
   "source": [
    "- Nの約数を全探索すると、Timeover\n",
    "- 2が約数の時、N/2も約数（対となる値がある）\n",
    "- 平方根を持つ値は、重複するため注意する"
   ]
  }
 ],
 "metadata": {
  "kernelspec": {
   "display_name": "Python 3",
   "language": "python",
   "name": "python3"
  },
  "language_info": {
   "codemirror_mode": {
    "name": "ipython",
    "version": 3
   },
   "file_extension": ".py",
   "mimetype": "text/x-python",
   "name": "python",
   "nbconvert_exporter": "python",
   "pygments_lexer": "ipython3",
   "version": "3.8.2"
  },
  "toc": {
   "base_numbering": 1,
   "nav_menu": {},
   "number_sections": true,
   "sideBar": true,
   "skip_h1_title": false,
   "title_cell": "Table of Contents",
   "title_sidebar": "Contents",
   "toc_cell": false,
   "toc_position": {},
   "toc_section_display": true,
   "toc_window_display": false
  }
 },
 "nbformat": 4,
 "nbformat_minor": 4
}
