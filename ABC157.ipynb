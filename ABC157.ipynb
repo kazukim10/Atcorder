{
 "cells": [
  {
   "source": [
    "https://atcoder.jp/contests/abc157"
   ],
   "cell_type": "markdown",
   "metadata": {}
  },
  {
   "cell_type": "code",
   "execution_count": 5,
   "metadata": {},
   "outputs": [
    {
     "output_type": "stream",
     "name": "stdout",
     "text": [
      "1\n"
     ]
    }
   ],
   "source": [
    "# 問題A\n",
    "N = int(input())\n",
    "print(N//2 if N%2 == 0 else N//2+1)"
   ]
  },
  {
   "cell_type": "code",
   "execution_count": 10,
   "metadata": {
    "tags": []
   },
   "outputs": [
    {
     "output_type": "stream",
     "name": "stdout",
     "text": [
      "[[84, 97, 66], [79, 89, 11], [61, 59, 7], [84, 79, 61], [97, 89, 59], [66, 11, 7], [84, 89, 7], [66, 89, 61]]\n",
      "Yes\n",
      "No\n"
     ]
    }
   ],
   "source": [
    "# 問題B\n",
    "# ビンゴ\n",
    "card = {}\n",
    "comb = []\n",
    "for _ in range(3):\n",
    "    A = list(map(int,input().split()))\n",
    "    comb.append(A)\n",
    "    for num in A:\n",
    "        card[num] = 0\n",
    "        \n",
    "#縦組み合わせ\n",
    "tmp1 = []\n",
    "tmp2 = []\n",
    "tmp3 = []\n",
    "tmp4 = []\n",
    "tmp5 = []\n",
    "for i,num in enumerate(comb):\n",
    "    tmp1.append(num[0])\n",
    "    tmp2.append(num[1])\n",
    "    tmp3.append(num[2])\n",
    "    tmp4.append(num[i])\n",
    "    tmp5.append(num[2-i])\n",
    "\n",
    "comb.append(tmp1)\n",
    "comb.append(tmp2)\n",
    "comb.append(tmp3)\n",
    "comb.append(tmp4)\n",
    "comb.append(tmp5)\n",
    "\n",
    "def check():\n",
    "    for n in comb:\n",
    "        flag = 0\n",
    "        for m in n:\n",
    "            flag += card[m]\n",
    "\n",
    "        if flag == 3:\n",
    "            return True\n",
    "    return False\n",
    "\n",
    "N = int(input())\n",
    "ans = 0\n",
    "for _ in range(N):\n",
    "    b = int(input())\n",
    "\n",
    "    if b in card:\n",
    "        card[b] = 1\n",
    "    \n",
    "    if check():\n",
    "        ans = 1\n",
    "        break\n",
    "print('Yes' if ans == 1 else 'No')"
   ]
  },
  {
   "cell_type": "code",
   "execution_count": 24,
   "metadata": {},
   "outputs": [
    {
     "output_type": "stream",
     "name": "stdout",
     "text": [
      "900\n"
     ]
    }
   ],
   "source": [
    "# 問題C (Not AC)\n",
    "N,M = map(int,input().split())\n",
    "\n",
    "num = {}\n",
    "flag = 0\n",
    "for _ in range(M):\n",
    "    s,c = map(int,input().split())\n",
    "    if s not in num:\n",
    "        num[s] = c\n",
    "\n",
    "    elif s in num and c != num[s]:\n",
    "        flag = -1\n",
    "\n",
    "    if N > 1 and s == 1 and c == 0:\n",
    "        flag = -1\n",
    "\n",
    "#print(num)\n",
    "ans = ''\n",
    "for i in range(N):\n",
    "    if (i+1) in num:\n",
    "        ans += str(num[i+1])\n",
    "    else:\n",
    "        ans += str(0)\n",
    "print(ans if flag != -1 else -1)"
   ]
  },
  {
   "cell_type": "code",
   "execution_count": null,
   "metadata": {},
   "outputs": [],
   "source": []
  }
 ],
 "metadata": {
  "kernelspec": {
   "display_name": "Python 3",
   "language": "python",
   "name": "python3"
  },
  "language_info": {
   "codemirror_mode": {
    "name": "ipython",
    "version": 3
   },
   "file_extension": ".py",
   "mimetype": "text/x-python",
   "name": "python",
   "nbconvert_exporter": "python",
   "pygments_lexer": "ipython3",
   "version": "3.8.2-final"
  },
  "toc": {
   "base_numbering": 1,
   "nav_menu": {},
   "number_sections": true,
   "sideBar": true,
   "skip_h1_title": false,
   "title_cell": "Table of Contents",
   "title_sidebar": "Contents",
   "toc_cell": false,
   "toc_position": {},
   "toc_section_display": true,
   "toc_window_display": false
  }
 },
 "nbformat": 4,
 "nbformat_minor": 4
}