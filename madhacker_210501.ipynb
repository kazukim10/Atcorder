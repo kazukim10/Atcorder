{
 "cells": [
  {
   "source": [
    "https://atcoder.jp/contests/zone2021"
   ],
   "cell_type": "markdown",
   "metadata": {}
  },
  {
   "source": [
    "pypy3"
   ],
   "cell_type": "markdown",
   "metadata": {}
  },
  {
   "cell_type": "code",
   "execution_count": null,
   "metadata": {},
   "outputs": [],
   "source": []
  },
  {
   "cell_type": "code",
   "execution_count": null,
   "metadata": {},
   "outputs": [],
   "source": []
  },
  {
   "cell_type": "code",
   "execution_count": null,
   "metadata": {},
   "outputs": [],
   "source": []
  },
  {
   "cell_type": "code",
   "execution_count": null,
   "metadata": {},
   "outputs": [],
   "source": []
  },
  {
   "cell_type": "code",
   "execution_count": 30,
   "metadata": {},
   "outputs": [
    {
     "output_type": "stream",
     "name": "stdout",
     "text": [
      "\n"
     ]
    }
   ],
   "source": [
    "# D\n",
    "\n",
    "def make(T,S):\n",
    "    if S[0] != 'R':\n",
    "        T.append(S[0])\n",
    "\n",
    "    S = S[1:]\n",
    "    for s in S:\n",
    "\n",
    "        if s == 'R':\n",
    "            T.reverse()\n",
    "\n",
    "        elif T[-1] != s:\n",
    "            T.append(s)\n",
    "\n",
    "        elif T[-1] == s:\n",
    "            T.pop()\n",
    "\n",
    "    return T\n",
    "\n",
    "if __name__ == '__main__':\n",
    "    T = []\n",
    "    S = input()\n",
    "\n",
    "    ans = make(T,S)\n",
    "    print(''.join(ans))"
   ]
  },
  {
   "cell_type": "code",
   "execution_count": 17,
   "metadata": {},
   "outputs": [
    {
     "output_type": "error",
     "ename": "TypeError",
     "evalue": "unsupported operand type(s) for -=: 'str' and 'str'",
     "traceback": [
      "\u001b[0;31m---------------------------------------------------------------------------\u001b[0m",
      "\u001b[0;31mTypeError\u001b[0m                                 Traceback (most recent call last)",
      "\u001b[0;32m<ipython-input-17-ddae35c44ec1>\u001b[0m in \u001b[0;36m<module>\u001b[0;34m\u001b[0m\n\u001b[1;32m     17\u001b[0m \u001b[0;34m\u001b[0m\u001b[0m\n\u001b[1;32m     18\u001b[0m     \u001b[0;32melif\u001b[0m \u001b[0mT\u001b[0m\u001b[0;34m[\u001b[0m\u001b[0;34m-\u001b[0m\u001b[0;36m1\u001b[0m\u001b[0;34m]\u001b[0m \u001b[0;34m==\u001b[0m \u001b[0ms\u001b[0m\u001b[0;34m:\u001b[0m\u001b[0;34m\u001b[0m\u001b[0;34m\u001b[0m\u001b[0m\n\u001b[0;32m---> 19\u001b[0;31m         \u001b[0mT\u001b[0m \u001b[0;34m-=\u001b[0m \u001b[0ms\u001b[0m\u001b[0;34m\u001b[0m\u001b[0;34m\u001b[0m\u001b[0m\n\u001b[0m\u001b[1;32m     20\u001b[0m \u001b[0;34m\u001b[0m\u001b[0m\n\u001b[1;32m     21\u001b[0m \u001b[0mprint\u001b[0m\u001b[0;34m(\u001b[0m\u001b[0;34m''\u001b[0m\u001b[0;34m.\u001b[0m\u001b[0mjoin\u001b[0m\u001b[0;34m(\u001b[0m\u001b[0mT\u001b[0m\u001b[0;34m)\u001b[0m\u001b[0;34m)\u001b[0m\u001b[0;34m\u001b[0m\u001b[0;34m\u001b[0m\u001b[0m\n",
      "\u001b[0;31mTypeError\u001b[0m: unsupported operand type(s) for -=: 'str' and 'str'"
     ]
    }
   ],
   "source": [
    "# D\n",
    "T = ''\n",
    "\n",
    "S = input()\n",
    "\n",
    "for s in S:\n",
    "    if len(T) == 0 and s != 'R':\n",
    "        T += s\n",
    "\n",
    "    elif s == 'R':\n",
    "        T = list(T)\n",
    "        T.reverse()\n",
    "        T = ''.join(T)\n",
    "\n",
    "    elif T[-1] != s:\n",
    "        T += s\n",
    "\n",
    "    elif T[-1] == s:\n",
    "        T -= s\n",
    "\n",
    "print(''.join(T))"
   ]
  },
  {
   "cell_type": "code",
   "execution_count": 2,
   "metadata": {},
   "outputs": [
    {
     "output_type": "stream",
     "name": "stdout",
     "text": [
      "0\n"
     ]
    }
   ],
   "source": [
    "# A\n",
    "S = input()\n",
    "print(S.count('ZONe'))"
   ]
  },
  {
   "cell_type": "code",
   "execution_count": 7,
   "metadata": {},
   "outputs": [
    {
     "output_type": "error",
     "ename": "ValueError",
     "evalue": "not enough values to unpack (expected 2, got 1)",
     "traceback": [
      "\u001b[0;31m---------------------------------------------------------------------------\u001b[0m",
      "\u001b[0;31mValueError\u001b[0m                                Traceback (most recent call last)",
      "\u001b[0;32m<ipython-input-7-ea9d5d615dee>\u001b[0m in \u001b[0;36m<module>\u001b[0;34m\u001b[0m\n\u001b[1;32m      4\u001b[0m \u001b[0mans\u001b[0m \u001b[0;34m=\u001b[0m \u001b[0;36m0\u001b[0m\u001b[0;34m\u001b[0m\u001b[0;34m\u001b[0m\u001b[0m\n\u001b[1;32m      5\u001b[0m \u001b[0;32mfor\u001b[0m \u001b[0mi\u001b[0m \u001b[0;32min\u001b[0m \u001b[0mrange\u001b[0m\u001b[0;34m(\u001b[0m\u001b[0mN\u001b[0m\u001b[0;34m)\u001b[0m\u001b[0;34m:\u001b[0m\u001b[0;34m\u001b[0m\u001b[0;34m\u001b[0m\u001b[0m\n\u001b[0;32m----> 6\u001b[0;31m     \u001b[0md\u001b[0m\u001b[0;34m,\u001b[0m\u001b[0mh\u001b[0m \u001b[0;34m=\u001b[0m \u001b[0mmap\u001b[0m\u001b[0;34m(\u001b[0m\u001b[0mint\u001b[0m\u001b[0;34m,\u001b[0m\u001b[0minput\u001b[0m\u001b[0;34m(\u001b[0m\u001b[0;34m)\u001b[0m\u001b[0;34m.\u001b[0m\u001b[0msplit\u001b[0m\u001b[0;34m(\u001b[0m\u001b[0;34m)\u001b[0m\u001b[0;34m)\u001b[0m\u001b[0;34m\u001b[0m\u001b[0;34m\u001b[0m\u001b[0m\n\u001b[0m\u001b[1;32m      7\u001b[0m \u001b[0;34m\u001b[0m\u001b[0m\n\u001b[1;32m      8\u001b[0m     \u001b[0my\u001b[0m \u001b[0;34m=\u001b[0m \u001b[0;34m(\u001b[0m\u001b[0mH\u001b[0m\u001b[0;34m-\u001b[0m\u001b[0mh\u001b[0m\u001b[0;34m)\u001b[0m\u001b[0;34m*\u001b[0m\u001b[0mD\u001b[0m\u001b[0;34m/\u001b[0m\u001b[0;34m(\u001b[0m\u001b[0mD\u001b[0m\u001b[0;34m-\u001b[0m\u001b[0md\u001b[0m\u001b[0;34m)\u001b[0m \u001b[0;34m-\u001b[0m \u001b[0mH\u001b[0m\u001b[0;34m\u001b[0m\u001b[0;34m\u001b[0m\u001b[0m\n",
      "\u001b[0;31mValueError\u001b[0m: not enough values to unpack (expected 2, got 1)"
     ]
    }
   ],
   "source": [
    "# B\n",
    "N,D,H = map(int,input().split())\n",
    "\n",
    "ans = 0\n",
    "for i in range(N):\n",
    "    d,h = map(int,input().split())\n",
    "\n",
    "    y = (H-h)*D/(D-d) - H\n",
    "    #print(y)\n",
    "    if -y > ans:\n",
    "        ans = -y\n",
    "print(ans)"
   ]
  },
  {
   "cell_type": "code",
   "execution_count": 40,
   "metadata": {},
   "outputs": [
    {
     "output_type": "stream",
     "name": "stdout",
     "text": [
      "2\n"
     ]
    },
    {
     "output_type": "error",
     "ename": "ValueError",
     "evalue": "list.remove(x): x not in list",
     "traceback": [
      "\u001b[0;31m---------------------------------------------------------------------------\u001b[0m",
      "\u001b[0;31mValueError\u001b[0m                                Traceback (most recent call last)",
      "\u001b[0;32m<ipython-input-40-f86d7de1b8ef>\u001b[0m in \u001b[0;36m<module>\u001b[0;34m\u001b[0m\n\u001b[1;32m     47\u001b[0m         \u001b[0mm\u001b[0m \u001b[0;34m=\u001b[0m \u001b[0mteam_i\u001b[0m\u001b[0;34m[\u001b[0m\u001b[0ms_ind\u001b[0m\u001b[0;34m]\u001b[0m\u001b[0;34m\u001b[0m\u001b[0;34m\u001b[0m\u001b[0m\n\u001b[1;32m     48\u001b[0m         \u001b[0mprint\u001b[0m\u001b[0;34m(\u001b[0m\u001b[0mm\u001b[0m\u001b[0;34m)\u001b[0m\u001b[0;34m\u001b[0m\u001b[0;34m\u001b[0m\u001b[0m\n\u001b[0;32m---> 49\u001b[0;31m         \u001b[0mteam_a\u001b[0m\u001b[0;34m.\u001b[0m\u001b[0mremove\u001b[0m\u001b[0;34m(\u001b[0m\u001b[0mm\u001b[0m\u001b[0;34m)\u001b[0m\u001b[0;34m\u001b[0m\u001b[0;34m\u001b[0m\u001b[0m\n\u001b[0m\u001b[1;32m     50\u001b[0m         \u001b[0mteam_b\u001b[0m\u001b[0;34m.\u001b[0m\u001b[0mremove\u001b[0m\u001b[0;34m(\u001b[0m\u001b[0mm\u001b[0m\u001b[0;34m)\u001b[0m\u001b[0;34m\u001b[0m\u001b[0;34m\u001b[0m\u001b[0m\n\u001b[1;32m     51\u001b[0m         \u001b[0mteam_c\u001b[0m\u001b[0;34m.\u001b[0m\u001b[0mremove\u001b[0m\u001b[0;34m(\u001b[0m\u001b[0mm\u001b[0m\u001b[0;34m)\u001b[0m\u001b[0;34m\u001b[0m\u001b[0;34m\u001b[0m\u001b[0m\n",
      "\u001b[0;31mValueError\u001b[0m: list.remove(x): x not in list"
     ]
    }
   ],
   "source": [
    "# C\n",
    "N = int(input())\n",
    "\n",
    "team_a = []\n",
    "team_b = []\n",
    "team_c = []\n",
    "team_d = []\n",
    "team_e = []\n",
    "\n",
    "def max_i(team):\n",
    "    val = max(team)\n",
    "    ind = team.index(val)\n",
    "    \n",
    "    return val,ind\n",
    "\n",
    "def min_i(team):\n",
    "    val = min(team)\n",
    "    ind = team.index(val)\n",
    "    \n",
    "    return val,ind\n",
    "\n",
    "for i in range(3):\n",
    "    a,b,c,d,e = map(int,input().split())\n",
    "    team_a.append(a)\n",
    "    team_b.append(b)\n",
    "    team_c.append(c)\n",
    "    team_d.append(d)\n",
    "    team_e.append(e)\n",
    "\n",
    "a_val,a_ind = max_i(team_a)\n",
    "b_val,b_ind = max_i(team_b)\n",
    "c_val,c_ind = max_i(team_c)\n",
    "d_val,d_ind = max_i(team_d)\n",
    "e_val,e_ind = max_i(team_e)\n",
    "\n",
    "team_i = [a_ind,b_ind,c_ind,d_ind,e_ind]\n",
    "team_s = [a_val,b_val,c_val,d_val,e_val]\n",
    "\n",
    "s_val,s_ind = min_i(team_s)\n",
    "\n",
    "for i in range(N-3):\n",
    "    a,b,c,d,e = map(int,input().split())\n",
    "    next_m = [a,b,c,d,e]\n",
    "\n",
    "    if next_m[s_ind] > s_val:\n",
    "    \n",
    "        m = team_i[s_ind]-1\n",
    "        #print(m)\n",
    "        team_a.remove(m)\n",
    "        team_b.remove(m)\n",
    "        team_c.remove(m)\n",
    "        team_d.remove(m)\n",
    "        team_e.remove(m)\n",
    "\n",
    "        team_a.append(a)\n",
    "        team_b.append(b)\n",
    "        team_c.append(c)\n",
    "        team_d.append(d)\n",
    "        team_e.append(e)\n",
    "\n",
    "        a_val,a_ind = max_i(team_a)\n",
    "        b_val,b_ind = max_i(team_b)\n",
    "        c_val,c_ind = max_i(team_c)\n",
    "        d_val,d_ind = max_i(team_d)\n",
    "        e_val,e_ind = max_i(team_e)\n",
    "\n",
    "        team_i = [a_ind,b_ind,c_ind,d_ind,e_ind]\n",
    "        team_s = [a_val,b_val,c_val,d_val,e_val]\n",
    "\n",
    "        s_val,s_ind = min_i(team_s)\n",
    "    \n",
    "print(s_val)"
   ]
  },
  {
   "cell_type": "code",
   "execution_count": 9,
   "metadata": {},
   "outputs": [
    {
     "output_type": "stream",
     "name": "stdout",
     "text": [
      "(0, 1, 2)\n(0, 1, 3)\n(0, 1, 4)\n(0, 1, 5)\n(0, 1, 6)\n(0, 1, 7)\n(0, 1, 8)\n(0, 1, 9)\n(0, 2, 3)\n(0, 2, 4)\n(0, 2, 5)\n(0, 2, 6)\n(0, 2, 7)\n(0, 2, 8)\n(0, 2, 9)\n(0, 3, 4)\n(0, 3, 5)\n(0, 3, 6)\n(0, 3, 7)\n(0, 3, 8)\n(0, 3, 9)\n(0, 4, 5)\n(0, 4, 6)\n(0, 4, 7)\n(0, 4, 8)\n(0, 4, 9)\n(0, 5, 6)\n(0, 5, 7)\n(0, 5, 8)\n(0, 5, 9)\n(0, 6, 7)\n(0, 6, 8)\n(0, 6, 9)\n(0, 7, 8)\n(0, 7, 9)\n(0, 8, 9)\n(1, 2, 3)\n(1, 2, 4)\n(1, 2, 5)\n(1, 2, 6)\n(1, 2, 7)\n(1, 2, 8)\n(1, 2, 9)\n(1, 3, 4)\n(1, 3, 5)\n(1, 3, 6)\n(1, 3, 7)\n(1, 3, 8)\n(1, 3, 9)\n(1, 4, 5)\n(1, 4, 6)\n(1, 4, 7)\n(1, 4, 8)\n(1, 4, 9)\n(1, 5, 6)\n(1, 5, 7)\n(1, 5, 8)\n(1, 5, 9)\n(1, 6, 7)\n(1, 6, 8)\n(1, 6, 9)\n(1, 7, 8)\n(1, 7, 9)\n(1, 8, 9)\n(2, 3, 4)\n(2, 3, 5)\n(2, 3, 6)\n(2, 3, 7)\n(2, 3, 8)\n(2, 3, 9)\n(2, 4, 5)\n(2, 4, 6)\n(2, 4, 7)\n(2, 4, 8)\n(2, 4, 9)\n(2, 5, 6)\n(2, 5, 7)\n(2, 5, 8)\n(2, 5, 9)\n(2, 6, 7)\n(2, 6, 8)\n(2, 6, 9)\n(2, 7, 8)\n(2, 7, 9)\n(2, 8, 9)\n(3, 4, 5)\n(3, 4, 6)\n(3, 4, 7)\n(3, 4, 8)\n(3, 4, 9)\n(3, 5, 6)\n(3, 5, 7)\n(3, 5, 8)\n(3, 5, 9)\n(3, 6, 7)\n(3, 6, 8)\n(3, 6, 9)\n(3, 7, 8)\n(3, 7, 9)\n(3, 8, 9)\n(4, 5, 6)\n(4, 5, 7)\n(4, 5, 8)\n(4, 5, 9)\n(4, 6, 7)\n(4, 6, 8)\n(4, 6, 9)\n(4, 7, 8)\n(4, 7, 9)\n(4, 8, 9)\n(5, 6, 7)\n(5, 6, 8)\n(5, 6, 9)\n(5, 7, 8)\n(5, 7, 9)\n(5, 8, 9)\n(6, 7, 8)\n(6, 7, 9)\n(6, 8, 9)\n(7, 8, 9)\n"
     ]
    }
   ],
   "source": [
    "# C\n",
    "\n",
    "import itertools\n",
    "\n",
    "N = int(input())\n",
    "num = [i for i in range(N)]\n",
    "\n",
    "pw = []\n",
    "sp = []\n",
    "te = []\n",
    "ko = []\n",
    "th = []\n",
    "\n",
    "for _ in range(N):\n",
    "    p,s,t,k,i = map(int,input().split())\n",
    "\n",
    "    pw.append(p)\n",
    "    sp.append(s)\n",
    "    te.append(t)\n",
    "    ko.append(k)\n",
    "    th.append(i)\n",
    "\n",
    "for c in itertools.combinations(num, 3):\n",
    "    for \n",
    "\n"
   ]
  },
  {
   "cell_type": "code",
   "execution_count": null,
   "metadata": {},
   "outputs": [],
   "source": []
  },
  {
   "cell_type": "code",
   "execution_count": null,
   "metadata": {},
   "outputs": [],
   "source": []
  },
  {
   "cell_type": "code",
   "execution_count": 2,
   "metadata": {},
   "outputs": [
    {
     "output_type": "stream",
     "name": "stdout",
     "text": [
      "No\n"
     ]
    }
   ],
   "source": [
    "# 問題A\n",
    "A,B,C = map(int,input().split())\n",
    "\n",
    "if A**2+B**2 < C**2:\n",
    "    print('Yes')\n",
    "    \n",
    "else:\n",
    "    print('No')"
   ]
  },
  {
   "cell_type": "code",
   "execution_count": 13,
   "metadata": {},
   "outputs": [
    {
     "output_type": "stream",
     "name": "stdout",
     "text": [
      "1\n"
     ]
    }
   ],
   "source": [
    "# 問題B\n",
    "N = int(input())\n",
    "\n",
    "A = list(map(int,input().split()))\n",
    "B = list(map(int,input().split()))\n",
    "\n",
    "a_max = max(A)\n",
    "b_min = min(B)\n",
    "\n",
    "ans = 0\n",
    "for i in range(a_max,b_min+1):\n",
    "    ans += 1\n",
    "print(ans)"
   ]
  },
  {
   "cell_type": "code",
   "execution_count": 23,
   "metadata": {},
   "outputs": [
    {
     "output_type": "stream",
     "name": "stdout",
     "text": [
      "LPFI\n"
     ]
    }
   ],
   "source": [
    "# 問題C 条件分岐が必要\n",
    "N = int(input())\n",
    "S = input()\n",
    "Q = int(input())\n",
    "\n",
    "def trans(T,A,B,S):\n",
    "    if T == 1:\n",
    "        a = S[:A-1]\n",
    "        b = S[A-1]\n",
    "        c = S[A:B-1]\n",
    "        d = S[B-1]\n",
    "        e = S[B:]\n",
    "\n",
    "        S = ''.join([a,d,c,b,e])     \n",
    "\n",
    "    else:\n",
    "        a = S[:N]\n",
    "        b = S[N:]\n",
    "        #S = b+a\n",
    "        S = ''.join([b,a])  \n",
    "\n",
    "    return S\n",
    "\n",
    "if Q%2 == 0:\n",
    "    for _ in range(Q//2):\n",
    "        T,A,B = map(int,input().split())\n",
    "        S = trans(T,A,B,S)\n",
    "        T,A,B = map(int,input().split())\n",
    "        S = trans(T,A,B,S)\n",
    "\n",
    "        #print(S)\n",
    "else:\n",
    "    for _ in range(Q//2):\n",
    "        T,A,B = map(int,input().split())\n",
    "        S = trans(T,A,B,S)\n",
    "        T,A,B = map(int,input().split())\n",
    "        S = trans(T,A,B,S)\n",
    "\n",
    "        #print(S)\n",
    "    T,A,B = map(int,input().split())\n",
    "    S = trans(T,A,B,S)\n",
    "print(S)"
   ]
  },
  {
   "cell_type": "code",
   "execution_count": null,
   "metadata": {},
   "outputs": [],
   "source": [
    "N,M = map(int,input().split())\n",
    "\n",
    "dot = {}\n",
    "for i in range(M):\n",
    "    a,b = map(int,input().split())\n",
    "    dot[i] = [a,b]\n"
   ]
  },
  {
   "cell_type": "code",
   "execution_count": 18,
   "metadata": {},
   "outputs": [
    {
     "output_type": "stream",
     "name": "stdout",
     "text": [
      "6402373705728000\n"
     ]
    },
    {
     "output_type": "error",
     "ename": "TypeError",
     "evalue": "object of type 'int' has no len()",
     "traceback": [
      "\u001b[0;31m---------------------------------------------------------------------------\u001b[0m",
      "\u001b[0;31mTypeError\u001b[0m                                 Traceback (most recent call last)",
      "\u001b[0;32m<ipython-input-18-450f2239f80c>\u001b[0m in \u001b[0;36m<module>\u001b[0;34m\u001b[0m\n\u001b[1;32m     26\u001b[0m \u001b[0;34m\u001b[0m\u001b[0m\n\u001b[1;32m     27\u001b[0m     \u001b[0mP\u001b[0m \u001b[0;34m=\u001b[0m \u001b[0mcheck\u001b[0m\u001b[0;34m(\u001b[0m\u001b[0mx\u001b[0m\u001b[0;34m,\u001b[0m\u001b[0my\u001b[0m\u001b[0;34m,\u001b[0m\u001b[0mz\u001b[0m\u001b[0;34m,\u001b[0m\u001b[0mP\u001b[0m\u001b[0;34m)\u001b[0m\u001b[0;34m\u001b[0m\u001b[0;34m\u001b[0m\u001b[0m\n\u001b[0;32m---> 28\u001b[0;31m \u001b[0mprint\u001b[0m\u001b[0;34m(\u001b[0m\u001b[0mlen\u001b[0m\u001b[0;34m(\u001b[0m\u001b[0mP\u001b[0m\u001b[0;34m)\u001b[0m\u001b[0;34m)\u001b[0m\u001b[0;34m\u001b[0m\u001b[0;34m\u001b[0m\u001b[0m\n\u001b[0m",
      "\u001b[0;31mTypeError\u001b[0m: object of type 'int' has no len()"
     ]
    }
   ],
   "source": [
    "import itertools\n",
    "N,M = map(int,input().split())\n",
    "\n",
    "A = [i for i in range(1,N+1)]\n",
    "#print(A)\n",
    "P = 1\n",
    "for a in A[1:]:\n",
    "    P *= a\n",
    "#print(P)\n",
    "#P = list(itertools.permutations(A))\n",
    "#print(P)\n",
    "\n",
    "def check(x,y,z):\n",
    "    tmp = []\n",
    "    for p in P:\n",
    "        #print(p)\n",
    "        a = [i for i in p[:x] if i <= y]\n",
    "        #print(a)\n",
    "        if len(a) <= z:\n",
    "            tmp.append(p)\n",
    "\n",
    "    return tmp \n",
    "\n",
    "for i in range(M):\n",
    "    x,y,z = map(int,input().split())\n",
    "\n",
    "    P -= check(x,y,z)\n",
    "print(P)"
   ]
  },
  {
   "cell_type": "code",
   "execution_count": 22,
   "metadata": {},
   "outputs": [
    {
     "output_type": "stream",
     "name": "stdout",
     "text": [
      "4\n"
     ]
    }
   ],
   "source": [
    "import itertools\n",
    "\n",
    "N,M = map(int,input().split())\n",
    "A = [i for i in range(1,N+1)]\n",
    "P = 6402373705728000\n",
    "\n",
    "def check(x,y,z):\n",
    "    con = list(itertools.permutations(A,x))\n",
    "    tmp = []\n",
    "\n",
    "    for p in con:\n",
    "        #print(p)\n",
    "        a = [i for i in p if i <= y]\n",
    "        if len(a) <= z:\n",
    "            tmp.append(a)\n",
    "        #print(a)\n",
    "\n",
    "    return len(tmp)\n",
    "\n",
    "for i in range(M):\n",
    "    x,y,z = map(int,input().split())\n",
    "    tmp = check(x,y,z)\n",
    "    \n",
    "    if P > tmp:\n",
    "        P = tmp\n",
    "print(P)"
   ]
  },
  {
   "cell_type": "code",
   "execution_count": null,
   "metadata": {},
   "outputs": [],
   "source": [
    "### 以降見直し\n",
    "\n",
    "N = int(input())\n",
    "S = input()\n",
    "Q = int(input())\n",
    "\n",
    "def trans(flag,A,B,S):\n",
    "\n",
    "    if flag%2 == 0:\n",
    "        a = S[:A-1]\n",
    "        b = S[A-1]\n",
    "        c = S[A:B-1]\n",
    "        d = S[B-1]\n",
    "        e = S[B:]\n",
    "        S = ''.join([a,d,c,b,e]) \n",
    "\n",
    "    return S\n",
    "\n",
    "\n",
    "flag = 0\n",
    "for _ in range(Q):\n",
    "    T,A,B = map(int,input().split())\n",
    "\n",
    "    if T == 2:\n",
    "        flag = +1\n",
    "\n",
    "    else: \n",
    "        S = trans(flag,A,B,S)\n",
    "\n",
    "print(S)\n"
   ]
  },
  {
   "cell_type": "code",
   "execution_count": null,
   "metadata": {},
   "outputs": [],
   "source": [
    "import sys\n",
    "input = lambda: sys.stdin.readline().rstrip()\n",
    " \n",
    "def swap(s, a, b):\n",
    "    k = s[a]\n",
    "    s[a] = s[b]\n",
    "    s[b] = k\n",
    " \n",
    "def main():\n",
    "    n = int(input())\n",
    "    s = list(input())\n",
    "    q = int(input())\n",
    "    flag = False\n",
    " \n",
    "    for _ in range(q):\n",
    "        t, a, b = map(int, input().split())\n",
    "        a -= 1\n",
    "        b -= 1\n",
    "        if t == 1:\n",
    "            if flag:\n",
    "                a, b = (x + n if x <= n - 1 else x - n for x in (a, b))\n",
    "                swap(s, a, b)\n",
    "            else:\n",
    "                swap(s, a, b)\n",
    "        elif t == 2:\n",
    "            flag = not flag\n",
    "    if flag:\n",
    "        k = s[:n]\n",
    "        s[:n] = s[-n:]\n",
    "        s[-n:] = k\n",
    "    print(''.join(s))\n",
    " \n",
    "if __name__ == '__main__':\n",
    "    main()"
   ]
  },
  {
   "cell_type": "code",
   "execution_count": 25,
   "metadata": {},
   "outputs": [
    {
     "output_type": "stream",
     "name": "stdout",
     "text": [
      "['a', 'c', 'b']\n"
     ]
    }
   ],
   "source": [
    "# 文字の入れ替え\n",
    "k = list('abc') # ここがポイント\n",
    "\n",
    "t = k[2]\n",
    "k[2] = k[1]\n",
    "k[1] = t\n",
    "print(k)"
   ]
  },
  {
   "cell_type": "code",
   "execution_count": null,
   "metadata": {},
   "outputs": [],
   "source": []
  }
 ],
 "metadata": {
  "kernelspec": {
   "display_name": "Python 3",
   "language": "python",
   "name": "python3"
  },
  "language_info": {
   "codemirror_mode": {
    "name": "ipython",
    "version": 3
   },
   "file_extension": ".py",
   "mimetype": "text/x-python",
   "name": "python",
   "nbconvert_exporter": "python",
   "pygments_lexer": "ipython3",
   "version": "3.8.2"
  },
  "toc": {
   "base_numbering": 1,
   "nav_menu": {},
   "number_sections": true,
   "sideBar": true,
   "skip_h1_title": false,
   "title_cell": "Table of Contents",
   "title_sidebar": "Contents",
   "toc_cell": false,
   "toc_position": {},
   "toc_section_display": true,
   "toc_window_display": false
  }
 },
 "nbformat": 4,
 "nbformat_minor": 4
}