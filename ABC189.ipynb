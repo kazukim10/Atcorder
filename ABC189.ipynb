{
 "cells": [
  {
   "cell_type": "markdown",
   "metadata": {},
   "source": [
    "https://atcoder.jp/contests/abc189"
   ]
  },
  {
   "cell_type": "markdown",
   "metadata": {},
   "source": [
    "## 問題1"
   ]
  },
  {
   "cell_type": "code",
   "execution_count": 2,
   "metadata": {},
   "outputs": [
    {
     "name": "stdout",
     "output_type": "stream",
     "text": [
      "WVW\n",
      "Lost\n"
     ]
    }
   ],
   "source": [
    "slot = input()\n",
    "\n",
    "if slot[0] == slot[1] and slot[0] == slot[2]:\n",
    "    print('Won')\n",
    "else:\n",
    "    print('Lost')"
   ]
  },
  {
   "cell_type": "markdown",
   "metadata": {},
   "source": [
    "## 問題2"
   ]
  },
  {
   "cell_type": "code",
   "execution_count": 6,
   "metadata": {},
   "outputs": [
    {
     "name": "stdout",
     "output_type": "stream",
     "text": [
      "3 1000000\n",
      "1000 100\n",
      "1000 100\n",
      "1000 100\n",
      "-1\n"
     ]
    }
   ],
   "source": [
    "N,X = map(int,input().split(' '))\n",
    "\n",
    "alc = 0\n",
    "drunk = -1\n",
    "for drink in range(N):\n",
    "    V,P = map(int,input().split(' '))\n",
    "    \n",
    "    alc += V*P\n",
    "    \n",
    "    if alc > X*100: # Xに100を乗じると、alcに0.01乗じるよりint型で完結できる\n",
    "        drunk = drink+1\n",
    "        break\n",
    "\n",
    "print(drunk)"
   ]
  },
  {
   "cell_type": "markdown",
   "metadata": {},
   "source": [
    "## 問題3"
   ]
  },
  {
   "cell_type": "code",
   "execution_count": null,
   "metadata": {},
   "outputs": [],
   "source": []
  }
 ],
 "metadata": {
  "kernelspec": {
   "display_name": "Python 3",
   "language": "python",
   "name": "python3"
  },
  "language_info": {
   "codemirror_mode": {
    "name": "ipython",
    "version": 3
   },
   "file_extension": ".py",
   "mimetype": "text/x-python",
   "name": "python",
   "nbconvert_exporter": "python",
   "pygments_lexer": "ipython3",
   "version": "3.8.2"
  },
  "toc": {
   "base_numbering": 1,
   "nav_menu": {},
   "number_sections": true,
   "sideBar": true,
   "skip_h1_title": false,
   "title_cell": "Table of Contents",
   "title_sidebar": "Contents",
   "toc_cell": false,
   "toc_position": {},
   "toc_section_display": true,
   "toc_window_display": false
  }
 },
 "nbformat": 4,
 "nbformat_minor": 4
}
