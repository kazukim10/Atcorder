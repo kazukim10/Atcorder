{
 "cells": [
  {
   "cell_type": "code",
   "execution_count": 19,
   "metadata": {},
   "outputs": [
    {
     "name": "stdout",
     "output_type": "stream",
     "text": [
      "998244353 99824435\n",
      "549034394\n"
     ]
    }
   ],
   "source": [
    "# 問題A\n",
    "A,B = map(int,input().split())\n",
    "\n",
    "print(int(abs(A-(A-B)/2)) if A%2==B%2 else 'IMPOSSIBLE')"
   ]
  },
  {
   "cell_type": "code",
   "execution_count": 27,
   "metadata": {},
   "outputs": [
    {
     "name": "stdout",
     "output_type": "stream",
     "text": [
      "5\n",
      "2 3 4 5 1\n",
      "No\n"
     ]
    }
   ],
   "source": [
    "# 問題B\n",
    "N = int(input())\n",
    "\n",
    "P = list(map(int,input().split()))\n",
    "\n",
    "count = 0\n",
    "for i in range(1,N):\n",
    "    if P[i-1] == i:\n",
    "        count += 0\n",
    "    else:\n",
    "        count += 1\n",
    "print('YES' if count <=2 else 'NO')"
   ]
  },
  {
   "cell_type": "code",
   "execution_count": 32,
   "metadata": {},
   "outputs": [
    {
     "name": "stdout",
     "output_type": "stream",
     "text": [
      "2\n",
      "100 1 1\n",
      "1 100\n",
      "3\n"
     ]
    }
   ],
   "source": [
    "# 問題C\n",
    "N= int(input())\n",
    "\n",
    "A = list(map(int,input().split()))\n",
    "B = list(map(int,input().split()))\n",
    "\n",
    "ans = 0\n",
    "for i in range(N):\n",
    "    if A[i] - B[i] >= 0:\n",
    "        ans += B[i]\n",
    "        \n",
    "    else:\n",
    "        ans += A[i]\n",
    "        if A[i+1] +(A[i]-B[i]) >= 0:\n",
    "            ans += abs(A[i]-B[i])\n",
    "            A[i+1] = A[i+1] +(A[i]-B[i])\n",
    "        else:\n",
    "            ans += A[i+1]\n",
    "            A[i+1] = 0\n",
    "        \n",
    "print(ans)"
   ]
  },
  {
   "cell_type": "code",
   "execution_count": 33,
   "metadata": {},
   "outputs": [
    {
     "name": "stdout",
     "output_type": "stream",
     "text": [
      "??2??5\n",
      "['??2??5']\n"
     ]
    }
   ],
   "source": [
    "# 問題D\n",
    "MOD_BY = 7+10**9\n",
    " \n",
    "S = list(input())\n",
    " \n",
    "#整数を13で割って5あまる\n",
    "#→各桁を13で割って余った数を足して、さらに13で割った数が5余るようにすればよい\n",
    "#?の桁は余りが0～12の中から選択できる。\n",
    "#(ただし、?の桁が10以上の時のみ。1の桁の時は0～9)\n",
    " \n",
    "i = 0\n",
    "surplus = 0\n",
    "q_list = list()\n",
    " \n",
    "while 1:\n",
    "    if len(S)!=0:\n",
    "        last_digit = S.pop(-1)\n",
    "        if last_digit!=\"?\":\n",
    "            last_digit = int(last_digit)\n",
    "            surplus += last_digit*pow(10,i,13)\n",
    "            surplus %= 13\n",
    "        else:\n",
    "            q_list.append(i)\n",
    "        \n",
    "        i += 1\n",
    "    else:\n",
    "        break\n",
    " \n",
    "#print(q_list)\n",
    "#print(surplus)\n",
    " \n",
    "#?の箇所を調整して整数になるパターン数を求める\n",
    "#(余りの合計値%13 + surplus)%13 = 5になればOK\n",
    " \n",
    "#余りが～になるパターン数を算出\n",
    " \n",
    "ans_dict = {i:{j:0 for j in range(13)} for i in range(-1,len(q_list))}\n",
    "#ans_dict[a][b]=c : q_lisのうち、index番号aまで選択した時、あまりがbになるのはc通り\n",
    "ans_dict[-1] = {i:0 for i in range(13)}\n",
    "ans_dict[-1][surplus] = 1 #選択してないときは値が決まっている分の余りになるしかない\n",
    " \n",
    "for i in range(len(q_list)):\n",
    "    for j in range(0,10):\n",
    "        a = (j*pow(10,q_list[i],13))%13 #q_listのindex番号iの桁をjにした時の余り\n",
    "        for k in range(13):\n",
    "            ans_dict[i][(k+a)%13] += ans_dict[i-1][k]%MOD_BY #(k+a)%13の余りになるためには、その前の桁のところでkになっている必要がある\n",
    "            ans_dict[i][(k+a)%13] %= MOD_BY\n",
    " \n",
    "print(ans_dict[len(q_list)-1][5]%MOD_BY)"
   ]
  },
  {
   "cell_type": "code",
   "execution_count": null,
   "metadata": {},
   "outputs": [],
   "source": []
  }
 ],
 "metadata": {
  "kernelspec": {
   "display_name": "Python 3",
   "language": "python",
   "name": "python3"
  },
  "language_info": {
   "codemirror_mode": {
    "name": "ipython",
    "version": 3
   },
   "file_extension": ".py",
   "mimetype": "text/x-python",
   "name": "python",
   "nbconvert_exporter": "python",
   "pygments_lexer": "ipython3",
   "version": "3.8.2"
  },
  "toc": {
   "base_numbering": 1,
   "nav_menu": {},
   "number_sections": true,
   "sideBar": true,
   "skip_h1_title": false,
   "title_cell": "Table of Contents",
   "title_sidebar": "Contents",
   "toc_cell": false,
   "toc_position": {},
   "toc_section_display": true,
   "toc_window_display": false
  }
 },
 "nbformat": 4,
 "nbformat_minor": 4
}
