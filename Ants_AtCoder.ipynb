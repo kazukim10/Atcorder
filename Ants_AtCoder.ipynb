{
 "cells": [
  {
   "source": [
    "# 1-6\n",
    "# https://www.ioi-jp.org/joi/2007/2008-ho-prob_and_sol/2008-ho.pdf#page=6\n",
    "\n"
   ],
   "cell_type": "code",
   "metadata": {},
   "execution_count": null,
   "outputs": []
  },
  {
   "cell_type": "code",
   "execution_count": 3,
   "metadata": {},
   "outputs": [
    {
     "output_type": "stream",
     "name": "stdout",
     "text": [
      "4.0\n"
     ]
    }
   ],
   "source": [
    "# ARC004_A\n",
    "# https://atcoder.jp/contests/arc004/tasks/arc004_1\n",
    "\n",
    "N = int(input())\n",
    "\n",
    "x,y = map(int,input().split())\n",
    "\n",
    "dot = [[x,y]]\n",
    "max_d = 0\n",
    "\n",
    "for _ in range(N-1):\n",
    "    x,y = map(int,input().split())\n",
    "\n",
    "    for d in dot: # これまでの点に対して全探索する\n",
    "        tmp = ((x-d[0])**2+(y-d[1])**2)**0.5\n",
    "\n",
    "        if max_d < tmp:\n",
    "            max_d = tmp\n",
    "    dot.append([x,y]) # x,yをリストに加える\n",
    "print(max_d)"
   ]
  },
  {
   "cell_type": "code",
   "execution_count": 3,
   "metadata": {},
   "outputs": [
    {
     "output_type": "stream",
     "name": "stdout",
     "text": [
      "1\n"
     ]
    }
   ],
   "source": [
    "# ABC051_B\n",
    "# https://atcoder.jp/contests/abc051/tasks/abc051_b\n",
    "\n",
    "K,S = map(int,input().split())\n",
    "\n",
    "count = 0\n",
    "for x in range(K+1):\n",
    "    for y in range(K+1):\n",
    "        z = S -x -y\n",
    "\n",
    "        if 0 <= z <= K:\n",
    "            count += 1\n",
    "print(count)"
   ]
  },
  {
   "cell_type": "code",
   "execution_count": 19,
   "metadata": {},
   "outputs": [
    {
     "output_type": "stream",
     "name": "stdout",
     "text": [
      "12656242944\n"
     ]
    }
   ],
   "source": [
    "# ABC045_C\n",
    "# https://atcoder.jp/contests/arc061/tasks/arc061_a\n",
    "\n",
    "S = input()\n",
    "num = len(S)\n",
    "\n",
    "#print(S,num)\n",
    "#conb = []\n",
    "ans = 0\n",
    "for i in range(2**(num-1)):\n",
    "    tmp = []\n",
    "    for j in range(num-1):\n",
    "        if ((i >> j)&1):\n",
    "            t =  True\n",
    "            tmp.append(t)\n",
    "\n",
    "        else:\n",
    "            t = False\n",
    "            tmp.append(t)\n",
    "    #print(tmp)\n",
    "    #conb.append(tmp)\n",
    "\n",
    "    ans_sub = []\n",
    "    ss = S[0]\n",
    "    for i,pm in enumerate(tmp,1):\n",
    "        if pm == True:\n",
    "            ans_sub.append(ss)\n",
    "            ss = S[i]\n",
    "\n",
    "        else:\n",
    "            ss += S[i]\n",
    "    ans_sub.append(ss)\n",
    "    #print(ans_sub)\n",
    "    ans_sub = map(int,ans_sub)\n",
    "\n",
    "    ans += sum(ans_sub)\n",
    "print(ans)"
   ]
  },
  {
   "cell_type": "code",
   "execution_count": 23,
   "metadata": {},
   "outputs": [
    {
     "output_type": "stream",
     "name": "stdout",
     "text": [
      "[(5, 200), (3, 100)] {3: 500, 5: 800}\n"
     ]
    }
   ],
   "source": [
    "# ABC104_C\n",
    "# https://atcoder.jp/contests/abc104/tasks/abc104_c\n",
    "# 未完\n",
    "\n",
    "D,G = map(int,input().split())\n",
    "\n",
    "p,c = {},{}\n",
    "\n",
    "for i,j in enumerate(range(D),1):\n",
    "    d, plus = map(int,input().split())\n",
    "    p[d] = i*100\n",
    "    c[d] = plus\n",
    "\n",
    "p = sorted(p.items(),reverse=True)\n",
    "#print(p,c)"
   ]
  },
  {
   "cell_type": "code",
   "execution_count": 24,
   "metadata": {},
   "outputs": [
    {
     "output_type": "stream",
     "name": "stdout",
     "text": [
      "3 600\n1 100\n3 300\n3\n"
     ]
    }
   ],
   "source": [
    "d,g=map(int,input().split())\n",
    "\n",
    "p=[]\n",
    "c=[]\n",
    "\n",
    "for i in range(d):\n",
    "    a,b=map(int,input().split())\n",
    "    p.append(a)\n",
    "    c.append(b)\n",
    "    \n",
    "sum=[]\n",
    "for i in range(d):\n",
    "    sum.append((i+1)*100*p[i]+c[i])\n",
    "\n",
    "\n",
    "def ans(g,t):\n",
    "    if t<=0:\n",
    "        return 100000000000\n",
    "        \n",
    "    n=min(int(g/(100*t)),p[t-1])\n",
    "    s=100*t*n\n",
    "    #print(n,s)\n",
    "\n",
    "    if n==p[t-1]:\n",
    "        s=sum[t-1]\n",
    "\n",
    "    if g>s:\n",
    "        n+=ans(g-s,t-1)\n",
    "    \n",
    "    return min(n,ans(g,t-1))\n",
    "\n",
    "print(ans(g,d))"
   ]
  },
  {
   "cell_type": "code",
   "execution_count": 37,
   "metadata": {},
   "outputs": [
    {
     "output_type": "stream",
     "name": "stdout",
     "text": [
      "14\n"
     ]
    }
   ],
   "source": [
    "# ARC029_A\n",
    "# https://atcoder.jp/contests/arc029/tasks/arc029_1\n",
    "\n",
    "N = int(input())\n",
    "\n",
    "time = []\n",
    "for _ in range(N):\n",
    "    t = int(input())\n",
    "    time.append(t)\n",
    "\n",
    "burn = 10**9\n",
    "for i in range(2**N):\n",
    "    bbq = []\n",
    "    for j in range(N):\n",
    "        if (i >> j)&1 == 1:\n",
    "            bbq.append(True)\n",
    "\n",
    "        else:\n",
    "            bbq.append(False)\n",
    "    #print(bbq)\n",
    "    x = 0\n",
    "    y = 0\n",
    "    for t,b in zip(time,bbq):\n",
    "        #print(t,b)\n",
    "        if b == True:\n",
    "            x += t\n",
    "        else:\n",
    "            y += t\n",
    "    #print(x,y)      \n",
    "    if burn > max(x,y):\n",
    "        burn = max(x,y)\n",
    "\n",
    "print(burn)"
   ]
  },
  {
   "cell_type": "code",
   "execution_count": 13,
   "metadata": {},
   "outputs": [
    {
     "output_type": "stream",
     "name": "stdout",
     "text": [
      "{1: [2], 2: [1, 3], 3: [2, 4], 4: [3]}\n2\n"
     ]
    }
   ],
   "source": [
    "# ABC002_D\n",
    "# https://atcoder.jp/contests/abc002/tasks/abc002_4\n",
    "\n",
    "N,M = map(int,input().split())\n",
    "\n",
    "relation = {}\n",
    "for _ in range(M):\n",
    "    x,y = map(int,input().split())\n",
    "    if x not in relation:\n",
    "        relation[x] = [y]\n",
    "    else:\n",
    "        relation[x] += [y]\n",
    "\n",
    "    if y not in relation:\n",
    "        relation[y] = [x]\n",
    "    else:\n",
    "        relation[y] += [x]\n",
    "    \n",
    "#print(relation)\n",
    "\n",
    "def check(group):\n",
    "    for g in group:\n",
    "\n",
    "        if g not in relation:\n",
    "            return False\n",
    "\n",
    "        r = relation[g]\n",
    "        for c in group:\n",
    "            if g == c :\n",
    "                continue\n",
    "            elif c not in r:\n",
    "                return False\n",
    "    return True\n",
    "\n",
    "ans = 0\n",
    "for i in range(2**N):\n",
    "    flag = True\n",
    "    group = []\n",
    "    for j in range(N):\n",
    "        if (i >> j)&1:\n",
    "            group.append(j+1)\n",
    "\n",
    "    #print(flag,group)\n",
    "    if check(group) == True and ans < len(group):\n",
    "        ans = len(group)\n",
    "\n",
    "print(ans if ans > 0 else 1)"
   ]
  },
  {
   "cell_type": "code",
   "execution_count": null,
   "metadata": {},
   "outputs": [],
   "source": []
  }
 ],
 "metadata": {
  "kernelspec": {
   "display_name": "Python 3",
   "language": "python",
   "name": "python3"
  },
  "language_info": {
   "codemirror_mode": {
    "name": "ipython",
    "version": 3
   },
   "file_extension": ".py",
   "mimetype": "text/x-python",
   "name": "python",
   "nbconvert_exporter": "python",
   "pygments_lexer": "ipython3",
   "version": "3.8.2"
  },
  "toc": {
   "base_numbering": 1,
   "nav_menu": {},
   "number_sections": true,
   "sideBar": true,
   "skip_h1_title": false,
   "title_cell": "Table of Contents",
   "title_sidebar": "Contents",
   "toc_cell": false,
   "toc_position": {},
   "toc_section_display": true,
   "toc_window_display": false
  }
 },
 "nbformat": 4,
 "nbformat_minor": 4
}