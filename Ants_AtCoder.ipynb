{
 "cells": [
  {
   "source": [
    "# 1-6\n",
    "# https://www.ioi-jp.org/joi/2007/2008-ho-prob_and_sol/2008-ho.pdf#page=6\n",
    "\n"
   ],
   "cell_type": "code",
   "metadata": {},
   "execution_count": null,
   "outputs": []
  },
  {
   "cell_type": "code",
   "execution_count": 3,
   "metadata": {},
   "outputs": [
    {
     "output_type": "stream",
     "name": "stdout",
     "text": [
      "4.0\n"
     ]
    }
   ],
   "source": [
    "# ARC004_A\n",
    "# https://atcoder.jp/contests/arc004/tasks/arc004_1\n",
    "\n",
    "N = int(input())\n",
    "\n",
    "x,y = map(int,input().split())\n",
    "\n",
    "dot = [[x,y]]\n",
    "max_d = 0\n",
    "\n",
    "for _ in range(N-1):\n",
    "    x,y = map(int,input().split())\n",
    "\n",
    "    for d in dot: # これまでの点に対して全探索する\n",
    "        tmp = ((x-d[0])**2+(y-d[1])**2)**0.5\n",
    "\n",
    "        if max_d < tmp:\n",
    "            max_d = tmp\n",
    "    dot.append([x,y]) # x,yをリストに加える\n",
    "print(max_d)"
   ]
  },
  {
   "cell_type": "code",
   "execution_count": 3,
   "metadata": {},
   "outputs": [
    {
     "output_type": "stream",
     "name": "stdout",
     "text": [
      "1\n"
     ]
    }
   ],
   "source": [
    "# ABC051_B\n",
    "# https://atcoder.jp/contests/abc051/tasks/abc051_b\n",
    "\n",
    "K,S = map(int,input().split())\n",
    "\n",
    "count = 0\n",
    "for x in range(K+1):\n",
    "    for y in range(K+1):\n",
    "        z = S -x -y\n",
    "\n",
    "        if 0 <= z <= K:\n",
    "            count += 1\n",
    "print(count)"
   ]
  },
  {
   "cell_type": "code",
   "execution_count": 19,
   "metadata": {},
   "outputs": [
    {
     "output_type": "stream",
     "name": "stdout",
     "text": [
      "12656242944\n"
     ]
    }
   ],
   "source": [
    "# ABC045_C\n",
    "# https://atcoder.jp/contests/arc061/tasks/arc061_a\n",
    "\n",
    "S = input()\n",
    "num = len(S)\n",
    "\n",
    "#print(S,num)\n",
    "#conb = []\n",
    "ans = 0\n",
    "for i in range(2**(num-1)):\n",
    "    tmp = []\n",
    "    for j in range(num-1):\n",
    "        if ((i >> j)&1):\n",
    "            t =  True\n",
    "            tmp.append(t)\n",
    "\n",
    "        else:\n",
    "            t = False\n",
    "            tmp.append(t)\n",
    "    #print(tmp)\n",
    "    #conb.append(tmp)\n",
    "\n",
    "    ans_sub = []\n",
    "    ss = S[0]\n",
    "    for i,pm in enumerate(tmp,1):\n",
    "        if pm == True:\n",
    "            ans_sub.append(ss)\n",
    "            ss = S[i]\n",
    "\n",
    "        else:\n",
    "            ss += S[i]\n",
    "    ans_sub.append(ss)\n",
    "    #print(ans_sub)\n",
    "    ans_sub = map(int,ans_sub)\n",
    "\n",
    "    ans += sum(ans_sub)\n",
    "print(ans)"
   ]
  },
  {
   "cell_type": "code",
   "execution_count": 23,
   "metadata": {},
   "outputs": [
    {
     "output_type": "stream",
     "name": "stdout",
     "text": [
      "[(5, 200), (3, 100)] {3: 500, 5: 800}\n"
     ]
    }
   ],
   "source": [
    "# ABC104_C\n",
    "# https://atcoder.jp/contests/abc104/tasks/abc104_c\n",
    "\n",
    "D,G = map(int,input().split())\n",
    "\n",
    "p,c = {},{}\n",
    "\n",
    "for i,j in enumerate(range(D),1):\n",
    "    d, plus = map(int,input().split())\n",
    "    p[d] = i*100\n",
    "    c[d] = plus\n",
    "\n",
    "p = sorted(p.items(),reverse=True)\n",
    "#print(p,c)"
   ]
  },
  {
   "cell_type": "code",
   "execution_count": null,
   "metadata": {},
   "outputs": [],
   "source": []
  }
 ],
 "metadata": {
  "kernelspec": {
   "display_name": "Python 3",
   "language": "python",
   "name": "python3"
  },
  "language_info": {
   "codemirror_mode": {
    "name": "ipython",
    "version": 3
   },
   "file_extension": ".py",
   "mimetype": "text/x-python",
   "name": "python",
   "nbconvert_exporter": "python",
   "pygments_lexer": "ipython3",
   "version": "3.8.2-final"
  },
  "toc": {
   "base_numbering": 1,
   "nav_menu": {},
   "number_sections": true,
   "sideBar": true,
   "skip_h1_title": false,
   "title_cell": "Table of Contents",
   "title_sidebar": "Contents",
   "toc_cell": false,
   "toc_position": {},
   "toc_section_display": true,
   "toc_window_display": false
  }
 },
 "nbformat": 4,
 "nbformat_minor": 4
}