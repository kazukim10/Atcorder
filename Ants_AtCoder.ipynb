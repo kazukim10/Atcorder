{
 "cells": [
  {
   "source": [
    "# 1-6\n",
    "# https://www.ioi-jp.org/joi/2007/2008-ho-prob_and_sol/2008-ho.pdf#page=6\n",
    "\n"
   ],
   "cell_type": "code",
   "metadata": {},
   "execution_count": null,
   "outputs": []
  },
  {
   "cell_type": "code",
   "execution_count": 3,
   "metadata": {},
   "outputs": [
    {
     "output_type": "stream",
     "name": "stdout",
     "text": [
      "4.0\n"
     ]
    }
   ],
   "source": [
    "# ARC004_A\n",
    "# https://atcoder.jp/contests/arc004/tasks/arc004_1\n",
    "\n",
    "N = int(input())\n",
    "\n",
    "x,y = map(int,input().split())\n",
    "\n",
    "dot = [[x,y]]\n",
    "max_d = 0\n",
    "\n",
    "for _ in range(N-1):\n",
    "    x,y = map(int,input().split())\n",
    "\n",
    "    for d in dot: # これまでの点に対して全探索する\n",
    "        tmp = ((x-d[0])**2+(y-d[1])**2)**0.5\n",
    "\n",
    "        if max_d < tmp:\n",
    "            max_d = tmp\n",
    "    dot.append([x,y]) # x,yをリストに加える\n",
    "print(max_d)"
   ]
  },
  {
   "cell_type": "code",
   "execution_count": null,
   "metadata": {},
   "outputs": [],
   "source": [
    "# ABC051_B\n",
    "# https://atcoder.jp/contests/abc051/tasks/abc051_b\n",
    "\n"
   ]
  }
 ],
 "metadata": {
  "kernelspec": {
   "display_name": "Python 3",
   "language": "python",
   "name": "python3"
  },
  "language_info": {
   "codemirror_mode": {
    "name": "ipython",
    "version": 3
   },
   "file_extension": ".py",
   "mimetype": "text/x-python",
   "name": "python",
   "nbconvert_exporter": "python",
   "pygments_lexer": "ipython3",
   "version": "3.8.2-final"
  },
  "toc": {
   "base_numbering": 1,
   "nav_menu": {},
   "number_sections": true,
   "sideBar": true,
   "skip_h1_title": false,
   "title_cell": "Table of Contents",
   "title_sidebar": "Contents",
   "toc_cell": false,
   "toc_position": {},
   "toc_section_display": true,
   "toc_window_display": false
  }
 },
 "nbformat": 4,
 "nbformat_minor": 4
}