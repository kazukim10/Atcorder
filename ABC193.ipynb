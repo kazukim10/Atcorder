{
 "cells": [
  {
   "cell_type": "markdown",
   "metadata": {},
   "source": [
    "https://atcoder.jp/contests/abc193"
   ]
  },
  {
   "cell_type": "code",
   "execution_count": 4,
   "metadata": {},
   "outputs": [
    {
     "name": "stdout",
     "output_type": "stream",
     "text": [
      "7 6\n",
      "14.285714285714285\n"
     ]
    }
   ],
   "source": [
    "A,B=map(int,input().split())\n",
    "\n",
    "print((A-B)/A*100)"
   ]
  },
  {
   "cell_type": "code",
   "execution_count": 7,
   "metadata": {},
   "outputs": [
    {
     "name": "stdout",
     "output_type": "stream",
     "text": [
      "3\n",
      "5 9 5\n",
      "6 8 5\n",
      "7 7 5\n",
      "-1\n"
     ]
    }
   ],
   "source": [
    "N = int(input())\n",
    "\n",
    "min_s = 10**10\n",
    "flag = 1\n",
    "for i in range(N):\n",
    "    A,P,X = map(int,input().split())\n",
    "    \n",
    "    if (X > A)and(min_s>P):\n",
    "        min_s = P\n",
    "        flag =0\n",
    "\n",
    "if flag == 1:\n",
    "    print(-1)\n",
    "else:\n",
    "    print(min_s)"
   ]
  },
  {
   "cell_type": "code",
   "execution_count": 17,
   "metadata": {},
   "outputs": [
    {
     "name": "stdout",
     "output_type": "stream",
     "text": [
      "8\n",
      "0.0 1\n",
      "2.0 2\n",
      "5\n"
     ]
    }
   ],
   "source": [
    "import numpy as np\n",
    "\n",
    "N = int(input())\n",
    "\n",
    "count = 0\n",
    "for i in range(1,N+1):\n",
    "    if np.log2(i)%2 == 0:\n",
    "        count += 1 \n",
    "        print(np.log2(i),count)\n",
    "\n",
    "print(N-count-1)"
   ]
  },
  {
   "cell_type": "markdown",
   "metadata": {},
   "source": [
    "# "
   ]
  },
  {
   "cell_type": "code",
   "execution_count": 12,
   "metadata": {
    "scrolled": false
   },
   "outputs": [
    {
     "name": "stdout",
     "output_type": "stream",
     "text": [
      "8\n"
     ]
    }
   ],
   "source": [
    "import numpy as np\n",
    "\n",
    "N = int(input())\n",
    "\n",
    "exp = {}\n",
    "for a in range(2,int(np.sqrt(N))):\n",
    "    for b in range(2,int(N/2)):\n",
    "        print(a**b)\n",
    "        \n",
    "        if a**b <= N:\n",
    "            exp[a**b] = 1\n",
    "#print(N-len(exp))"
   ]
  },
  {
   "cell_type": "code",
   "execution_count": 17,
   "metadata": {
    "scrolled": true
   },
   "outputs": [
    {
     "name": "stdout",
     "output_type": "stream",
     "text": [
      "8\n",
      "4\n",
      "8\n",
      "4\n",
      "8\n"
     ]
    }
   ],
   "source": [
    "import numpy as np\n",
    "\n",
    "N = int(input())\n",
    "\n",
    "exp = {}\n",
    "for a in range(2,int(np.sqrt(N)+1)):\n",
    "    for b in range(a,int(N/2)):\n",
    "        print(a**b)\n",
    "        \n",
    "        if a**b <= N:\n",
    "            exp[a**b] = 1\n",
    "#print(N-len(exp))"
   ]
  },
  {
   "cell_type": "code",
   "execution_count": 34,
   "metadata": {},
   "outputs": [
    {
     "name": "stdout",
     "output_type": "stream",
     "text": [
      "100000\n",
      "99939\n",
      "99939\n"
     ]
    }
   ],
   "source": [
    "import numpy as np\n",
    "\n",
    "N = int(input())\n",
    "\n",
    "count=0\n",
    "for a in range(2,int(round(np.log2(N)))+1):\n",
    "    for b in range(2,int(round(np.log2(N)))+1):\n",
    "        #print(a**b)\n",
    "        \n",
    "        if a**b <= N:\n",
    "            count+=1\n",
    "print(N-len(exp))"
   ]
  },
  {
   "cell_type": "code",
   "execution_count": 36,
   "metadata": {},
   "outputs": [
    {
     "name": "stdout",
     "output_type": "stream",
     "text": [
      "2\n",
      "3\n",
      "4\n",
      "5\n",
      "6\n",
      "7\n",
      "8\n",
      "9\n",
      "10\n",
      "11\n",
      "12\n",
      "13\n",
      "14\n",
      "15\n",
      "16\n",
      "17\n",
      "2\n",
      "3\n",
      "4\n",
      "5\n",
      "6\n",
      "7\n",
      "8\n",
      "9\n",
      "10\n",
      "11\n",
      "12\n",
      "13\n",
      "14\n",
      "15\n",
      "16\n",
      "17\n"
     ]
    }
   ],
   "source": [
    "for a in range(2,int(round(np.log2(100000)))+1):\n",
    "    print(a)"
   ]
  },
  {
   "cell_type": "code",
   "execution_count": 39,
   "metadata": {},
   "outputs": [
    {
     "name": "stdout",
     "output_type": "stream",
     "text": [
      "100000\n",
      "99634\n",
      "99634\n"
     ]
    }
   ],
   "source": [
    "import numpy as np\n",
    "\n",
    "N = int(input())\n",
    "\n",
    "exp = {}\n",
    "for a in range(2,int(round(np.sqrt(N)))+1):\n",
    "    for b in range(2,int(round(np.log2(N)))+1):\n",
    "        #print(a**b)\n",
    "        \n",
    "        if a**b <= N:\n",
    "            exp[a**b] = 1\n",
    "print(N-len(exp))"
   ]
  },
  {
   "cell_type": "code",
   "execution_count": 61,
   "metadata": {
    "scrolled": true
   },
   "outputs": [
    {
     "name": "stdout",
     "output_type": "stream",
     "text": [
      "2\n",
      "2244#\n",
      "1133#\n",
      "{2: 2, 4: 2, 1: 2, 3: 2}\n",
      "0.0\n",
      "{2: 2, 4: 2, 1: 2, 3: 2}\n",
      "0.0\n"
     ]
    }
   ],
   "source": [
    "import numpy as np\n",
    "\n",
    "K = int(input())\n",
    "S = list(input())\n",
    "T = list(input())\n",
    "\n",
    "S = [int(s) for s in S if s != '#']\n",
    "T = [int(s) for s in T if s != '#']\n",
    "\n",
    "\n",
    "def score(tefuda,add):\n",
    "    tefuda = tefuda[:4] + [add]\n",
    "    \n",
    "    al=np.array([i for i in range(1,10) if i not in tefuda])\n",
    "\n",
    "    u,c = np.unique(tefuda,return_counts=True)\n",
    "    #print(u,c)\n",
    "    return np.sum(u*(10**c))+np.sum(al)\n",
    "\n",
    "#print(K,S,T)\n",
    "\n",
    "card = {}\n",
    "for s in S:\n",
    "    if s not in card:\n",
    "        card[s] = 1\n",
    "    else:\n",
    "        card[s] += 1\n",
    "    \n",
    "for t in T:\n",
    "    if t not in card:\n",
    "        card[t] = 1\n",
    "    else:\n",
    "        card[t] += 1\n",
    "        \n",
    "#print(card)\n",
    "\n",
    "count = 0\n",
    "for i in range(1,10):\n",
    "    for j in range(1,10):\n",
    "        if i not in card:\n",
    "            card[i] = 1\n",
    "        elif card[i]<K:\n",
    "            card[i] += 1\n",
    "        else:\n",
    "            break\n",
    "        \n",
    "        if j not in card:\n",
    "            card[j] = 1\n",
    "        elif card[j]<K:\n",
    "            card[j] += 1\n",
    "        else:\n",
    "            break\n",
    "        \n",
    "        if score(S,i)>score(T,j):\n",
    "            count+=1\n",
    "            \n",
    "print(count/81)"
   ]
  },
  {
   "cell_type": "code",
   "execution_count": null,
   "metadata": {},
   "outputs": [],
   "source": [
    "## tefuda = [2,2,4,4,1]\n",
    "al=np.array([i for i in range(1,10) if i not in tefuda])\n",
    "\n",
    "u,c = np.unique(tefuda,return_counts=True)\n",
    "\n",
    "print(al)\n",
    "print(np.sum(al))\n",
    "\n",
    "print(np.sum(u*(10**c))+np.sum(al))"
   ]
  },
  {
   "cell_type": "code",
   "execution_count": null,
   "metadata": {},
   "outputs": [],
   "source": []
  }
 ],
 "metadata": {
  "kernelspec": {
   "display_name": "Environment (conda_pytorch_latest_p37)",
   "language": "python",
   "name": "conda_pytorch_latest_p37"
  },
  "language_info": {
   "codemirror_mode": {
    "name": "ipython",
    "version": 3
   },
   "file_extension": ".py",
   "mimetype": "text/x-python",
   "name": "python",
   "nbconvert_exporter": "python",
   "pygments_lexer": "ipython3",
   "version": "3.7.6"
  }
 },
 "nbformat": 4,
 "nbformat_minor": 4
}
