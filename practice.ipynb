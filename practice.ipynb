{
 "cells": [
  {
   "cell_type": "code",
   "execution_count": 3,
   "metadata": {},
   "outputs": [
    {
     "output_type": "stream",
     "name": "stdout",
     "text": [
      "1\n"
     ]
    }
   ],
   "source": [
    "# ABC106 B\n",
    "N = int(input())\n",
    "\n",
    "ans = 0\n",
    "for i in range(1,N+1,2):\n",
    "    count = 0\n",
    "    for j in range(1,i+1):\n",
    "        if i%j==0:\n",
    "            count += 1\n",
    "    if count == 8:\n",
    "        ans += 1\n",
    "print(ans)"
   ]
  },
  {
   "cell_type": "code",
   "execution_count": 15,
   "metadata": {},
   "outputs": [
    {
     "output_type": "stream",
     "name": "stdout",
     "text": [
      "['H', 'A', 'T', 'A', 'G', 'A', 'Y', 'A'] 0\n['A', 'T', 'A', 'G', 'A', 'Y', 'A'] 5\n['T', 'A', 'G', 'A', 'Y', 'A'] 4\n['A', 'G', 'A', 'Y', 'A'] 3\n['G', 'A', 'Y', 'A'] 2\n['A', 'Y', 'A'] 1\n['Y', 'A'] 0\n['A'] 1\n5\n"
     ]
    }
   ],
   "source": [
    "# ABC122 B\n",
    "ACGT = ['A','G','T','C']\n",
    "S = list(i for i in input())\n",
    "#print(S)\n",
    "\n",
    "ans = 0\n",
    "for s in range(len(S)):\n",
    "    tmp = 0\n",
    "    for n in S[s:]:\n",
    "        if n in ACGT:\n",
    "            tmp += 1\n",
    "        else:\n",
    "            ans = max(ans,tmp)\n",
    "            break\n",
    "    #print(S[s:],tmp)\n",
    "print(ans)"
   ]
  },
  {
   "cell_type": "code",
   "execution_count": 2,
   "metadata": {},
   "outputs": [
    {
     "output_type": "stream",
     "name": "stdout",
     "text": [
      "Fizz 0\nBuzz 1\nFizz 2\nBuzz 3\nFizz 4\nBuzz 5\nFizz 6\nBuzz 7\nFizz 8\nBuzz 9\n"
     ]
    }
   ],
   "source": [
    "for i in range(10):\n",
    "    if i%2 == 0:\n",
    "        print('Fizz',i)\n",
    "    else:\n",
    "        print('Buzz',i)"
   ]
  },
  {
   "cell_type": "code",
   "execution_count": null,
   "metadata": {},
   "outputs": [],
   "source": []
  }
 ],
 "metadata": {
  "kernelspec": {
   "display_name": "Python 3",
   "language": "python",
   "name": "python3"
  },
  "language_info": {
   "codemirror_mode": {
    "name": "ipython",
    "version": 3
   },
   "file_extension": ".py",
   "mimetype": "text/x-python",
   "name": "python",
   "nbconvert_exporter": "python",
   "pygments_lexer": "ipython3",
   "version": "3.8.2-final"
  },
  "toc": {
   "base_numbering": 1,
   "nav_menu": {},
   "number_sections": true,
   "sideBar": true,
   "skip_h1_title": false,
   "title_cell": "Table of Contents",
   "title_sidebar": "Contents",
   "toc_cell": false,
   "toc_position": {},
   "toc_section_display": true,
   "toc_window_display": false
  }
 },
 "nbformat": 4,
 "nbformat_minor": 4
}