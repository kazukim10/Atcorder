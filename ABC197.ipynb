{
 "cells": [
  {
   "source": [
    "https://atcoder.jp/contests/abc197"
   ],
   "cell_type": "markdown",
   "metadata": {}
  },
  {
   "cell_type": "code",
   "execution_count": 1,
   "metadata": {},
   "outputs": [
    {
     "output_type": "stream",
     "name": "stdout",
     "text": [
      "bxa\n"
     ]
    }
   ],
   "source": [
    "# 問題A\n",
    "S = input()\n",
    "print(S[1:]+S[0])"
   ]
  },
  {
   "cell_type": "code",
   "execution_count": 52,
   "metadata": {},
   "outputs": [
    {
     "output_type": "stream",
     "name": "stdout",
     "text": [
      "3 0 #\n3 2 .\n3 3 #\n2 1 #\n4 1 .\n3\n"
     ]
    }
   ],
   "source": [
    "# 問題B\n",
    "H,W,X,Y = map(int,input().split())\n",
    "\n",
    "m = {}\n",
    "for i in range(H):\n",
    "    m[i] = input()\n",
    "\n",
    "#print(m)\n",
    "\n",
    "count = 1\n",
    "for i in range(1,Y):\n",
    "    #print(X-1,Y-i-1,m[X-1][Y-i-1])\n",
    "    if m[X-1][Y-i-1] == '.':\n",
    "        count +=1\n",
    "    else:\n",
    "        break\n",
    "\n",
    "for i in range(1,W-Y+1):\n",
    "    #print(X-1,Y+i-1,m[X-1][Y+i-1])\n",
    "    if m[X-1][Y+i-1] == '.':\n",
    "        count +=1\n",
    "    else:\n",
    "        break\n",
    "\n",
    "for i in range(1,X):\n",
    "    #print(X-i-1,Y-1,m[X-i-1][Y-1])\n",
    "    if m[X-i-1][Y-1] == '.':\n",
    "        count +=1\n",
    "    else:\n",
    "        break\n",
    "\n",
    "for i in range(1,H-X+1):\n",
    "    #print(X+i-1,Y-1,m[X+i-1][Y-1])\n",
    "    if m[X+i-1][Y-1] == '.':\n",
    "        count += 1\n",
    "    else:\n",
    "        break\n",
    "\n",
    "print(count)"
   ]
  },
  {
   "cell_type": "code",
   "execution_count": 63,
   "metadata": {},
   "outputs": [
    {
     "output_type": "stream",
     "name": "stdout",
     "text": [
      "100 1100100\n"
     ]
    }
   ],
   "source": [
    "# 問題C\n",
    "# 2**30\n",
    "n = 100\n",
    "print(n,format(n,'b'))"
   ]
  },
  {
   "cell_type": "code",
   "execution_count": 65,
   "metadata": {},
   "outputs": [
    {
     "output_type": "stream",
     "name": "stdout",
     "text": [
      "[1] [5, 7]\n['1']\n['101', '111']\n[1, 5] [7]\n['1', '101']\n1\n['111']\n"
     ]
    }
   ],
   "source": [
    "N = int(input())\n",
    "A = list(map(int,input().split()))\n",
    "\n",
    "def bi(x):\n",
    "    return format(x,'b')\n",
    "\n",
    "min = 10**8\n",
    "for i in range(1,N):\n",
    "    B = A[:i]\n",
    "    C = A[i:]\n",
    "    print(B,C)\n",
    "\n",
    "    Bi = list(map(bi,B))\n",
    "    print(Bi)\n",
    "\n",
    "    for j in range(len(Bi)-1):\n",
    "        bb = ''\n",
    "        if len(Bi[j]) < len(Bi[j+1]):\n",
    "            for k in range(len(Bi[j])):\n",
    "                bb += str(1) if str(Bi[j])[k] ==1 or str(Bi[j+1])[k] else str(0)\n",
    "                print(bb)\n",
    "                bbb = 1\n",
    "\n",
    "\n",
    "    Ci = list(map(bi,C))\n",
    "    print(Ci)\n",
    "\n",
    "    Bii = []"
   ]
  },
  {
   "cell_type": "code",
   "execution_count": null,
   "metadata": {},
   "outputs": [],
   "source": []
  }
 ],
 "metadata": {
  "kernelspec": {
   "display_name": "Python 3",
   "language": "python",
   "name": "python3"
  },
  "language_info": {
   "codemirror_mode": {
    "name": "ipython",
    "version": 3
   },
   "file_extension": ".py",
   "mimetype": "text/x-python",
   "name": "python",
   "nbconvert_exporter": "python",
   "pygments_lexer": "ipython3",
   "version": "3.8.2-final"
  },
  "toc": {
   "base_numbering": 1,
   "nav_menu": {},
   "number_sections": true,
   "sideBar": true,
   "skip_h1_title": false,
   "title_cell": "Table of Contents",
   "title_sidebar": "Contents",
   "toc_cell": false,
   "toc_position": {},
   "toc_section_display": true,
   "toc_window_display": false
  }
 },
 "nbformat": 4,
 "nbformat_minor": 4
}