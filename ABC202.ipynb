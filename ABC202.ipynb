{
 "cells": [
  {
   "source": [
    "https://atcoder.jp/contests/abc202"
   ],
   "cell_type": "markdown",
   "metadata": {}
  },
  {
   "cell_type": "code",
   "execution_count": 1,
   "metadata": {},
   "outputs": [
    {
     "output_type": "stream",
     "name": "stdout",
     "text": [
      "13\n"
     ]
    }
   ],
   "source": [
    "# A\n",
    "a,b,c = map(int,input().split())\n",
    "\n",
    "print(21-a-b-c)"
   ]
  },
  {
   "cell_type": "code",
   "execution_count": 4,
   "metadata": {},
   "outputs": [
    {
     "output_type": "stream",
     "name": "stdout",
     "text": [
      "01698\n"
     ]
    }
   ],
   "source": [
    "# B\n",
    "S = input()\n",
    "re = {'0':'0','1':'1','6':'9','8':'8','9':'6'}\n",
    "\n",
    "ans = ''\n",
    "\n",
    "for s in S:\n",
    "    if s in re:\n",
    "        ans = re[s] + ans\n",
    "    else:\n",
    "        ans = s + ans\n",
    "\n",
    "print(ans)"
   ]
  },
  {
   "cell_type": "code",
   "execution_count": 16,
   "metadata": {},
   "outputs": [
    {
     "output_type": "stream",
     "name": "stdout",
     "text": [
      "Counter({2: 2, 1: 1})\nCounter({1: 2, 2: 1})\n1 1\n2 2\n4\n"
     ]
    }
   ],
   "source": [
    "# C\n",
    "import collections\n",
    "\n",
    "N = int(input())\n",
    "A = list(map(int,input().split()))\n",
    "B = list(map(int,input().split()))\n",
    "C = list(map(int,input().split()))\n",
    "D = [B[i-1] for i in C]\n",
    "\n",
    "Ai = collections.Counter(A)\n",
    "Bc = collections.Counter(D)\n",
    "#print(Ai)\n",
    "#print(Bc)\n",
    "\n",
    "ans = 0\n",
    "for a,i in Ai.items():\n",
    "    #print(a,i)\n",
    "    ans += i*Bc[a]\n",
    "\n",
    "print(ans)"
   ]
  },
  {
   "cell_type": "code",
   "execution_count": 83,
   "metadata": {
    "tags": []
   },
   "outputs": [
    {
     "output_type": "stream",
     "name": "stdout",
     "text": [
      "2 0\naabb\nbbab\nabab\n"
     ]
    }
   ],
   "source": [
    "# D\n",
    "import math\n",
    "\n",
    "A,B,K = map(int,input().split())\n",
    "L = A+B\n",
    "\n",
    "S = int(math.log2(K))\n",
    "W = K - 2**S\n",
    "print(S,W)\n",
    "\n",
    "ans = []\n",
    "for i in range(2**S-1,2**S+W+2):\n",
    "    tmp = ''\n",
    "    for j in range(L):\n",
    "        if (i>>j)&1:\n",
    "            tmp += 'a'\n",
    "        else:\n",
    "            tmp += 'b'\n",
    "    print(tmp)\n",
    "    if tmp.count('a') == A:\n",
    "        ans.append(tmp)\n",
    "#ans.sort()\n",
    "#print(ans)\n",
    "#print(ans[K-1])"
   ]
  }
 ],
 "metadata": {
  "kernelspec": {
   "display_name": "Python 3",
   "language": "python",
   "name": "python3"
  },
  "language_info": {
   "codemirror_mode": {
    "name": "ipython",
    "version": 3
   },
   "file_extension": ".py",
   "mimetype": "text/x-python",
   "name": "python",
   "nbconvert_exporter": "python",
   "pygments_lexer": "ipython3",
   "version": "3.8.2"
  },
  "toc": {
   "base_numbering": 1,
   "nav_menu": {},
   "number_sections": true,
   "sideBar": true,
   "skip_h1_title": false,
   "title_cell": "Table of Contents",
   "title_sidebar": "Contents",
   "toc_cell": false,
   "toc_position": {},
   "toc_section_display": true,
   "toc_window_display": false
  }
 },
 "nbformat": 4,
 "nbformat_minor": 4
}