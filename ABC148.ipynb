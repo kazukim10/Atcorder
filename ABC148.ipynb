{
 "cells": [
  {
   "source": [
    "https://atcoder.jp/contests/abc148"
   ],
   "cell_type": "markdown",
   "metadata": {}
  },
  {
   "cell_type": "code",
   "execution_count": 11,
   "metadata": {},
   "outputs": [
    {
     "output_type": "stream",
     "name": "stdout",
     "text": [
      "3\n"
     ]
    }
   ],
   "source": [
    "# 問題A\n",
    "ans = ['1','2','3']\n",
    "pred = []\n",
    "for i in range(2):\n",
    "    pred += input()\n",
    "\n",
    "print([i for i in ans if i not in pred][0])"
   ]
  },
  {
   "cell_type": "code",
   "execution_count": 13,
   "metadata": {},
   "outputs": [
    {
     "output_type": "stream",
     "name": "stdout",
     "text": [
      "icpc\n"
     ]
    }
   ],
   "source": [
    "# 問題B\n",
    "N = input()\n",
    "S,T = input().split()\n",
    "\n",
    "ans = ''\n",
    "for i in range(len(S)):\n",
    "    ans += S[i]\n",
    "    ans += T[i]\n",
    "    \n",
    "print(ans)"
   ]
  },
  {
   "cell_type": "code",
   "execution_count": 20,
   "metadata": {},
   "outputs": [
    {
     "output_type": "stream",
     "name": "stdout",
     "text": [
      "6\n"
     ]
    }
   ],
   "source": [
    "# 問題C\n",
    "# 最小公倍数\n",
    "A,B = map(int,input().split())\n",
    "\n",
    "for i in range(1,10**5+1):\n",
    "    if i*A%B==0:\n",
    "        print(i*A)\n",
    "        break"
   ]
  },
  {
   "cell_type": "code",
   "execution_count": 26,
   "metadata": {},
   "outputs": [
    {
     "output_type": "stream",
     "name": "stdout",
     "text": [
      "0\n"
     ]
    }
   ],
   "source": [
    "# 問題D\n",
    "# \n",
    "N = int(input())\n",
    "A = list(map(int,input().split()))\n",
    "\n",
    "num = 1\n",
    "count = 0\n",
    "ans = []\n",
    "for a in A:\n",
    "    if a == num:\n",
    "        count = count\n",
    "        num += 1\n",
    "        #ans.append(a)\n",
    "    else:\n",
    "        count += 1\n",
    "print(count if count != N else -1)"
   ]
  },
  {
   "cell_type": "code",
   "execution_count": null,
   "metadata": {},
   "outputs": [],
   "source": []
  }
 ],
 "metadata": {
  "kernelspec": {
   "display_name": "Python 3",
   "language": "python",
   "name": "python3"
  },
  "language_info": {
   "codemirror_mode": {
    "name": "ipython",
    "version": 3
   },
   "file_extension": ".py",
   "mimetype": "text/x-python",
   "name": "python",
   "nbconvert_exporter": "python",
   "pygments_lexer": "ipython3",
   "version": "3.8.2-final"
  },
  "toc": {
   "base_numbering": 1,
   "nav_menu": {},
   "number_sections": true,
   "sideBar": true,
   "skip_h1_title": false,
   "title_cell": "Table of Contents",
   "title_sidebar": "Contents",
   "toc_cell": false,
   "toc_position": {},
   "toc_section_display": true,
   "toc_window_display": false
  }
 },
 "nbformat": 4,
 "nbformat_minor": 4
}