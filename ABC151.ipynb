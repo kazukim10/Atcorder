{
 "cells": [
  {
   "source": [
    "https://atcoder.jp/contests/abc151"
   ],
   "cell_type": "markdown",
   "metadata": {}
  },
  {
   "cell_type": "code",
   "execution_count": 1,
   "metadata": {},
   "outputs": [
    {
     "output_type": "stream",
     "name": "stdout",
     "text": [
      "b\n"
     ]
    }
   ],
   "source": [
    "# 問題A\n",
    "C = input()\n",
    "\n",
    "tran = {'a':'b','b':'c','c':'d','d':'e','e':'f','f':'g',\n",
    "        'g':'h','h':'i','i':'j','j':'k','k':'l','l':'m',\n",
    "        'm':'n','n':'o','o':'p','p':'q','q':'r','r':'s',\n",
    "        's':'t','t':'u','u':'w','w':'x','x':'y','y':'z',\n",
    "        'z':'a'}\n",
    "\n",
    "print(tran[C])"
   ]
  },
  {
   "cell_type": "code",
   "execution_count": 7,
   "metadata": {},
   "outputs": [
    {
     "output_type": "stream",
     "name": "stdout",
     "text": [
      "-1\n"
     ]
    }
   ],
   "source": [
    "# 問題B\n",
    "N,K,M = map(int,input().split())\n",
    "\n",
    "scores = map(int,input().split())\n",
    "total = 0\n",
    "for score in scores:\n",
    "    total += score\n",
    "\n",
    "if M*N-total <= K:\n",
    "    print(M*N-total if M*N-total >0 else 0)\n",
    "else:\n",
    "    print(-1)"
   ]
  },
  {
   "cell_type": "code",
   "execution_count": 21,
   "metadata": {},
   "outputs": [
    {
     "output_type": "stream",
     "name": "stdout",
     "text": [
      "1 0\n"
     ]
    }
   ],
   "source": [
    "# 問題C 問題文を理解する！！\n",
    "\n",
    "N,M = map(int,input().split())\n",
    "\n",
    "ac = {}\n",
    "wa = {}\n",
    "wa_tmp = {}\n",
    "\n",
    "for _ in range(M):\n",
    "    p,s = input().split()\n",
    "    p = int(p)\n",
    "\n",
    "    if s == 'AC' and p not in ac:\n",
    "        ac[p] = 1\n",
    "        if p in wa_tmp:\n",
    "            wa[p] = wa_tmp[p] # ACした問題だけペナルティ\n",
    "    \n",
    "    elif s == 'WA' and p not in ac:\n",
    "        if p not in wa_tmp:\n",
    "            wa_tmp[p] = 1\n",
    "        else:\n",
    "            wa_tmp[p] += 1\n",
    "\n",
    "print(sum(ac.values()), sum(wa.values()))"
   ]
  },
  {
   "cell_type": "code",
   "execution_count": null,
   "metadata": {},
   "outputs": [],
   "source": [
    "# 問題D 幅or深さ探索"
   ]
  }
 ],
 "metadata": {
  "kernelspec": {
   "display_name": "Python 3",
   "language": "python",
   "name": "python3"
  },
  "language_info": {
   "codemirror_mode": {
    "name": "ipython",
    "version": 3
   },
   "file_extension": ".py",
   "mimetype": "text/x-python",
   "name": "python",
   "nbconvert_exporter": "python",
   "pygments_lexer": "ipython3",
   "version": "3.8.2-final"
  },
  "toc": {
   "base_numbering": 1,
   "nav_menu": {},
   "number_sections": true,
   "sideBar": true,
   "skip_h1_title": false,
   "title_cell": "Table of Contents",
   "title_sidebar": "Contents",
   "toc_cell": false,
   "toc_position": {},
   "toc_section_display": true,
   "toc_window_display": false
  }
 },
 "nbformat": 4,
 "nbformat_minor": 4
}