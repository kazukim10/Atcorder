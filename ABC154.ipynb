{
 "cells": [
  {
   "source": [
    "https://atcoder.jp/contests/abc154"
   ],
   "cell_type": "markdown",
   "metadata": {}
  },
  {
   "cell_type": "code",
   "execution_count": 2,
   "metadata": {},
   "outputs": [
    {
     "output_type": "stream",
     "name": "stdout",
     "text": [
      "2 4\n"
     ]
    }
   ],
   "source": [
    "# 問題A\n",
    "S,T = input().split()\n",
    "A,B = map(int,input().split())\n",
    "U = input()\n",
    "\n",
    "ball = {S:A,T:B}\n",
    "ball[U] -= 1\n",
    "print(ball[S],ball[T])"
   ]
  },
  {
   "cell_type": "code",
   "execution_count": 3,
   "metadata": {},
   "outputs": [
    {
     "output_type": "stream",
     "name": "stdout",
     "text": [
      "xxx\n"
     ]
    }
   ],
   "source": [
    "# 問題B\n",
    "S = input()\n",
    "print('x'*len(S))"
   ]
  },
  {
   "cell_type": "code",
   "execution_count": 5,
   "metadata": {},
   "outputs": [
    {
     "output_type": "stream",
     "name": "stdout",
     "text": [
      "NO\n"
     ]
    }
   ],
   "source": [
    "# 問題C\n",
    "N = int(input())\n",
    "\n",
    "A = list(map(int,input().split()))\n",
    "\n",
    "count = {}\n",
    "ans = 'YES'\n",
    "for a in A:\n",
    "    if a not in count:\n",
    "        count[a] = 1\n",
    "\n",
    "    else:\n",
    "        ans = 'NO'\n",
    "        break\n",
    "print(ans)"
   ]
  },
  {
   "cell_type": "code",
   "execution_count": 27,
   "metadata": {},
   "outputs": [
    {
     "output_type": "stream",
     "name": "stdout",
     "text": [
      "7.0\n"
     ]
    }
   ],
   "source": [
    "# 問題D TLE...\n",
    "def kitai(P):\n",
    "    P = int(P)\n",
    "\n",
    "    return (1+P)/2\n",
    "\n",
    "N,K = map(int,input().split())\n",
    "P = list(map(kitai,input().split()))\n",
    "#print(P)\n",
    "\n",
    "ans = 0\n",
    "for i in range(N-K+1):\n",
    "    tmp = sum(P[i:i+K])\n",
    "    #print(P[i:i+K])\n",
    "    if ans < tmp:\n",
    "        ans = tmp\n",
    "print(ans)"
   ]
  }
 ],
 "metadata": {
  "kernelspec": {
   "display_name": "Python 3",
   "language": "python",
   "name": "python3"
  },
  "language_info": {
   "codemirror_mode": {
    "name": "ipython",
    "version": 3
   },
   "file_extension": ".py",
   "mimetype": "text/x-python",
   "name": "python",
   "nbconvert_exporter": "python",
   "pygments_lexer": "ipython3",
   "version": "3.8.2-final"
  },
  "toc": {
   "base_numbering": 1,
   "nav_menu": {},
   "number_sections": true,
   "sideBar": true,
   "skip_h1_title": false,
   "title_cell": "Table of Contents",
   "title_sidebar": "Contents",
   "toc_cell": false,
   "toc_position": {},
   "toc_section_display": true,
   "toc_window_display": false
  }
 },
 "nbformat": 4,
 "nbformat_minor": 4
}