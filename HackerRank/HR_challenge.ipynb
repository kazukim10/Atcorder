{
 "cells": [
  {
   "cell_type": "code",
   "execution_count": 11,
   "metadata": {},
   "outputs": [],
   "source": [
    "#!/bin/python3\n",
    "import math\n",
    "import os\n",
    "import random\n",
    "import re\n",
    "import sys"
   ]
  },
  {
   "cell_type": "code",
   "execution_count": 10,
   "metadata": {},
   "outputs": [
    {
     "output_type": "stream",
     "name": "stdout",
     "text": [
      "0 0\n1 1\n3 2\n4 3\n4\n"
     ]
    }
   ],
   "source": [
    "# Jumping on the Clouds\n",
    "\n",
    "# Complete the jumpingOnClouds function below.\n",
    "def jumpingOnClouds(c):\n",
    "    goal = len(c)\n",
    "    steps = 0\n",
    "    jump = 0\n",
    "\n",
    "    while goal-1 != steps:\n",
    "        print(steps,jump)\n",
    "    \n",
    "        if steps <= goal-3 and c[steps+2] == 0:\n",
    "            steps += 2\n",
    "            jump += 1\n",
    "\n",
    "        elif steps <= goal-2 and c[steps+1] == 0:\n",
    "            steps += 1\n",
    "            jump += 1\n",
    "\n",
    "    print(jump)\n",
    "    return jump\n",
    "\n",
    "if __name__ == '__main__':\n",
    "    #fptr = open('input.txt', 'w')\n",
    "\n",
    "    n = int(input())\n",
    "\n",
    "    c = list(map(int, input().rstrip().split()))\n",
    "\n",
    "    result = jumpingOnClouds(c)\n",
    "\n",
    "    #fptr.write(str(result) + '\\n')\n",
    "\n",
    "    #fptr.close()"
   ]
  },
  {
   "cell_type": "code",
   "execution_count": 31,
   "metadata": {},
   "outputs": [
    {
     "output_type": "stream",
     "name": "stdout",
     "text": [
      "epsxyyflvrrrxzvnoenvpegvuonodjoxfwdmcvwctmekpsnamchznsoxaklzjgrqruyzavshfbmuhdwwmpbkwcuomqhiyvuztwvq\n549382313640\n70\n3 100\n16481469410\n16481469410\n"
     ]
    }
   ],
   "source": [
    "# Repeated String\n",
    "\n",
    "# Complete the repeatedString function below.\n",
    "def repeatedString(s, n):\n",
    "    base = s.count('a')\n",
    "    num = len(s)\n",
    "\n",
    "    if n%num == 0:\n",
    "        ans = base * n//num\n",
    "    \n",
    "    else:\n",
    "        ans = base * (n//num) + s[:n%num].count('a')\n",
    "    \n",
    "    return ans\n",
    "\n",
    "if __name__ == '__main__':\n",
    "    \n",
    "    s = input()\n",
    "\n",
    "    n = int(input())\n",
    "\n",
    "    print(repeatedString(s, n))"
   ]
  },
  {
   "cell_type": "code",
   "execution_count": null,
   "metadata": {},
   "outputs": [],
   "source": []
  }
 ],
 "metadata": {
  "kernelspec": {
   "display_name": "Python 3",
   "language": "python",
   "name": "python3"
  },
  "language_info": {
   "codemirror_mode": {
    "name": "ipython",
    "version": 3
   },
   "file_extension": ".py",
   "mimetype": "text/x-python",
   "name": "python",
   "nbconvert_exporter": "python",
   "pygments_lexer": "ipython3",
   "version": "3.8.2-final"
  },
  "toc": {
   "base_numbering": 1,
   "nav_menu": {},
   "number_sections": true,
   "sideBar": true,
   "skip_h1_title": false,
   "title_cell": "Table of Contents",
   "title_sidebar": "Contents",
   "toc_cell": false,
   "toc_position": {},
   "toc_section_display": true,
   "toc_window_display": false
  }
 },
 "nbformat": 4,
 "nbformat_minor": 4
}