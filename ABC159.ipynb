{
 "cells": [
  {
   "source": [
    "https://atcoder.jp/contests/abc159"
   ],
   "cell_type": "markdown",
   "metadata": {}
  },
  {
   "cell_type": "code",
   "execution_count": 4,
   "metadata": {},
   "outputs": [
    {
     "output_type": "stream",
     "name": "stdout",
     "text": [
      "9\n"
     ]
    }
   ],
   "source": [
    "# 問題A\n",
    "# 組み合わせ\n",
    "\n",
    "N,M = map(int,input().split())\n",
    "\n",
    "A = N*(N-1)/2\n",
    "B = M*(M-1)/2\n",
    "\n",
    "print(int(A+B))"
   ]
  },
  {
   "cell_type": "code",
   "execution_count": 14,
   "metadata": {
    "tags": []
   },
   "outputs": [
    {
     "output_type": "stream",
     "name": "stdout",
     "text": [
      "level le el\nNo\n"
     ]
    }
   ],
   "source": [
    "# 問題B\n",
    "# 回文チェック\n",
    "\n",
    "S = input()\n",
    "\n",
    "flag = 'Yes'\n",
    "N = len(S)\n",
    "\n",
    "tmp0 = S\n",
    "tmp1 = ''\n",
    "tmp2 = ''\n",
    "\n",
    "for i in range((N-1)//2):\n",
    "    tmp1 += S[i]\n",
    "\n",
    "for i in range((N+3)//2-1,N):\n",
    "    tmp2 += S[i]\n",
    "\n",
    "\n",
    "#print(tmp0,tmp1,tmp2)\n",
    "\n",
    "def check(S):\n",
    "    num = len(S)\n",
    "\n",
    "    flag = True\n",
    "    for i in range(num):\n",
    "        if S[i] == S[-(i+1)]:\n",
    "            flag = flag\n",
    "        else:\n",
    "            flag = False\n",
    "            return flag\n",
    "    return flag\n",
    "\n",
    "if check(tmp0) and check(tmp1) and check(tmp2):\n",
    "    print('Yes')\n",
    "else:\n",
    "    print('No')"
   ]
  },
  {
   "cell_type": "code",
   "execution_count": 20,
   "metadata": {},
   "outputs": [
    {
     "output_type": "stream",
     "name": "stdout",
     "text": [
      "37037037.03703704\n"
     ]
    }
   ],
   "source": [
    "# 問題C\n",
    "L = int(input())\n",
    "\n",
    "print(L/3*L/3*L/3)"
   ]
  },
  {
   "cell_type": "code",
   "execution_count": null,
   "metadata": {},
   "outputs": [],
   "source": []
  }
 ],
 "metadata": {
  "kernelspec": {
   "display_name": "Python 3",
   "language": "python",
   "name": "python3"
  },
  "language_info": {
   "codemirror_mode": {
    "name": "ipython",
    "version": 3
   },
   "file_extension": ".py",
   "mimetype": "text/x-python",
   "name": "python",
   "nbconvert_exporter": "python",
   "pygments_lexer": "ipython3",
   "version": "3.8.2-final"
  },
  "toc": {
   "base_numbering": 1,
   "nav_menu": {},
   "number_sections": true,
   "sideBar": true,
   "skip_h1_title": false,
   "title_cell": "Table of Contents",
   "title_sidebar": "Contents",
   "toc_cell": false,
   "toc_position": {},
   "toc_section_display": true,
   "toc_window_display": false
  }
 },
 "nbformat": 4,
 "nbformat_minor": 4
}