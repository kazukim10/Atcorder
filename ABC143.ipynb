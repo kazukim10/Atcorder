{
 "cells": [
  {
   "source": [
    "https://atcoder.jp/contests/abc143"
   ],
   "cell_type": "markdown",
   "metadata": {}
  },
  {
   "cell_type": "code",
   "execution_count": 2,
   "metadata": {},
   "outputs": [
    {
     "output_type": "stream",
     "name": "stdout",
     "text": [
      "0\n"
     ]
    }
   ],
   "source": [
    "# 問題A\n",
    "A,B = map(int,input().split())\n",
    "\n",
    "print(A -2*B if A -2*B>0 else 0)"
   ]
  },
  {
   "cell_type": "code",
   "execution_count": 5,
   "metadata": {},
   "outputs": [
    {
     "output_type": "stream",
     "name": "stdout",
     "text": [
      "312\n"
     ]
    }
   ],
   "source": [
    "# 問題B\n",
    "N = int(input())\n",
    "\n",
    "d = list(map(int,input().split()))\n",
    "\n",
    "ans = 0\n",
    "for i in range(N):\n",
    "    for j in range(N):\n",
    "        if i != j:\n",
    "            ans += d[i]*d[j]\n",
    "print(ans//2)"
   ]
  },
  {
   "cell_type": "code",
   "execution_count": 8,
   "metadata": {},
   "outputs": [
    {
     "output_type": "stream",
     "name": "stdout",
     "text": [
      "10\n"
     ]
    }
   ],
   "source": [
    "# 問題C\n",
    "N = int(input())\n",
    "S = input()\n",
    "\n",
    "ans = 1\n",
    "slime = S[0]\n",
    "for i in range(1,N):\n",
    "    if slime == S[i]:\n",
    "        slime = S[i]\n",
    "    else:\n",
    "        ans += 1\n",
    "        slime = S[i]\n",
    "print(ans)"
   ]
  },
  {
   "cell_type": "code",
   "execution_count": 15,
   "metadata": {},
   "outputs": [
    {
     "output_type": "stream",
     "name": "stdout",
     "text": [
      "23\n"
     ]
    }
   ],
   "source": [
    "# 問題D TLE...\n",
    "import itertools\n",
    "\n",
    "def check(tr):\n",
    "    flag = 1\n",
    "    if tr[0] < tr[1]+tr[2] and tr[1] < tr[0]+tr[2] and tr[2] < tr[1]+tr[0]:\n",
    "        flag = flag\n",
    "    else:\n",
    "        flag = 0\n",
    "\n",
    "    return flag\n",
    "\n",
    "N = int(input())\n",
    "L = list(map(int,input().split()))\n",
    "\n",
    "conb = itertools.combinations(L, 3)\n",
    "\n",
    "print(sum(map(lambda x:check(x),conb)))"
   ]
  },
  {
   "source": [
    "D: Triangles  \n",
    "全ての棒の組について三角形が作れるかをチェックすると，時間計算量が O (N^3) となり，間に合いません.\n",
    "三角形を構成する棒のうち，1 番目と2番目に長いものを固定します\n",
    "(ただし，同じ長さを持つ棒が複数存在する場合は，予め適当に大小関係を定めておきます).\n",
    "このとき，3 番目に長い棒として使える棒は，「2 番目の棒より短く，一定以上の長さを持つもの」で す. このような棒の数は，予め棒の長さをソートしておくと，二分探索で効率的に求めることが出来ます. 以上より，1 番目に長い棒と 2 番目に長い棒の選び方について探索すると，時間計算量 O (N 2 log N ) で答えを求めることが出来ます."
   ],
   "cell_type": "markdown",
   "metadata": {}
  },
  {
   "cell_type": "code",
   "execution_count": null,
   "metadata": {},
   "outputs": [],
   "source": []
  }
 ],
 "metadata": {
  "kernelspec": {
   "display_name": "Python 3",
   "language": "python",
   "name": "python3"
  },
  "language_info": {
   "codemirror_mode": {
    "name": "ipython",
    "version": 3
   },
   "file_extension": ".py",
   "mimetype": "text/x-python",
   "name": "python",
   "nbconvert_exporter": "python",
   "pygments_lexer": "ipython3",
   "version": "3.8.2-final"
  },
  "toc": {
   "base_numbering": 1,
   "nav_menu": {},
   "number_sections": true,
   "sideBar": true,
   "skip_h1_title": false,
   "title_cell": "Table of Contents",
   "title_sidebar": "Contents",
   "toc_cell": false,
   "toc_position": {},
   "toc_section_display": true,
   "toc_window_display": false
  }
 },
 "nbformat": 4,
 "nbformat_minor": 4
}