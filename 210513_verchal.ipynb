{
 "cells": [
  {
   "cell_type": "code",
   "execution_count": 2,
   "metadata": {},
   "outputs": [
    {
     "output_type": "stream",
     "name": "stdout",
     "text": [
      "Even\n"
     ]
    }
   ],
   "source": [
    "# ABC086_A - Product\n",
    "a,b = map(int,input().split())\n",
    "\n",
    "if a*b%2 == 0:\n",
    "    print('Even')\n",
    "else:\n",
    "    print('Odd')"
   ]
  },
  {
   "cell_type": "code",
   "execution_count": 4,
   "metadata": {},
   "outputs": [
    {
     "output_type": "stream",
     "name": "stdout",
     "text": [
      "NO\n"
     ]
    }
   ],
   "source": [
    "# ABC064A - RGB Cards\n",
    "r,g,b = input().split()\n",
    "\n",
    "num = int(r+g+b)\n",
    "\n",
    "if num%4 == 0:\n",
    "    print('YES')\n",
    "else:\n",
    "    print('NO')"
   ]
  },
  {
   "cell_type": "code",
   "execution_count": 6,
   "metadata": {},
   "outputs": [
    {
     "output_type": "stream",
     "name": "stdout",
     "text": [
      "No\n"
     ]
    }
   ],
   "source": [
    "# ABC068A - Infinite Coins\n",
    "N = int(input())\n",
    "A = int(input())\n",
    "\n",
    "if N%500 <= A:\n",
    "    print('Yes')\n",
    "else:\n",
    "    print('No')"
   ]
  },
  {
   "cell_type": "code",
   "execution_count": 8,
   "metadata": {},
   "outputs": [
    {
     "output_type": "stream",
     "name": "stdout",
     "text": [
      "1\n"
     ]
    }
   ],
   "source": [
    "# ABC154A - Duplex Printing\n",
    "import math\n",
    "\n",
    "N = int(input())\n",
    "print(math.ceil(N/2))"
   ]
  },
  {
   "cell_type": "code",
   "execution_count": 10,
   "metadata": {},
   "outputs": [
    {
     "output_type": "stream",
     "name": "stdout",
     "text": [
      "2\n"
     ]
    }
   ],
   "source": [
    "# A - Placing Marbles\n",
    "S = input()\n",
    "print(S.count('1'))"
   ]
  },
  {
   "cell_type": "code",
   "execution_count": 12,
   "metadata": {},
   "outputs": [
    {
     "output_type": "stream",
     "name": "stdout",
     "text": [
      "900\n"
     ]
    }
   ],
   "source": [
    "# ABC095_A - Something on It\n",
    "S = input()\n",
    "print(700+100*S.count('o'))"
   ]
  },
  {
   "cell_type": "code",
   "execution_count": 13,
   "metadata": {},
   "outputs": [
    {
     "output_type": "stream",
     "name": "stdout",
     "text": [
      "2018/01/07\n"
     ]
    }
   ],
   "source": [
    "# A - Already 2018\n",
    "S = list(input())\n",
    "S[:4] = '2018'\n",
    "print(''.join(map(str,S)))"
   ]
  },
  {
   "cell_type": "code",
   "execution_count": 14,
   "metadata": {},
   "outputs": [
    {
     "output_type": "stream",
     "name": "stdout",
     "text": [
      "i18n\n"
     ]
    }
   ],
   "source": [
    "# B - i18n\n",
    "s = list(input())\n",
    "\n",
    "a = s[0]\n",
    "b = len(s[1:-1])\n",
    "c = s[-1]\n",
    "print(a+str(b)+c)"
   ]
  },
  {
   "cell_type": "code",
   "execution_count": 22,
   "metadata": {},
   "outputs": [
    {
     "output_type": "stream",
     "name": "stdout",
     "text": [
      "No\n"
     ]
    }
   ],
   "source": [
    "# B - Two Anagrams\n",
    "s = list(input())\n",
    "t = list(input())\n",
    "\n",
    "s.sort()\n",
    "t.sort(reverse=True)\n",
    "\n",
    "s = ''.join(map(str,s))\n",
    "t = ''.join(map(str,t))\n",
    "\n",
    "ans = [s,t]\n",
    "sss = ans.copy()\n",
    "sss.sort()\n",
    "\n",
    "if ans[0] == sss[0] and s != t:\n",
    "    #print(ans,sss)\n",
    "    print('Yes')\n",
    "else:\n",
    "    print('No')"
   ]
  },
  {
   "cell_type": "code",
   "execution_count": 26,
   "metadata": {},
   "outputs": [
    {
     "output_type": "stream",
     "name": "stdout",
     "text": [
      "8\n"
     ]
    }
   ],
   "source": [
    "# B - Shift only\n",
    "N = int(input())\n",
    "A = list(map(int,input().split()))\n",
    "\n",
    "A.sort()\n",
    "flag = True\n",
    "ans = 0\n",
    "while flag:\n",
    "    tmp = []\n",
    "    for a in A:\n",
    "        if a%2 == 0:\n",
    "            tmp.append(a/2)\n",
    "        else:\n",
    "            flag = False\n",
    "            break\n",
    "    if flag:\n",
    "        ans += 1\n",
    "    \n",
    "    A = tmp\n",
    "    \n",
    "print(ans)"
   ]
  },
  {
   "cell_type": "code",
   "execution_count": 41,
   "metadata": {},
   "outputs": [
    {
     "output_type": "stream",
     "name": "stdout",
     "text": [
      "1\n"
     ]
    }
   ],
   "source": [
    "# B - Break Number\n",
    "N = int(input())\n",
    "\n",
    "ans = 0\n",
    "for i in range(1,N+1):\n",
    "    hold = i\n",
    "    tmp = 0\n",
    "    while i%2==0:\n",
    "        tmp += 1\n",
    "        i /= 2\n",
    "    \n",
    "    if ans <= tmp:\n",
    "        out = hold\n",
    "        ans = tmp\n",
    "print(out)"
   ]
  },
  {
   "cell_type": "code",
   "execution_count": 43,
   "metadata": {},
   "outputs": [
    {
     "output_type": "stream",
     "name": "stdout",
     "text": [
      "0\n"
     ]
    }
   ],
   "source": [
    "# B - Maximum Difference\n",
    "N = int(input())\n",
    "A = list(map(int,input().split()))\n",
    "A.sort()\n",
    "print(A[-1]-A[0])"
   ]
  },
  {
   "cell_type": "code",
   "execution_count": 45,
   "metadata": {},
   "outputs": [
    {
     "output_type": "stream",
     "name": "stdout",
     "text": [
      "3\n"
     ]
    }
   ],
   "source": [
    "# B - Palace\n",
    "N = int(input())\n",
    "T,A = map(int,input().split())\n",
    "H = list(map(int,input().split()))\n",
    "\n",
    "avm = 10**10\n",
    "for i,h in enumerate(H):\n",
    "    ave = T - h*0.006\n",
    "\n",
    "    if abs(ave - A) < avm:\n",
    "        avm = abs(ave - A)\n",
    "        ans = i+1\n",
    "print(ans)"
   ]
  },
  {
   "cell_type": "code",
   "execution_count": 46,
   "metadata": {},
   "outputs": [
    {
     "output_type": "stream",
     "name": "stdout",
     "text": [
      "acdr\n"
     ]
    }
   ],
   "source": [
    "# B - OddString\n",
    "S = list(input())\n",
    "\n",
    "ans = ''\n",
    "for i,s in enumerate(S,1):\n",
    "    if i%2 != 0:\n",
    "        ans += s\n",
    "print(ans)"
   ]
  },
  {
   "cell_type": "code",
   "execution_count": null,
   "metadata": {},
   "outputs": [],
   "source": []
  }
 ],
 "metadata": {
  "kernelspec": {
   "display_name": "Python 3",
   "language": "python",
   "name": "python3"
  },
  "language_info": {
   "codemirror_mode": {
    "name": "ipython",
    "version": 3
   },
   "file_extension": ".py",
   "mimetype": "text/x-python",
   "name": "python",
   "nbconvert_exporter": "python",
   "pygments_lexer": "ipython3",
   "version": "3.8.2"
  },
  "toc": {
   "base_numbering": 1,
   "nav_menu": {},
   "number_sections": true,
   "sideBar": true,
   "skip_h1_title": false,
   "title_cell": "Table of Contents",
   "title_sidebar": "Contents",
   "toc_cell": false,
   "toc_position": {},
   "toc_section_display": true,
   "toc_window_display": false
  }
 },
 "nbformat": 4,
 "nbformat_minor": 4
}