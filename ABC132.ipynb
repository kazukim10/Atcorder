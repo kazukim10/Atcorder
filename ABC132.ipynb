{
 "cells": [
  {
   "cell_type": "markdown",
   "metadata": {},
   "source": [
    "https://atcoder.jp/contests/abc132"
   ]
  },
  {
   "cell_type": "code",
   "execution_count": 2,
   "metadata": {},
   "outputs": [
    {
     "output_type": "stream",
     "name": "stdout",
     "text": [
      "No\n"
     ]
    }
   ],
   "source": [
    "# 問題A\n",
    "S = list(input())\n",
    "\n",
    "count = {}\n",
    "\n",
    "for i in S:\n",
    "    if i not in count:\n",
    "        count[i] = 1\n",
    "    else:\n",
    "        count[i] += 1\n",
    "\n",
    "if len(count) == 2 and count[S[0]] ==2:\n",
    "    print('Yes')\n",
    "else:\n",
    "    print('No')"
   ]
  },
  {
   "cell_type": "code",
   "execution_count": 5,
   "metadata": {},
   "outputs": [
    {
     "output_type": "stream",
     "name": "stdout",
     "text": [
      "2\n"
     ]
    }
   ],
   "source": [
    "# 問題B\n",
    "n = int(input())\n",
    "\n",
    "p = list(map(int,input().split()))\n",
    "\n",
    "ans = 0\n",
    "for i in range(1,n-1):\n",
    "    if p[i-1] <= p[i] <= p[i+1] or p[i+1] <= p[i] <= p[i-1]:\n",
    "        ans += 1\n",
    "print(ans)"
   ]
  },
  {
   "cell_type": "code",
   "execution_count": 36,
   "metadata": {},
   "outputs": [
    {
     "name": "stdout",
     "output_type": "stream",
     "text": [
      "30 -50\n",
      "-1044\n"
     ]
    }
   ],
   "source": [
    "# 問題B\n",
    "N,L = map(int,input().split())\n",
    "\n",
    "app = [ L+a for a in range(N)]\n",
    "\n",
    "m = L\n",
    "for a in app:\n",
    "    #print(m,a)\n",
    "    if abs(m) > abs(a):\n",
    "        m = a\n",
    "\n",
    "\n",
    "print(sum(app)-m)"
   ]
  },
  {
   "cell_type": "code",
   "execution_count": 9,
   "metadata": {},
   "outputs": [
    {
     "output_type": "stream",
     "name": "stdout",
     "text": [
      "42685\n"
     ]
    }
   ],
   "source": [
    "# 問題C\n",
    "n = int(input())\n",
    "\n",
    "d = list(map(int,input().split()))\n",
    "\n",
    "d.sort()\n",
    "#print(d)\n",
    "\n",
    "abc = d[int(len(d)/2)-1]\n",
    "arc = d[int(len(d)/2)]\n",
    "print(arc-abc)"
   ]
  }
 ],
 "metadata": {
  "kernelspec": {
   "display_name": "Python 3",
   "language": "python",
   "name": "python3"
  },
  "language_info": {
   "codemirror_mode": {
    "name": "ipython",
    "version": 3
   },
   "file_extension": ".py",
   "mimetype": "text/x-python",
   "name": "python",
   "nbconvert_exporter": "python",
   "pygments_lexer": "ipython3",
   "version": "3.8.2-final"
  },
  "toc": {
   "base_numbering": 1,
   "nav_menu": {},
   "number_sections": true,
   "sideBar": true,
   "skip_h1_title": false,
   "title_cell": "Table of Contents",
   "title_sidebar": "Contents",
   "toc_cell": false,
   "toc_position": {},
   "toc_section_display": true,
   "toc_window_display": false
  }
 },
 "nbformat": 4,
 "nbformat_minor": 4
}