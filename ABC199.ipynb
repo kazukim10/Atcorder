{
 "cells": [
  {
   "source": [
    "https://atcoder.jp/contests/abc199"
   ],
   "cell_type": "markdown",
   "metadata": {}
  },
  {
   "cell_type": "code",
   "execution_count": 2,
   "metadata": {},
   "outputs": [
    {
     "output_type": "stream",
     "name": "stdout",
     "text": [
      "No\n"
     ]
    }
   ],
   "source": [
    "# 問題A\n",
    "A,B,C = map(int,input().split())\n",
    "\n",
    "if A**2+B**2 < C**2:\n",
    "    print('Yes')\n",
    "    \n",
    "else:\n",
    "    print('No')"
   ]
  },
  {
   "cell_type": "code",
   "execution_count": 13,
   "metadata": {},
   "outputs": [
    {
     "output_type": "stream",
     "name": "stdout",
     "text": [
      "1\n"
     ]
    }
   ],
   "source": [
    "# 問題B\n",
    "N = int(input())\n",
    "\n",
    "A = list(map(int,input().split()))\n",
    "B = list(map(int,input().split()))\n",
    "\n",
    "a_max = max(A)\n",
    "b_min = min(B)\n",
    "\n",
    "ans = 0\n",
    "for i in range(a_max,b_min+1):\n",
    "    ans += 1\n",
    "print(ans)"
   ]
  },
  {
   "cell_type": "code",
   "execution_count": 23,
   "metadata": {},
   "outputs": [
    {
     "output_type": "stream",
     "name": "stdout",
     "text": [
      "LPFI\n"
     ]
    }
   ],
   "source": [
    "# 問題C 条件分岐が必要\n",
    "N = int(input())\n",
    "S = input()\n",
    "Q = int(input())\n",
    "\n",
    "def trans(T,A,B,S):\n",
    "    if T == 1:\n",
    "        a = S[:A-1]\n",
    "        b = S[A-1]\n",
    "        c = S[A:B-1]\n",
    "        d = S[B-1]\n",
    "        e = S[B:]\n",
    "\n",
    "        S = ''.join([a,d,c,b,e])     \n",
    "\n",
    "    else:\n",
    "        a = S[:N]\n",
    "        b = S[N:]\n",
    "        #S = b+a\n",
    "        S = ''.join([b,a])  \n",
    "\n",
    "    return S\n",
    "\n",
    "if Q%2 == 0:\n",
    "    for _ in range(Q//2):\n",
    "        T,A,B = map(int,input().split())\n",
    "        S = trans(T,A,B,S)\n",
    "        T,A,B = map(int,input().split())\n",
    "        S = trans(T,A,B,S)\n",
    "\n",
    "        #print(S)\n",
    "else:\n",
    "    for _ in range(Q//2):\n",
    "        T,A,B = map(int,input().split())\n",
    "        S = trans(T,A,B,S)\n",
    "        T,A,B = map(int,input().split())\n",
    "        S = trans(T,A,B,S)\n",
    "\n",
    "        #print(S)\n",
    "    T,A,B = map(int,input().split())\n",
    "    S = trans(T,A,B,S)\n",
    "print(S)"
   ]
  },
  {
   "cell_type": "code",
   "execution_count": null,
   "metadata": {},
   "outputs": [],
   "source": [
    "N,M = map(int,input().split())\n",
    "\n",
    "dot = {}\n",
    "for i in range(M):\n",
    "    a,b = map(int,input().split())\n",
    "    dot[i] = [a,b]\n"
   ]
  },
  {
   "cell_type": "code",
   "execution_count": 18,
   "metadata": {},
   "outputs": [
    {
     "output_type": "stream",
     "name": "stdout",
     "text": [
      "6402373705728000\n"
     ]
    },
    {
     "output_type": "error",
     "ename": "TypeError",
     "evalue": "object of type 'int' has no len()",
     "traceback": [
      "\u001b[0;31m---------------------------------------------------------------------------\u001b[0m",
      "\u001b[0;31mTypeError\u001b[0m                                 Traceback (most recent call last)",
      "\u001b[0;32m<ipython-input-18-450f2239f80c>\u001b[0m in \u001b[0;36m<module>\u001b[0;34m\u001b[0m\n\u001b[1;32m     26\u001b[0m \u001b[0;34m\u001b[0m\u001b[0m\n\u001b[1;32m     27\u001b[0m     \u001b[0mP\u001b[0m \u001b[0;34m=\u001b[0m \u001b[0mcheck\u001b[0m\u001b[0;34m(\u001b[0m\u001b[0mx\u001b[0m\u001b[0;34m,\u001b[0m\u001b[0my\u001b[0m\u001b[0;34m,\u001b[0m\u001b[0mz\u001b[0m\u001b[0;34m,\u001b[0m\u001b[0mP\u001b[0m\u001b[0;34m)\u001b[0m\u001b[0;34m\u001b[0m\u001b[0;34m\u001b[0m\u001b[0m\n\u001b[0;32m---> 28\u001b[0;31m \u001b[0mprint\u001b[0m\u001b[0;34m(\u001b[0m\u001b[0mlen\u001b[0m\u001b[0;34m(\u001b[0m\u001b[0mP\u001b[0m\u001b[0;34m)\u001b[0m\u001b[0;34m)\u001b[0m\u001b[0;34m\u001b[0m\u001b[0;34m\u001b[0m\u001b[0m\n\u001b[0m",
      "\u001b[0;31mTypeError\u001b[0m: object of type 'int' has no len()"
     ]
    }
   ],
   "source": [
    "import itertools\n",
    "N,M = map(int,input().split())\n",
    "\n",
    "A = [i for i in range(1,N+1)]\n",
    "#print(A)\n",
    "P = 1\n",
    "for a in A[1:]:\n",
    "    P *= a\n",
    "#print(P)\n",
    "#P = list(itertools.permutations(A))\n",
    "#print(P)\n",
    "\n",
    "def check(x,y,z):\n",
    "    tmp = []\n",
    "    for p in P:\n",
    "        #print(p)\n",
    "        a = [i for i in p[:x] if i <= y]\n",
    "        #print(a)\n",
    "        if len(a) <= z:\n",
    "            tmp.append(p)\n",
    "\n",
    "    return tmp \n",
    "\n",
    "for i in range(M):\n",
    "    x,y,z = map(int,input().split())\n",
    "\n",
    "    P -= check(x,y,z)\n",
    "print(P)"
   ]
  },
  {
   "cell_type": "code",
   "execution_count": 22,
   "metadata": {},
   "outputs": [
    {
     "output_type": "stream",
     "name": "stdout",
     "text": [
      "4\n"
     ]
    }
   ],
   "source": [
    "import itertools\n",
    "\n",
    "N,M = map(int,input().split())\n",
    "A = [i for i in range(1,N+1)]\n",
    "P = 6402373705728000\n",
    "\n",
    "def check(x,y,z):\n",
    "    con = list(itertools.permutations(A,x))\n",
    "    tmp = []\n",
    "\n",
    "    for p in con:\n",
    "        #print(p)\n",
    "        a = [i for i in p if i <= y]\n",
    "        if len(a) <= z:\n",
    "            tmp.append(a)\n",
    "        #print(a)\n",
    "\n",
    "    return len(tmp)\n",
    "\n",
    "for i in range(M):\n",
    "    x,y,z = map(int,input().split())\n",
    "    tmp = check(x,y,z)\n",
    "    \n",
    "    if P > tmp:\n",
    "        P = tmp\n",
    "print(P)"
   ]
  },
  {
   "cell_type": "code",
   "execution_count": null,
   "metadata": {},
   "outputs": [],
   "source": [
    "### 以降見直し\n",
    "\n",
    "N = int(input())\n",
    "S = input()\n",
    "Q = int(input())\n",
    "\n",
    "def trans(flag,A,B,S):\n",
    "\n",
    "    if flag%2 == 0:\n",
    "        a = S[:A-1]\n",
    "        b = S[A-1]\n",
    "        c = S[A:B-1]\n",
    "        d = S[B-1]\n",
    "        e = S[B:]\n",
    "        S = ''.join([a,d,c,b,e]) \n",
    "\n",
    "    return S\n",
    "\n",
    "\n",
    "flag = 0\n",
    "for _ in range(Q):\n",
    "    T,A,B = map(int,input().split())\n",
    "\n",
    "    if T == 2:\n",
    "        flag = +1\n",
    "\n",
    "    else: \n",
    "        S = trans(flag,A,B,S)\n",
    "\n",
    "print(S)\n"
   ]
  },
  {
   "cell_type": "code",
   "execution_count": null,
   "metadata": {},
   "outputs": [],
   "source": [
    "import sys\n",
    "input = lambda: sys.stdin.readline().rstrip()\n",
    " \n",
    "def swap(s, a, b):\n",
    "    k = s[a]\n",
    "    s[a] = s[b]\n",
    "    s[b] = k\n",
    " \n",
    "def main():\n",
    "    n = int(input())\n",
    "    s = list(input())\n",
    "    q = int(input())\n",
    "    flag = False\n",
    " \n",
    "    for _ in range(q):\n",
    "        t, a, b = map(int, input().split())\n",
    "        a -= 1\n",
    "        b -= 1\n",
    "        if t == 1:\n",
    "            if flag:\n",
    "                a, b = (x + n if x <= n - 1 else x - n for x in (a, b))\n",
    "                swap(s, a, b)\n",
    "            else:\n",
    "                swap(s, a, b)\n",
    "        elif t == 2:\n",
    "            flag = not flag\n",
    "    if flag:\n",
    "        k = s[:n]\n",
    "        s[:n] = s[-n:]\n",
    "        s[-n:] = k\n",
    "    print(''.join(s))\n",
    " \n",
    "if __name__ == '__main__':\n",
    "    main()"
   ]
  },
  {
   "cell_type": "code",
   "execution_count": 25,
   "metadata": {},
   "outputs": [
    {
     "output_type": "stream",
     "name": "stdout",
     "text": [
      "['a', 'c', 'b']\n"
     ]
    }
   ],
   "source": [
    "# 文字の入れ替え\n",
    "k = list('abc') # ここがポイント\n",
    "\n",
    "t = k[2]\n",
    "k[2] = k[1]\n",
    "k[1] = t\n",
    "print(k)"
   ]
  },
  {
   "cell_type": "code",
   "execution_count": null,
   "metadata": {},
   "outputs": [],
   "source": []
  }
 ],
 "metadata": {
  "kernelspec": {
   "display_name": "Python 3",
   "language": "python",
   "name": "python3"
  },
  "language_info": {
   "codemirror_mode": {
    "name": "ipython",
    "version": 3
   },
   "file_extension": ".py",
   "mimetype": "text/x-python",
   "name": "python",
   "nbconvert_exporter": "python",
   "pygments_lexer": "ipython3",
   "version": "3.8.2"
  },
  "toc": {
   "base_numbering": 1,
   "nav_menu": {},
   "number_sections": true,
   "sideBar": true,
   "skip_h1_title": false,
   "title_cell": "Table of Contents",
   "title_sidebar": "Contents",
   "toc_cell": false,
   "toc_position": {},
   "toc_section_display": true,
   "toc_window_display": false
  }
 },
 "nbformat": 4,
 "nbformat_minor": 4
}