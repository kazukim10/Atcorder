{
 "cells": [
  {
   "source": [
    "https://atcoder.jp/contests/abc162"
   ],
   "cell_type": "markdown",
   "metadata": {}
  },
  {
   "cell_type": "code",
   "execution_count": 2,
   "metadata": {},
   "outputs": [
    {
     "output_type": "stream",
     "name": "stdout",
     "text": [
      "No\n"
     ]
    }
   ],
   "source": [
    "# 問題A\n",
    "N = input()\n",
    "\n",
    "print('Yes' if '7' in N else 'No')"
   ]
  },
  {
   "cell_type": "code",
   "execution_count": 4,
   "metadata": {
    "tags": []
   },
   "outputs": [
    {
     "output_type": "stream",
     "name": "stdout",
     "text": [
      "266666333332\n"
     ]
    }
   ],
   "source": [
    "# 問題B\n",
    "N = int(input())\n",
    "\n",
    "s = 0\n",
    "for i in range(N+1):\n",
    "    if i%5==0 and i%3==0:\n",
    "        s = s\n",
    "    elif i%5==0:\n",
    "        s = s\n",
    "    elif i%3==0:\n",
    "        s = s\n",
    "    else:\n",
    "        s += i\n",
    "print(s)"
   ]
  },
  {
   "cell_type": "code",
   "execution_count": 6,
   "metadata": {},
   "outputs": [
    {
     "output_type": "stream",
     "name": "stdout",
     "text": [
      "10813692\n"
     ]
    }
   ],
   "source": [
    "# 問題C TLE...\n",
    "# 最大公約数　gcd(a,b,c)のsum\n",
    "\n",
    "from functools import reduce\n",
    "import math\n",
    "\n",
    "K = int(input())\n",
    "ans = 0\n",
    "\n",
    "def gcd(*num):\n",
    "    return reduce(math.gcd,num)\n",
    "\n",
    "for i in range(1,K+1):\n",
    "    for j in range(1,K+1):\n",
    "        for l in range(1,K+1):\n",
    "            ans += gcd(i,j,l)\n",
    "print(ans)"
   ]
  },
  {
   "cell_type": "code",
   "execution_count": null,
   "metadata": {},
   "outputs": [],
   "source": []
  }
 ],
 "metadata": {
  "kernelspec": {
   "display_name": "Python 3",
   "language": "python",
   "name": "python3"
  },
  "language_info": {
   "codemirror_mode": {
    "name": "ipython",
    "version": 3
   },
   "file_extension": ".py",
   "mimetype": "text/x-python",
   "name": "python",
   "nbconvert_exporter": "python",
   "pygments_lexer": "ipython3",
   "version": "3.8.2-final"
  },
  "toc": {
   "base_numbering": 1,
   "nav_menu": {},
   "number_sections": true,
   "sideBar": true,
   "skip_h1_title": false,
   "title_cell": "Table of Contents",
   "title_sidebar": "Contents",
   "toc_cell": false,
   "toc_position": {},
   "toc_section_display": true,
   "toc_window_display": false
  }
 },
 "nbformat": 4,
 "nbformat_minor": 4
}