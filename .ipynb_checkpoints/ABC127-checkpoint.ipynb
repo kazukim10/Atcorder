{
 "cells": [
  {
   "cell_type": "markdown",
   "metadata": {},
   "source": [
    "https://atcoder.jp/contests/abc127"
   ]
  },
  {
   "cell_type": "markdown",
   "metadata": {},
   "source": [
    "## 問題1"
   ]
  },
  {
   "cell_type": "code",
   "execution_count": 4,
   "metadata": {},
   "outputs": [
    {
     "name": "stdout",
     "output_type": "stream",
     "text": [
      "30 100\n",
      "100\n"
     ]
    }
   ],
   "source": [
    "A,B = map(int,input().split())\n",
    "\n",
    "if A >= 13:\n",
    "    print(B)\n",
    "elif A <= 5:\n",
    "    print(0)\n",
    "else:\n",
    "    print(int(B/2))"
   ]
  },
  {
   "cell_type": "markdown",
   "metadata": {},
   "source": [
    "## 問題2"
   ]
  },
  {
   "cell_type": "code",
   "execution_count": 5,
   "metadata": {},
   "outputs": [
    {
     "name": "stdout",
     "output_type": "stream",
     "text": [
      "2 10 20\n",
      "30\n",
      "50\n",
      "90\n",
      "170\n",
      "330\n",
      "650\n",
      "1290\n",
      "2570\n",
      "5130\n",
      "10250\n"
     ]
    }
   ],
   "source": [
    "r,D,x = map(int,input().split())\n",
    "\n",
    "for i in range(10):\n",
    "    xi = r*x-D\n",
    "    print(xi)\n",
    "    x = xi"
   ]
  },
  {
   "cell_type": "markdown",
   "metadata": {},
   "source": [
    "## 問題3"
   ]
  },
  {
   "cell_type": "code",
   "execution_count": 9,
   "metadata": {},
   "outputs": [
    {
     "name": "stdout",
     "output_type": "stream",
     "text": [
      "10 3\n",
      "3 6\n",
      "5 7\n",
      "6 9\n",
      "1\n"
     ]
    }
   ],
   "source": [
    "# Time over\n",
    "N,M = map(int,input().split())\n",
    "\n",
    "L,R = map(int,input().split())\n",
    "    \n",
    "ID = [i for i in range(L,R+1) if L <= i <= R] \n",
    "\n",
    "for m in range(M-1):\n",
    "    L,R = map(int,input().split())\n",
    "    \n",
    "    ID = [i for i in ID if L <= i <= R]\n",
    "print(len(ID))"
   ]
  },
  {
   "cell_type": "code",
   "execution_count": 17,
   "metadata": {},
   "outputs": [
    {
     "name": "stdout",
     "output_type": "stream",
     "text": [
      "4 2\n",
      "1 3\n",
      "2 4\n",
      "2\n"
     ]
    }
   ],
   "source": [
    "# Time over\n",
    "import numpy as np\n",
    "\n",
    "N,M = map(int,input().split())\n",
    "\n",
    "L,R = map(int,input().split())\n",
    "    \n",
    "ID = np.array([i for i in range(L,R+1)])\n",
    "\n",
    "for m in range(M-1):\n",
    "    L,R = map(int,input().split())\n",
    "    \n",
    "    ID = ID[(L <= ID)]\n",
    "    ID = ID[(ID <= R)]\n",
    "print(len(ID))"
   ]
  },
  {
   "cell_type": "code",
   "execution_count": 22,
   "metadata": {},
   "outputs": [
    {
     "name": "stdout",
     "output_type": "stream",
     "text": [
      "4 2\n",
      "1 3\n",
      "1 3\n",
      "2 4\n",
      "2 4\n",
      "2\n"
     ]
    }
   ],
   "source": [
    "N,M = map(int,input().split())\n",
    "\n",
    "L = 0\n",
    "R = 1000000\n",
    "\n",
    "for m in range(M):\n",
    "    l,r = map(int,input().split())\n",
    "    \n",
    "    if L < l:\n",
    "        L = l\n",
    "    if R > r:\n",
    "        R = r\n",
    "        \n",
    "    #print(l,r)\n",
    "ID = [i for i in range(L,R+1)] \n",
    "\n",
    "print(len(ID))"
   ]
  },
  {
   "cell_type": "markdown",
   "metadata": {},
   "source": [
    "## 問題4"
   ]
  },
  {
   "cell_type": "code",
   "execution_count": 37,
   "metadata": {},
   "outputs": [
    {
     "name": "stdout",
     "output_type": "stream",
     "text": [
      "3 2\n",
      "100 100 100\n",
      "3 99\n",
      "[100, 100, 100]\n",
      "[100, 100, 100]\n",
      "3 99\n",
      "[100, 100, 100]\n",
      "[100, 100, 100]\n",
      "300\n"
     ]
    }
   ],
   "source": [
    "# Time over\n",
    "N,M = map(int,input().split())\n",
    "\n",
    "A = list(map(int,input().split()))\n",
    "\n",
    "for j in range(M):\n",
    "    A.sort()\n",
    "    #print(A)\n",
    "    \n",
    "    B,C = map(int,input().split())\n",
    "    \n",
    "    ex = [i if i > C else C for i in A[:B]]\n",
    "    print(ex)\n",
    "    \n",
    "    A = A[B:] + ex\n",
    "    print(A)\n",
    "print(sum(A))"
   ]
  },
  {
   "cell_type": "code",
   "execution_count": 41,
   "metadata": {},
   "outputs": [
    {
     "name": "stdout",
     "output_type": "stream",
     "text": [
      "10 3\n",
      "1 8 5 7 100 4 52 33 13 5\n",
      "3 10\n",
      "4 30\n",
      "1 4\n",
      "338\n"
     ]
    }
   ],
   "source": [
    "N,M = map(int,input().split())\n",
    "\n",
    "A = list(map(int,input().split()))\n",
    "A.sort()\n",
    "\n",
    "D = []\n",
    "for j in range(M):\n",
    "    \n",
    "    B,C = map(int,input().split())\n",
    "    \n",
    "    D += [C]*B\n",
    "#print(D)\n",
    "D.sort(reverse=True)\n",
    "#print(D)\n",
    "\n",
    "for i in range(len(D)):\n",
    "    if A[i] < D[i]:\n",
    "        A[i] = D[i]\n",
    "print(sum(A))"
   ]
  },
  {
   "cell_type": "markdown",
   "metadata": {},
   "source": [
    "## "
   ]
  }
 ],
 "metadata": {
  "kernelspec": {
   "display_name": "Python 3",
   "language": "python",
   "name": "python3"
  },
  "language_info": {
   "codemirror_mode": {
    "name": "ipython",
    "version": 3
   },
   "file_extension": ".py",
   "mimetype": "text/x-python",
   "name": "python",
   "nbconvert_exporter": "python",
   "pygments_lexer": "ipython3",
   "version": "3.8.2"
  },
  "toc": {
   "base_numbering": 1,
   "nav_menu": {},
   "number_sections": true,
   "sideBar": true,
   "skip_h1_title": false,
   "title_cell": "Table of Contents",
   "title_sidebar": "Contents",
   "toc_cell": false,
   "toc_position": {},
   "toc_section_display": true,
   "toc_window_display": false
  }
 },
 "nbformat": 4,
 "nbformat_minor": 4
}
