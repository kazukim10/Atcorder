{
 "cells": [
  {
   "cell_type": "markdown",
   "metadata": {},
   "source": [
    "https://atcoder.jp/contests/abc181"
   ]
  },
  {
   "cell_type": "markdown",
   "metadata": {},
   "source": [
    "## 問題1"
   ]
  },
  {
   "cell_type": "code",
   "execution_count": 1,
   "metadata": {},
   "outputs": [
    {
     "name": "stdout",
     "output_type": "stream",
     "text": [
      "2\n",
      "White\n"
     ]
    }
   ],
   "source": [
    "N = int(input())\n",
    "\n",
    "if N%2==0:\n",
    "    print('White')\n",
    "else:\n",
    "    print('Black')\n",
    "    "
   ]
  },
  {
   "cell_type": "markdown",
   "metadata": {},
   "source": [
    "## 問題2"
   ]
  },
  {
   "cell_type": "code",
   "execution_count": 10,
   "metadata": {
    "scrolled": true
   },
   "outputs": [
    {
     "name": "stdout",
     "output_type": "stream",
     "text": [
      "1\n",
      "1 1000000\n",
      "500001000000\n"
     ]
    }
   ],
   "source": [
    "# WA code\n",
    "N = int(input())\n",
    "\n",
    "ans = 0\n",
    "for _ in range(N):\n",
    "    A,B = map(int,input().split())\n",
    "    \n",
    "    if (B-A)%2==0:\n",
    "        #print((B-A+1)*0.5*(B+A))\n",
    "        ans += (B-A+1)*0.5*(B+A)\n",
    "    else:\n",
    "        #print((B-A)*0.5*(B+A)+(B+A))\n",
    "        ans += (B-A)*0.5*(B+A)+(B+A)\n",
    "        \n",
    "print(int(ans))"
   ]
  },
  {
   "cell_type": "code",
   "execution_count": 11,
   "metadata": {},
   "outputs": [
    {
     "name": "stdout",
     "output_type": "stream",
     "text": [
      "1\n",
      "1 1000000\n",
      "500000500000\n"
     ]
    }
   ],
   "source": [
    "N = int(input())\n",
    "\n",
    "ans = 0\n",
    "for i in range(N):\n",
    "    a, b = map(int, input().split())\n",
    "    ans += b * (b + 1) // 2 - a * (a - 1) // 2\n",
    "print(int(ans))"
   ]
  },
  {
   "cell_type": "markdown",
   "metadata": {},
   "source": [
    "## 問題3\n",
    "共線性チェック?\n",
    "原点移動と傾きでチェック"
   ]
  },
  {
   "cell_type": "code",
   "execution_count": null,
   "metadata": {},
   "outputs": [],
   "source": [
    "n = int(input())\n",
    "\n",
    "p = [tuple(map(int, input().split())) for i in range(n)]\n",
    "for i in range(n):\n",
    "    for j in range(i):\n",
    "        for k in range(j):\n",
    "            x1, y1 = p[i]\n",
    "            x2, y2 = p[j]\n",
    "            x3, y3 = p[k]\n",
    "            x1 -= x3\n",
    "            x2 -= x3\n",
    "            y1 -= y3\n",
    "            y2 -= y3\n",
    "            if x1 * y2 == x2 * y1:\n",
    "                print(\"Yes\")\n",
    "                exit()\n",
    "print(\"No\")"
   ]
  }
 ],
 "metadata": {
  "kernelspec": {
   "display_name": "Python 3",
   "language": "python",
   "name": "python3"
  },
  "language_info": {
   "codemirror_mode": {
    "name": "ipython",
    "version": 3
   },
   "file_extension": ".py",
   "mimetype": "text/x-python",
   "name": "python",
   "nbconvert_exporter": "python",
   "pygments_lexer": "ipython3",
   "version": "3.8.2"
  },
  "toc": {
   "base_numbering": 1,
   "nav_menu": {},
   "number_sections": true,
   "sideBar": true,
   "skip_h1_title": false,
   "title_cell": "Table of Contents",
   "title_sidebar": "Contents",
   "toc_cell": false,
   "toc_position": {},
   "toc_section_display": true,
   "toc_window_display": false
  }
 },
 "nbformat": 4,
 "nbformat_minor": 4
}
