{
 "cells": [
  {
   "source": [
    "https://atcoder.jp/contests/abc147"
   ],
   "cell_type": "markdown",
   "metadata": {}
  },
  {
   "cell_type": "code",
   "execution_count": 1,
   "metadata": {},
   "outputs": [
    {
     "output_type": "stream",
     "name": "stdout",
     "text": [
      "win\n"
     ]
    }
   ],
   "source": [
    "# 問題A\n",
    "A,B,C = map(int,input().split())\n",
    "\n",
    "print('win' if A+B+C <= 21 else 'bust')"
   ]
  },
  {
   "cell_type": "code",
   "execution_count": 5,
   "metadata": {},
   "outputs": [
    {
     "output_type": "stream",
     "name": "stdout",
     "text": [
      "c a\nb b\na c\nd d\nc a\nb b\na c\n2\n"
     ]
    }
   ],
   "source": [
    "# 問題B\n",
    "S = input()\n",
    "\n",
    "count = 0\n",
    "for i in range(len(S)):\n",
    "    A = S[-(i+1)]\n",
    "    B = S[i]\n",
    "    #print(A,B)\n",
    "    if A == B:\n",
    "        count = count\n",
    "    else:\n",
    "        count += 1\n",
    "print(count//2)"
   ]
  },
  {
   "cell_type": "code",
   "execution_count": 15,
   "metadata": {},
   "outputs": [
    {
     "output_type": "stream",
     "name": "stdout",
     "text": [
      "0 0\n1 1\n"
     ]
    }
   ],
   "source": [
    "# 問題C\n",
    "# tag bit全探索\n",
    "\n",
    "N = int(input())\n",
    "A = {}\n",
    "\n",
    "for i in range(N):\n",
    "    a = int(input())\n",
    "    S = {}\n",
    "\n",
    "    for j in range(a):\n",
    "        n,k = map(int,input().split())\n",
    "        S[n] = k\n",
    "         \n",
    "    A[i+1] = S\n",
    "\n",
    "def check(A, C, mans):\n",
    "    flag = True\n",
    "    tmp = []\n",
    "\n",
    "    for i in range(N-mans):\n",
    "        if C[i+1] == 1:\n",
    "            \n",
    "\n",
    "        \n",
    "        if  == N:\n",
    "        return count\n",
    "\n",
    "    else:\n",
    "        i += 1\n",
    "        check(i,count)"
   ]
  },
  {
   "cell_type": "code",
   "execution_count": null,
   "metadata": {},
   "outputs": [],
   "source": [
    "1"
   ]
  }
 ],
 "metadata": {
  "kernelspec": {
   "display_name": "Python 3",
   "language": "python",
   "name": "python3"
  },
  "language_info": {
   "codemirror_mode": {
    "name": "ipython",
    "version": 3
   },
   "file_extension": ".py",
   "mimetype": "text/x-python",
   "name": "python",
   "nbconvert_exporter": "python",
   "pygments_lexer": "ipython3",
   "version": "3.8.2-final"
  },
  "toc": {
   "base_numbering": 1,
   "nav_menu": {},
   "number_sections": true,
   "sideBar": true,
   "skip_h1_title": false,
   "title_cell": "Table of Contents",
   "title_sidebar": "Contents",
   "toc_cell": false,
   "toc_position": {},
   "toc_section_display": true,
   "toc_window_display": false
  }
 },
 "nbformat": 4,
 "nbformat_minor": 4
}