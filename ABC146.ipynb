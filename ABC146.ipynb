{
 "cells": [
  {
   "source": [
    "https://atcoder.jp/contests/abc146"
   ],
   "cell_type": "markdown",
   "metadata": {}
  },
  {
   "cell_type": "code",
   "execution_count": 3,
   "metadata": {},
   "outputs": [
    {
     "output_type": "stream",
     "name": "stdout",
     "text": [
      "7\n"
     ]
    }
   ],
   "source": [
    "# 問題A\n",
    "S = input()\n",
    "\n",
    "week = {'SUN':7,'MON':1,'TUE':2,'WED':3,'THU':4,'FRI':5,'SAT':6}\n",
    "print(week['SUN'] -week[S] if S !='SUN' else 7)"
   ]
  },
  {
   "cell_type": "code",
   "execution_count": 30,
   "metadata": {},
   "outputs": [
    {
     "output_type": "stream",
     "name": "stdout",
     "text": [
      "CDEZAB\n"
     ]
    }
   ],
   "source": [
    "# 問題B\n",
    "N = int(input())\n",
    "S = list(input())\n",
    "#print(S)\n",
    "\n",
    "spell = {'A':0,'B':1,'C':2,'D':3,'E':4,'F':5,'G':6,\n",
    "         'H':7,'I':8,'J':9,'K':10,'L':11,'M':12,'N':13,\n",
    "         'O':14,'P':15,'Q':16,'R':17,'S':18,'T':19,'U':20,\n",
    "         'V':21,'W':22,'X':23,'Y':24,'Z':25}\n",
    "\n",
    "key = list(spell.keys())\n",
    "#print(key)\n",
    "\n",
    "ans = ''\n",
    "for i in S:\n",
    "    #print(spell[i])\n",
    "    #print(key[spell[i]+N])\n",
    "    if spell[i]+N <= 25:\n",
    "        ans += key[spell[i]+N]\n",
    "    else:\n",
    "        ans += key[spell[i]+N-26]\n",
    "print(ans)"
   ]
  },
  {
   "cell_type": "code",
   "execution_count": 76,
   "metadata": {},
   "outputs": [
    {
     "output_type": "stream",
     "name": "stdout",
     "text": [
      "254309\n"
     ]
    }
   ],
   "source": [
    "# 問題C\n",
    "A,B,X = map(int,input().split())\n",
    "\n",
    "mi = 0\n",
    "ma = 10**9\n",
    "\n",
    "if A*ma+B*len(str(ma)) <=X:\n",
    "    mi = ma\n",
    "    \n",
    "else:\n",
    "    while ma-mi>1:\n",
    "        m = (ma+mi)//2\n",
    "\n",
    "        if A*m+B*len(str(m)) <=X:\n",
    "            mi = m\n",
    "\n",
    "        else:\n",
    "            ma = m\n",
    "\n",
    "        #print(A*m+B*len(str(m)),mi,ma)\n",
    "print(mi)"
   ]
  },
  {
   "cell_type": "code",
   "execution_count": 91,
   "metadata": {},
   "outputs": [
    {
     "output_type": "stream",
     "name": "stdout",
     "text": [
      "1 0 5000\n2 0 2500\n3 0 1250\n4 0 625\n5 0 312\n6 0 156\n7 78 156\n8 78 117\n9 78 97\n10 87 97\n11 87 92\n12 87 89\n13 87 88\nCOUNT13//ANSWER88\n"
     ]
    }
   ],
   "source": [
    "# 2分探索\n",
    "l = 0\n",
    "m = 10000\n",
    "pred = int(input())\n",
    "\n",
    "count = 0\n",
    "while m-l>1:\n",
    "    count += 1\n",
    "    n = (l+m)//2\n",
    "    if n < pred:\n",
    "        l = n\n",
    "    else:\n",
    "        m = n\n",
    "    print(count,l,m)\n",
    "print('COUNT{}//ANSWER{}'.format(count,m))"
   ]
  },
  {
   "cell_type": "code",
   "execution_count": null,
   "metadata": {},
   "outputs": [],
   "source": []
  }
 ],
 "metadata": {
  "kernelspec": {
   "display_name": "Python 3",
   "language": "python",
   "name": "python3"
  },
  "language_info": {
   "codemirror_mode": {
    "name": "ipython",
    "version": 3
   },
   "file_extension": ".py",
   "mimetype": "text/x-python",
   "name": "python",
   "nbconvert_exporter": "python",
   "pygments_lexer": "ipython3",
   "version": "3.8.2-final"
  },
  "toc": {
   "base_numbering": 1,
   "nav_menu": {},
   "number_sections": true,
   "sideBar": true,
   "skip_h1_title": false,
   "title_cell": "Table of Contents",
   "title_sidebar": "Contents",
   "toc_cell": false,
   "toc_position": {},
   "toc_section_display": true,
   "toc_window_display": false
  }
 },
 "nbformat": 4,
 "nbformat_minor": 4
}