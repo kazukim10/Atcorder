{
 "cells": [
  {
   "cell_type": "markdown",
   "metadata": {},
   "source": [
    "https://atcoder.jp/contests/abc185"
   ]
  },
  {
   "cell_type": "markdown",
   "metadata": {},
   "source": [
    "## 問題1"
   ]
  },
  {
   "cell_type": "code",
   "execution_count": 2,
   "metadata": {
    "scrolled": true
   },
   "outputs": [
    {
     "name": "stdout",
     "output_type": "stream",
     "text": [
      "3 1 1 1\n",
      "1\n"
     ]
    }
   ],
   "source": [
    "A = list(map(int,input().split()))\n",
    "\n",
    "print(min(A))"
   ]
  },
  {
   "cell_type": "markdown",
   "metadata": {},
   "source": [
    "## 問題2"
   ]
  },
  {
   "cell_type": "code",
   "execution_count": 11,
   "metadata": {},
   "outputs": [
    {
     "name": "stdout",
     "output_type": "stream",
     "text": [
      "20 1 30\n",
      "1 10\n",
      "No\n"
     ]
    }
   ],
   "source": [
    "N,M,T = map(int,input().split())\n",
    "\n",
    "max_N = N\n",
    "\n",
    "t = 0.0\n",
    "flag = True\n",
    "\n",
    "for m in range(M):\n",
    "    a,b = map(int,input().split())\n",
    "    \n",
    "    t1 = N - (a-t)\n",
    "    t2 = t1 + (b-a)\n",
    "    \n",
    "    if t2 >= max_N:\n",
    "        t2 = max_N\n",
    "    \n",
    "    if t1 <= 0:\n",
    "        flag = False\n",
    "        break\n",
    "        \n",
    "    N = t2\n",
    "    t = b\n",
    "\n",
    "last = N - (T-t)\n",
    "\n",
    "if flag and last > 0:\n",
    "    print('Yes')\n",
    "else:\n",
    "    print('No')"
   ]
  },
  {
   "cell_type": "code",
   "execution_count": 35,
   "metadata": {},
   "outputs": [
    {
     "output_type": "stream",
     "name": "stdout",
     "text": [
      "4368\n"
     ]
    }
   ],
   "source": [
    "# C - Duodecim Ferra\n",
    "from scipy.special import comb # AtCoder PyPy3不可\n",
    "\n",
    "'''\n",
    "L = int(input())\n",
    "\n",
    "split = L -1\n",
    "\n",
    "ans = 0\n",
    "for i in range(2**split):\n",
    "    s = 0\n",
    "    for j in range(split):\n",
    "        if (i >> j)&1:\n",
    "            s += 1\n",
    "        \n",
    "    if s == 11:\n",
    "        ans += 1\n",
    "print(ans)\n",
    "'''\n",
    "\n",
    "L = int(input())\n",
    "split = L -1\n",
    "\n",
    "a = comb(split, 11, exact=True)\n",
    "print(a)"
   ]
  },
  {
   "cell_type": "code",
   "execution_count": null,
   "metadata": {},
   "outputs": [],
   "source": []
  }
 ],
 "metadata": {
  "kernelspec": {
   "display_name": "Python 3",
   "language": "python",
   "name": "python3"
  },
  "language_info": {
   "codemirror_mode": {
    "name": "ipython",
    "version": 3
   },
   "file_extension": ".py",
   "mimetype": "text/x-python",
   "name": "python",
   "nbconvert_exporter": "python",
   "pygments_lexer": "ipython3",
   "version": "3.8.2"
  },
  "toc": {
   "base_numbering": 1,
   "nav_menu": {},
   "number_sections": true,
   "sideBar": true,
   "skip_h1_title": false,
   "title_cell": "Table of Contents",
   "title_sidebar": "Contents",
   "toc_cell": false,
   "toc_position": {},
   "toc_section_display": true,
   "toc_window_display": false
  }
 },
 "nbformat": 4,
 "nbformat_minor": 4
}