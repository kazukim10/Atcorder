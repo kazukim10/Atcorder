{
 "cells": [
  {
   "source": [
    "https://atcoder.jp/contests/abc152"
   ],
   "cell_type": "markdown",
   "metadata": {}
  },
  {
   "cell_type": "code",
   "execution_count": 23,
   "metadata": {},
   "outputs": [
    {
     "output_type": "stream",
     "name": "stdout",
     "text": [
      "No\n"
     ]
    }
   ],
   "source": [
    "# 問題A\n",
    "N,M = map(int,input().split())\n",
    "\n",
    "print('Yes' if N==M else 'No')"
   ]
  },
  {
   "cell_type": "code",
   "execution_count": 34,
   "metadata": {},
   "outputs": [
    {
     "output_type": "stream",
     "name": "stdout",
     "text": [
      "7777777\n"
     ]
    }
   ],
   "source": [
    "# 問題B\n",
    "a,b = input().split()\n",
    "\n",
    "dic = {'sa':'','sb':''}\n",
    "\n",
    "for i in range(int(b)):\n",
    "    dic['sa'] += a\n",
    "\n",
    "for j in range(int(a)):\n",
    "    dic['sb'] += b\n",
    "\n",
    "print(sorted(dic.values())[0])"
   ]
  },
  {
   "cell_type": "code",
   "execution_count": 12,
   "metadata": {},
   "outputs": [
    {
     "output_type": "stream",
     "name": "stdout",
     "text": [
      "4\n"
     ]
    }
   ],
   "source": [
    "# 問題C\n",
    "\n",
    "N = int(input())\n",
    "P = list(map(int,input().split()))\n",
    "\n",
    "ans = 1\n",
    "ma_ = P[0]\n",
    "for i in range(1,N):\n",
    "    if ma_ >= P[i]:\n",
    "        ans += 1\n",
    "        ma_ = P[i]\n",
    "\n",
    "print(ans)"
   ]
  }
 ],
 "metadata": {
  "kernelspec": {
   "display_name": "Python 3",
   "language": "python",
   "name": "python3"
  },
  "language_info": {
   "codemirror_mode": {
    "name": "ipython",
    "version": 3
   },
   "file_extension": ".py",
   "mimetype": "text/x-python",
   "name": "python",
   "nbconvert_exporter": "python",
   "pygments_lexer": "ipython3",
   "version": "3.8.2-final"
  },
  "toc": {
   "base_numbering": 1,
   "nav_menu": {},
   "number_sections": true,
   "sideBar": true,
   "skip_h1_title": false,
   "title_cell": "Table of Contents",
   "title_sidebar": "Contents",
   "toc_cell": false,
   "toc_position": {},
   "toc_section_display": true,
   "toc_window_display": false
  }
 },
 "nbformat": 4,
 "nbformat_minor": 4
}