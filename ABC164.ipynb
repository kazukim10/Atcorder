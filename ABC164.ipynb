{
 "cells": [
  {
   "source": [
    "https://atcoder.jp/contests/abc164"
   ],
   "cell_type": "markdown",
   "metadata": {}
  },
  {
   "cell_type": "code",
   "execution_count": 5,
   "metadata": {},
   "outputs": [
    {
     "output_type": "stream",
     "name": "stdout",
     "text": [
      "Yes\n"
     ]
    }
   ],
   "source": [
    "# 問題B\n",
    "A,B,C,D = map(int,input().split())\n",
    "\n",
    "while A > 0 and C > 0:\n",
    "    \n",
    "    C -= B\n",
    "    if C <= 0:\n",
    "        print('Yes')\n",
    "        break\n",
    "    A -= D\n",
    "    if A <= 0:\n",
    "        print('No')\n",
    "        break"
   ]
  },
  {
   "cell_type": "code",
   "execution_count": 1,
   "metadata": {},
   "outputs": [
    {
     "output_type": "stream",
     "name": "stdout",
     "text": [
      "3\n"
     ]
    }
   ],
   "source": [
    "# 問題C\n",
    "N = int(input())\n",
    "\n",
    "get = {}\n",
    "for i in range(N):\n",
    "    s = input()\n",
    "\n",
    "    if s not in get:\n",
    "        get[s] = 1\n",
    "    else:\n",
    "        get[s] += 1\n",
    "\n",
    "print(len(get))"
   ]
  },
  {
   "cell_type": "code",
   "execution_count": null,
   "metadata": {},
   "outputs": [],
   "source": []
  }
 ],
 "metadata": {
  "kernelspec": {
   "display_name": "Python 3",
   "language": "python",
   "name": "python3"
  },
  "language_info": {
   "codemirror_mode": {
    "name": "ipython",
    "version": 3
   },
   "file_extension": ".py",
   "mimetype": "text/x-python",
   "name": "python",
   "nbconvert_exporter": "python",
   "pygments_lexer": "ipython3",
   "version": "3.8.2-final"
  },
  "toc": {
   "base_numbering": 1,
   "nav_menu": {},
   "number_sections": true,
   "sideBar": true,
   "skip_h1_title": false,
   "title_cell": "Table of Contents",
   "title_sidebar": "Contents",
   "toc_cell": false,
   "toc_position": {},
   "toc_section_display": true,
   "toc_window_display": false
  }
 },
 "nbformat": 4,
 "nbformat_minor": 4
}